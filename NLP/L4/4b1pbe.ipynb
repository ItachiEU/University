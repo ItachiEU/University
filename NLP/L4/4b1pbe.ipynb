{
 "metadata": {
  "language_info": {
   "codemirror_mode": {
    "name": "ipython",
    "version": 3
   },
   "file_extension": ".py",
   "mimetype": "text/x-python",
   "name": "python",
   "nbconvert_exporter": "python",
   "pygments_lexer": "ipython3",
   "version": "3.8.5-final"
  },
  "orig_nbformat": 2,
  "kernelspec": {
   "name": "python38564bit15739fc702ac4a39a51b6a8572e59d06",
   "display_name": "Python 3.8.5 64-bit",
   "language": "python"
  }
 },
 "nbformat": 4,
 "nbformat_minor": 2,
 "cells": [
  {
   "source": [
    "## Attempt 3 - task 2 + attempt 2 idea\n"
   ],
   "cell_type": "markdown",
   "metadata": {}
  },
  {
   "cell_type": "code",
   "execution_count": 1,
   "metadata": {},
   "outputs": [],
   "source": [
    "from collections import defaultdict\n",
    "\n",
    "sentences = list()\n",
    "\n",
    "tests = list()\n",
    "\n",
    "with open('../../NLP_Resources/sentences_for_task1.txt') as f:\n",
    "    for line in f:\n",
    "        sentences.append(line)\n",
    "\n",
    "with open('../../NLP_Resources/test_for_task1.txt') as f:\n",
    "    for line in f:\n",
    "        tests.append(tuple(line.split()))"
   ]
  },
  {
   "cell_type": "code",
   "execution_count": 2,
   "metadata": {},
   "outputs": [
    {
     "output_type": "stream",
     "name": "stdout",
     "text": [
      "0 / 677\n",
      "100 / 677\n",
      "200 / 677\n",
      "300 / 677\n",
      "400 / 677\n",
      "500 / 677\n",
      "600 / 677\n"
     ]
    }
   ],
   "source": [
    "import copy\n",
    "\n",
    "sufiksySorted = defaultdict(int)\n",
    "prefiksySorted = defaultdict(int)\n",
    "\n",
    "def insertSpaces(sentences, k):\n",
    "    corp = copy.deepcopy(sentences)\n",
    "\n",
    "    for i in range(len(corp)):\n",
    "        curr = corp[i]\n",
    "        curr = curr.strip()\n",
    "        pref = curr[:k+1]\n",
    "        suf = curr[-k-1:]\n",
    "        sufiksySorted[suf] +=1\n",
    "        prefiksySorted[pref] += 1\n",
    "    \n",
    "    prefiksy = list()\n",
    "    sufiksy = list()\n",
    "\n",
    "    for k in sufiksySorted.keys():\n",
    "        sufiksy.append((sufiksySorted[k], k))\n",
    "    \n",
    "    for k in prefiksySorted.keys():\n",
    "        prefiksy.append((prefiksySorted[k], k))\n",
    "\n",
    "    prefiksy = sorted(prefiksy, reverse=True)\n",
    "    prefiksy = [x for x in prefiksy if x[0] > 10]\n",
    "    sufiksy = sorted(sufiksy, reverse=True)\n",
    "    sufiksy = [x for x in sufiksy if x[0] > 10]\n",
    "    # print(prefiksy)\n",
    "    # print(sufiksy)\n",
    "    # return\n",
    "\n",
    "    for i in range(max(len(prefiksy), len(sufiksy))):\n",
    "        if i < len(prefiksy):\n",
    "            pref = prefiksy[i][1]\n",
    "            for k in range(len(corp)):\n",
    "                corp[k] = corp[k].replace(pref, \" \" + pref)\n",
    "        if i < len(sufiksy):\n",
    "            suf = sufiksy[i][1]\n",
    "            for k in range(len(corp)):\n",
    "                corp[k] = corp[k].replace(suf, suf+\" \")\n",
    "        if i % 100 == 0:\n",
    "            print(i, '/', max(len(prefiksy), len(sufiksy)))\n",
    "    \n",
    "    return corp\n",
    "\n",
    "new_corp = insertSpaces(sentences, 5)"
   ]
  },
  {
   "cell_type": "code",
   "execution_count": 3,
   "metadata": {},
   "outputs": [
    {
     "output_type": "stream",
     "name": "stdout",
     "text": [
      "done 7\n",
      "done 8\n"
     ]
    }
   ],
   "source": [
    " gram7 = defaultdict(lambda: 0.000000001)\n",
    " gram8 = defaultdict(lambda: 0.000000001)\n",
    " gram6 = defaultdict(lambda: 0.000000001)\n",
    "\n",
    " gram7sum = 0   \n",
    " for sentence in new_corp:\n",
    "     sentence = sentence.strip()\n",
    "     for sentence in sentence.split():\n",
    "        sentence = \"<BOS>\" + sentence + \"<EOS>\"\n",
    "        word = sentence[:7]\n",
    "        for i in range(7, len(sentence)):\n",
    "            gram7[word] += 1\n",
    "            gram7sum += 1\n",
    "            word = word[1:] + sentence[i]\n",
    "print(\"done 7\")\n",
    "gram8sum = 0\n",
    " for sentence in new_corp:\n",
    "     sentence = sentence.strip()\n",
    "     for sentence in sentence.split():\n",
    "        sentence = \"<BOS>\" + sentence + \"<EOS>\"\n",
    "        word = sentence[:8]\n",
    "        for i in range(8, len(sentence)):\n",
    "            gram8[word] += 1\n",
    "            gram8sum += 1\n",
    "            word = word[1:] + sentence[i]\n",
    "print(\"done 8\")\n",
    "gram6sum = 0\n",
    " for sentence in new_corp:\n",
    "     sentence = sentence.strip()\n",
    "     for sentence in sentence.split():\n",
    "        sentence = \"<BOS>\" + sentence + \"<EOS>\"\n",
    "        word = sentence[:6]\n",
    "        for i in range(6, len(sentence)):\n",
    "            gram6[word] += 1\n",
    "            gram6sum += 1\n",
    "            word = word[1:] + sentence[i]\n",
    "    "
   ]
  },
  {
   "cell_type": "code",
   "execution_count": 4,
   "metadata": {},
   "outputs": [
    {
     "output_type": "stream",
     "name": "stdout",
     "text": [
      "0.868505\n"
     ]
    }
   ],
   "source": [
    "import numpy as np\n",
    "\n",
    "def test8():\n",
    "    def eval(sentence):\n",
    "        word = sentence[:8]\n",
    "        sum = 0\n",
    "        for i in range(8, len(sentence)):\n",
    "            sum += np.log(gram8[word]/gram8sum)\n",
    "            word = word[1:] + sentence[i]\n",
    "        return sum\n",
    "\n",
    "    result = 0\n",
    "\n",
    "    for test in tests:\n",
    "        w1, w2 = test\n",
    "        w1 = \"<BOS>\"+w1+\"<EOS>\"\n",
    "        w2 = \"<BOS>\"+w2+\"<EOS>\"\n",
    "\n",
    "        score1, score2 = eval(w1), eval(w2)\n",
    "\n",
    "        if score1 > score2:\n",
    "            result += 1\n",
    "        elif score1 == score2:\n",
    "            result += 0.5\n",
    "\n",
    "    print(result / len(tests))\n",
    "test8()"
   ]
  },
  {
   "cell_type": "code",
   "execution_count": 5,
   "metadata": {},
   "outputs": [
    {
     "output_type": "stream",
     "name": "stdout",
     "text": [
      "0.82155\n"
     ]
    }
   ],
   "source": [
    "def test6():\n",
    "    def eval(sentence):\n",
    "        word = sentence[:6]\n",
    "        sum = 0\n",
    "        for i in range(6, len(sentence)):\n",
    "            sum += np.log(gram6[word]/gram6sum)\n",
    "            word = word[1:] + sentence[i]\n",
    "        return sum\n",
    "\n",
    "    result = 0\n",
    "\n",
    "    for test in tests:\n",
    "        w1, w2 = test\n",
    "        w1 = \"<BOS>\"+w1+\"<EOS>\"\n",
    "        w2 = \"<BOS>\"+w2+\"<EOS>\"\n",
    "\n",
    "        score1, score2 = eval(w1), eval(w2)\n",
    "\n",
    "        if score1 > score2:\n",
    "            result += 1\n",
    "        elif score1 == score2:\n",
    "            result += 0.5\n",
    "\n",
    "    print(result / len(tests))\n",
    "test6()"
   ]
  },
  {
   "cell_type": "code",
   "execution_count": 6,
   "metadata": {},
   "outputs": [
    {
     "output_type": "stream",
     "name": "stdout",
     "text": [
      "0.85838\n"
     ]
    }
   ],
   "source": [
    "def test7():\n",
    "    def eval(sentence):\n",
    "        word = sentence[:7]\n",
    "        sum = 0\n",
    "        for i in range(7, len(sentence)):\n",
    "            sum += np.log(gram7[word]/gram7sum)\n",
    "            word = word[1:] + sentence[i]\n",
    "        return sum\n",
    "\n",
    "    result = 0\n",
    "\n",
    "    for test in tests:\n",
    "        w1, w2 = test\n",
    "        w1 = \"<BOS>\"+w1+\"<EOS>\"\n",
    "        w2 = \"<BOS>\"+w2+\"<EOS>\"\n",
    "\n",
    "        score1, score2 = eval(w1), eval(w2)\n",
    "\n",
    "        if score1 > score2:\n",
    "            result += 1\n",
    "        elif score1 == score2:\n",
    "            result += 0.5\n",
    "\n",
    "    print(result / len(tests))\n",
    "test7()"
   ]
  },
  {
   "cell_type": "code",
   "execution_count": 7,
   "metadata": {},
   "outputs": [
    {
     "output_type": "stream",
     "name": "stdout",
     "text": [
      "[' systemeuroratychceszkupować więcej niżgdzieindziej\\n', 'możetenprzypadekodstraszyinnych kłusowników  odtego procederu\\n', 'pozwólwięcsobieoszczędzićtrochęczasuipieniędzy  dzięki wykonaniulustracji \\n', ' ministerstwonie zmniejszyłopersaldo finansowania szkolnictwa zawodowego jedyniedoprecyzowało finansowanie  zgodniez istniejącymstanemfaktyczny m \\n', 'brakwpłatyzadatku wiążesięzanulowanie mwstępnejrezerwacjibez potwierdzenia \\n', 'witamwdzisiejszymodcinkupokażewamśnieżkęktórapotrafistawiaćpajęczynyorazpająkaktóryzostawiazasobąmnóstwopajęczyn\\n', 'urzymian podobniephalerae wkrótcestałysię rodzajem odznaczenia zamęstwoprzyznawanego konkretnymżołnierzomlubcałym jednostkom\\n', 'teraz możeszwydłużyćważnośćswojegokontana połączenia wychodzącedo\\n', ' ktowstrzymałsięodgłosu \\n', 'dużą popularnością wśród policjantówi pracowników  policji ciesząsięmaratony\\n']\n"
     ]
    }
   ],
   "source": [
    "print(new_corp[:10])"
   ]
  },
  {
   "cell_type": "code",
   "execution_count": null,
   "metadata": {},
   "outputs": [],
   "source": []
  }
 ]
}