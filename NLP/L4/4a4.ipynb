{
 "metadata": {
  "language_info": {
   "codemirror_mode": {
    "name": "ipython",
    "version": 3
   },
   "file_extension": ".py",
   "mimetype": "text/x-python",
   "name": "python",
   "nbconvert_exporter": "python",
   "pygments_lexer": "ipython3",
   "version": "3.8.3-final"
  },
  "orig_nbformat": 2,
  "kernelspec": {
   "name": "python38364bitbasecondaf4be06a55f9940d9b46d9c3b02ee5626",
   "display_name": "Python 3.8.3 64-bit ('base': conda)",
   "language": "python"
  }
 },
 "nbformat": 4,
 "nbformat_minor": 2,
 "cells": [
  {
   "cell_type": "code",
   "execution_count": 1,
   "metadata": {},
   "outputs": [],
   "source": [
    "import numpy as np\n",
    "from collections import defaultdict\n",
    "\n",
    "wordToSupertag = dict()\n",
    "with open('../../NLP_Resources/supertags.txt') as f:\n",
    "    temp = [tuple(x.split()) for x in f]\n",
    "    wordToSupertag = {word: tag for (word, tag) in temp}"
   ]
  },
  {
   "cell_type": "code",
   "execution_count": 2,
   "metadata": {},
   "outputs": [],
   "source": [
    "wordToBase = dict()\n",
    "\n",
    "with open('../../NLP_Resources/superbazy.txt') as f:\n",
    "    temp = [tuple(x.split()) for x in f]\n",
    "    wordToBase = {word: base for (word, base) in temp}"
   ]
  },
  {
   "cell_type": "code",
   "execution_count": 3,
   "metadata": {},
   "outputs": [],
   "source": [
    "vowels = {'a', 'e', 'i', 'o', 'u', 'ę', 'ą', 'ó', 'y'}\n",
    "\n",
    "def getRhyme(s):\n",
    "    count = 0\n",
    "    for i in range(len(s)-1, -1, -1):\n",
    "        if s[i] == 'i' and i+1 < len(s) and s[i+1] in vowels:\n",
    "            continue\n",
    "        if s[i] in vowels:\n",
    "            count += 1\n",
    "        if count == 2:\n",
    "            return s[i:]\n",
    "    return s\n",
    "\n",
    "def countSyllables(s):\n",
    "    count = 0\n",
    "\n",
    "    for i in range(len(s)):\n",
    "        if s[i-1] == 'i' and s[i] in vowels:\n",
    "            continue\n",
    "\n",
    "        if s[i] in vowels:\n",
    "            count += 1\n",
    "    return count"
   ]
  },
  {
   "cell_type": "code",
   "execution_count": 4,
   "metadata": {},
   "outputs": [],
   "source": [
    "import random\n",
    "\n",
    "findRhymeDict = defaultdict(lambda: defaultdict(lambda: defaultdict(list))) #sylaby->tag->rym->[lista]\n",
    "\n",
    "candidatesDict = defaultdict(lambda: defaultdict(list))\n",
    "\n",
    "with open('../../NLP_Resources/supertags.txt') as f:\n",
    "    for line in f:\n",
    "        word, tag = line.split()\n",
    "        \n",
    "        sylaby = countSyllables(word)\n",
    "\n",
    "        rym = getRhyme(word)\n",
    "\n",
    "        findRhymeDict[sylaby][tag][rym].append(word)\n",
    "\n",
    "        candidatesDict[sylaby][tag].append(word)\n"
   ]
  },
  {
   "cell_type": "code",
   "execution_count": 5,
   "metadata": {},
   "outputs": [],
   "source": [
    "sentences = []\n",
    "\n",
    "with open('../../NLP_Resources/rytmiczne_zdania_z_korpusu.txt') as f:\n",
    "    for line in f:\n",
    "        startIndex = line.find(':') + 1\n",
    "        line = line[startIndex:len(line)-2].strip()\n",
    "        sentences.append(line)\n",
    "        "
   ]
  },
  {
   "cell_type": "code",
   "execution_count": 6,
   "metadata": {
    "tags": []
   },
   "outputs": [],
   "source": [
    "import sklearn.preprocessing\n",
    "\n",
    "base_vectors = {}\n",
    "with open('../../NLP_Resources/poleval_base_vectors.txt') as f:\n",
    "    for line in f:\n",
    "        lineSplit = line.split()\n",
    "        vec = np.array([[np.float64(x) for x in lineSplit[1:]]])\n",
    "        sklearn.preprocessing.normalize(vec, copy=False)\n",
    "        base_vectors[lineSplit[0]] = vec[0]\n"
   ]
  },
  {
   "cell_type": "code",
   "execution_count": 7,
   "metadata": {},
   "outputs": [],
   "source": [
    "def findWord(word, rhyme = False):\n",
    "    base = wordToBase[word]\n",
    "    tag = wordToSupertag[word]\n",
    "    sylables = countSyllables(word)\n",
    "    \n",
    "    if rhyme:\n",
    "        rym = getRhyme(word)\n",
    "        candidates = findRhymeDict[sylables][tag][rym]\n",
    "    else:\n",
    "        candidates = candidatesDict[sylables][tag]\n",
    "\n",
    "    bestOption = chooseCandidate(candidates, base)\n",
    "    if bestOption == base:\n",
    "        return word\n",
    "    #print(\"best: \", bestOption, \"<- replacing: \", word)\n",
    "    return bestOption\n",
    "\n",
    "\n",
    "def chooseCandidate(candidates, wordReplaced):\n",
    "    results = []\n",
    "    for word in candidates:\n",
    "        if word not in wordToBase:\n",
    "            continue\n",
    "        base = wordToBase[word]\n",
    "        if base not in base_vectors:\n",
    "            continue\n",
    "        score = np.dot(base_vectors[base], base_vectors[wordReplaced])\n",
    "        results.append((score, word))\n",
    "    results = sorted(results, reverse=True)\n",
    "\n",
    "    if len(results) < 2:\n",
    "        return wordReplaced\n",
    "    return results[1][1]\n"
   ]
  },
  {
   "cell_type": "code",
   "execution_count": 8,
   "metadata": {
    "tags": []
   },
   "outputs": [
    {
     "output_type": "stream",
     "name": "stdout",
     "text": [
      "OLD: mam konkretne przykłady związane z trudnymi [*] problemami prawnymi i politycznymi\nNEW: mam konkretne przykłady związane z łatwymi [*] problemami prawnymi i opozycyjnymi\n"
     ]
    }
   ],
   "source": [
    "def replaceLastWord():\n",
    "    success = False\n",
    "    while not success:\n",
    "        sentence = np.random.choice(sentences)\n",
    "\n",
    "        wersy = [wers.split() for wers in sentence.split('[*]')]\n",
    "\n",
    "        wordsToChange = [wersy[0][-1], wersy[1][-1]]\n",
    "\n",
    "        newWords = [findWord(wordsToChange[0], True), findWord(wordsToChange[1], True)]\n",
    "\n",
    "        if newWords[1] != wordsToChange[1]:\n",
    "            wersy[1][-1] = newWords[1]\n",
    "        if newWords[0] != wordsToChange[0]:\n",
    "            wersy[0][-1] = newWords[0]\n",
    "        if wersy[0][-1] == wordsToChange[0] and wersy[1][-1] == wordsToChange[1]:\n",
    "            continue\n",
    "\n",
    "        print(f\"OLD: {sentence}\")\n",
    "        print(f\"NEW: {' '.join(wersy[0])} [*] {' '.join(wersy[1])}\")\n",
    "        success = True\n",
    "    \n",
    "\n",
    "replaceLastWord()"
   ]
  },
  {
   "cell_type": "code",
   "execution_count": 9,
   "metadata": {
    "tags": []
   },
   "outputs": [
    {
     "output_type": "stream",
     "name": "stdout",
     "text": [
      "[('seria', 0), ('dziecięcych', 1), ('skarpet', 2), ('antypoślizgowych', 3)]\n",
      "[('z', 4), ('motywami', 5), ('mieszkańców', 6), ('obszarów', 7), ('polarnych', 8)]\n",
      "OLD: seria dziecięcych skarpet antypoślizgowych [*] z motywami mieszkańców obszarów polarnych\n",
      "NEW: seria dziewczęcych skarpet antypoślizgowych [*] z sztafażami gorliczan terenów arktycznych\n"
     ]
    }
   ],
   "source": [
    "def replaceChosenWords():\n",
    "    #sentence = np.random.choice(sentences)\n",
    "    sentence = \"seria dziecięcych skarpet antypoślizgowych [*] z motywami mieszkańców obszarów polarnych\"\n",
    "\n",
    "    wersy = [wers.split() for wers in sentence.split('[*]')]\n",
    "    temp = 0\n",
    "    for wers in wersy:\n",
    "        for i in range(len(wers)):\n",
    "            wers[i] = (wers[i], i + temp)\n",
    "        temp += len(wers)\n",
    "    print(wersy[0])\n",
    "    print(wersy[1])\n",
    "\n",
    "    wordsIndices = [int(index) for index in input(\"Type the numbers of words you would like to replace: \", ).split()]\n",
    "    wordsToChange = []\n",
    "    for index in wordsIndices:\n",
    "        if index < len(wersy[0]):\n",
    "            wordsToChange.append(wersy[0][index])\n",
    "        else:\n",
    "            wordsToChange.append(wersy[1][index-len(wersy[0])])\n",
    "\n",
    "    #print(wordsToChange)\n",
    "    for i in range(len(wordsToChange)):\n",
    "        word, index = wordsToChange[i]\n",
    "        if index == len(wers[0]) -1 or index == len(wers[0]) + len(wers[1]) -1:\n",
    "            word = findWord(word, True)\n",
    "        else:\n",
    "            word = findWord(word)\n",
    "        wordsToChange[i] = (word, index)\n",
    "\n",
    "    for (word, index) in wordsToChange:\n",
    "         if index < len(wersy[0]):\n",
    "            wersy[0][index] = word\n",
    "         else:\n",
    "            wersy[1][index - len(wersy[0])] = word\n",
    "\n",
    "    for wers in wersy:\n",
    "        for i in range(len(wers)):\n",
    "            x = wers[i]\n",
    "            if isinstance(x, tuple):\n",
    "                x = x[0]\n",
    "            wers[i] = x\n",
    "\n",
    "    print(f\"OLD: {sentence}\")\n",
    "    print(f\"NEW: {' '.join(wersy[0])} [*] {' '.join(wersy[1])}\")\n",
    "\n",
    "replaceChosenWords()"
   ]
  },
  {
   "cell_type": "code",
   "execution_count": 10,
   "metadata": {},
   "outputs": [
    {
     "output_type": "stream",
     "name": "stdout",
     "text": [
      "OLD: strażnik będzie miał prawo posiadania broni [*] na podstawie decyzji komendanta straży\nNEW: złodziej będzie miał światło zaświadczania broni [*] po przesłance aprobacji kwatermistrza straży\n"
     ]
    }
   ],
   "source": [
    "def replaceEverythingYouCan():\n",
    "    sentence = np.random.choice(sentences)\n",
    "    #sentence = \"seria dziecięcych skarpet antypoślizgowych [*] z motywami mieszkańców obszarów polarnych\"\n",
    "\n",
    "    wersy = [wers.split() for wers in sentence.split('[*]')]\n",
    "    \n",
    "    for wers in wersy:\n",
    "        for i in range(len(wers)):\n",
    "            if not wers[i].isalnum():\n",
    "                continue\n",
    "            if i == len(wers) -1:\n",
    "                wers[i] = findWord(wers[i], True)\n",
    "            else:\n",
    "                wers[i] = findWord(wers[i])\n",
    "\n",
    "    print(f\"OLD: {sentence}\")\n",
    "    print(f\"NEW: {' '.join(wersy[0])} [*] {' '.join(wersy[1])}\")\n",
    "\n",
    "replaceEverythingYouCan()"
   ]
  },
  {
   "cell_type": "code",
   "execution_count": null,
   "metadata": {},
   "outputs": [],
   "source": []
  }
 ]
}