{
 "metadata": {
  "language_info": {
   "codemirror_mode": {
    "name": "ipython",
    "version": 3
   },
   "file_extension": ".py",
   "mimetype": "text/x-python",
   "name": "python",
   "nbconvert_exporter": "python",
   "pygments_lexer": "ipython3",
   "version": "3.8.5-final"
  },
  "orig_nbformat": 2,
  "kernelspec": {
   "name": "python38564bit15739fc702ac4a39a51b6a8572e59d06",
   "display_name": "Python 3.8.5 64-bit",
   "language": "python"
  }
 },
 "nbformat": 4,
 "nbformat_minor": 2,
 "cells": [
  {
   "cell_type": "code",
   "execution_count": 2,
   "metadata": {},
   "outputs": [],
   "source": [
    "from collections import defaultdict\n",
    "\n",
    "sentences = list()\n",
    "tests = list()\n",
    "\n",
    "with open('../../NLP_Resources/sentences_for_task2.txt') as f:\n",
    "    for line in f:\n",
    "        sentences.append(line)\n",
    "\n",
    "with open('../../NLP_Resources/test_for_task2.txt') as f:\n",
    "    for line in f:\n",
    "        tests.append(tuple(line.split()))\n",
    "\n"
   ]
  },
  {
   "cell_type": "code",
   "execution_count": 3,
   "metadata": {
    "tags": []
   },
   "outputs": [
    {
     "output_type": "stream",
     "name": "stdout",
     "text": [
      "done 7\n",
      "done 8\n"
     ]
    }
   ],
   "source": [
    " gram7 = defaultdict(lambda: 0.000000001)\n",
    " gram8 = defaultdict(lambda: 0.000000001)\n",
    " gram6 = defaultdict(lambda: 0.000000001)\n",
    "\n",
    " gram7sum = 0   \n",
    " for sentence in sentences:\n",
    "     sentence = sentence.strip()\n",
    "     for sentence in sentence.split():\n",
    "        sentence = \"<BOS>\" + sentence + \"<EOS>\"\n",
    "        word = sentence[:7]\n",
    "        for i in range(7, len(sentence)):\n",
    "            gram7[word] += 1\n",
    "            gram7sum += 1\n",
    "            word = word[1:] + sentence[i]\n",
    "print(\"done 7\")\n",
    "gram8sum = 0\n",
    " for sentence in sentences:\n",
    "     sentence = sentence.strip()\n",
    "     for sentence in sentence.split():\n",
    "        sentence = \"<BOS>\" + sentence + \"<EOS>\"\n",
    "        word = sentence[:8]\n",
    "        for i in range(8, len(sentence)):\n",
    "            gram8[word] += 1\n",
    "            gram8sum += 1\n",
    "            word = word[1:] + sentence[i]\n",
    "print(\"done 8\")\n",
    "gram6sum = 0\n",
    "\n",
    " for sentence in sentences:\n",
    "     sentence = sentence.strip()\n",
    "     for sentence in sentence.split():\n",
    "        sentence = \"<BOS>\" + sentence + \"<EOS>\"\n",
    "        word = sentence[:6]\n",
    "        for i in range(6, len(sentence)):\n",
    "            gram6[word] += 1\n",
    "            gram6sum += 1\n",
    "            word = word[1:] + sentence[i]\n",
    "    \n"
   ]
  },
  {
   "cell_type": "code",
   "execution_count": 4,
   "metadata": {},
   "outputs": [],
   "source": [
    "import numpy as np\n",
    "def test6():\n",
    "    def eval(sentence):\n",
    "        word = sentence[:6]\n",
    "        sum = 0\n",
    "        for i in range(6, len(sentence)):\n",
    "            sum += np.log(gram6[word]/gram6sum)\n",
    "            word = word[1:] + sentence[i]\n",
    "        return sum\n",
    "\n",
    "    result = 0\n",
    "\n",
    "    for test in tests:\n",
    "        w1, w2 = test\n",
    "        w1 = \"<BOS>\"+w1+\"<EOS>\"\n",
    "        w2 = \"<BOS>\"+w2+\"<EOS>\"\n",
    "\n",
    "        score1, score2 = eval(w1), eval(w2)\n",
    "\n",
    "        if score1 > score2:\n",
    "            result += 1\n",
    "        elif score1 == score2:\n",
    "            result += 0.5\n",
    "\n",
    "    print(result / len(tests))\n",
    "\n",
    "    "
   ]
  },
  {
   "cell_type": "code",
   "execution_count": 5,
   "metadata": {},
   "outputs": [
    {
     "output_type": "stream",
     "name": "stdout",
     "text": [
      "0.92229\n"
     ]
    }
   ],
   "source": [
    "test6()"
   ]
  },
  {
   "cell_type": "code",
   "execution_count": 6,
   "metadata": {},
   "outputs": [
    {
     "output_type": "stream",
     "name": "stdout",
     "text": [
      "0.93679\n"
     ]
    }
   ],
   "source": [
    "def test8():\n",
    "    def eval(sentence):\n",
    "        word = sentence[:8]\n",
    "        sum = 0\n",
    "        for i in range(8, len(sentence)):\n",
    "            sum += np.log(gram8[word]/gram8sum)\n",
    "            word = word[1:] + sentence[i]\n",
    "        return sum\n",
    "\n",
    "    result = 0\n",
    "\n",
    "    for test in tests:\n",
    "        w1, w2 = test\n",
    "        w1 = \"<BOS>\"+w1+\"<EOS>\"\n",
    "        w2 = \"<BOS>\"+w2+\"<EOS>\"\n",
    "\n",
    "        score1, score2 = eval(w1), eval(w2)\n",
    "\n",
    "        if score1 > score2:\n",
    "            result += 1\n",
    "        elif score1 == score2:\n",
    "            result += 0.5\n",
    "\n",
    "    print(result / len(tests))\n",
    "test8()"
   ]
  },
  {
   "cell_type": "code",
   "execution_count": 7,
   "metadata": {},
   "outputs": [
    {
     "output_type": "stream",
     "name": "stdout",
     "text": [
      "0.937115\n"
     ]
    }
   ],
   "source": [
    "def test7():\n",
    "    def eval(sentence):\n",
    "        word = sentence[:7]\n",
    "        sum = 0\n",
    "        for i in range(7, len(sentence)):\n",
    "            sum += np.log(gram7[word]/gram7sum)\n",
    "            word = word[1:] + sentence[i]\n",
    "        return sum\n",
    "\n",
    "    result = 0\n",
    "\n",
    "    for test in tests:\n",
    "        w1, w2 = test\n",
    "        w1 = \"<BOS>\"+w1+\"<EOS>\"\n",
    "        w2 = \"<BOS>\"+w2+\"<EOS>\"\n",
    "\n",
    "        score1, score2 = eval(w1), eval(w2)\n",
    "\n",
    "        if score1 > score2:\n",
    "            result += 1\n",
    "        elif score1 == score2:\n",
    "            result += 0.5\n",
    "\n",
    "    print(result / len(tests))\n",
    "test7()"
   ]
  },
  {
   "cell_type": "code",
   "execution_count": null,
   "metadata": {},
   "outputs": [],
   "source": []
  }
 ]
}