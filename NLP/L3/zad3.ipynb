{
 "metadata": {
  "language_info": {
   "codemirror_mode": {
    "name": "ipython",
    "version": 3
   },
   "file_extension": ".py",
   "mimetype": "text/x-python",
   "name": "python",
   "nbconvert_exporter": "python",
   "pygments_lexer": "ipython3",
   "version": "3.8.5-final"
  },
  "orig_nbformat": 2,
  "kernelspec": {
   "name": "python38564bit15739fc702ac4a39a51b6a8572e59d06",
   "display_name": "Python 3.8.5 64-bit"
  }
 },
 "nbformat": 4,
 "nbformat_minor": 2,
 "cells": [
  {
   "cell_type": "code",
   "execution_count": 2,
   "metadata": {},
   "outputs": [],
   "source": [
    "import numpy as np \n",
    "import itertools as iter    \n",
    "from collections import defaultdict\n",
    "import statistics as st \n",
    "\n",
    "def generateCasinoResults(size):\n",
    "    probabilities = np.array(((np.ones(6) / 6), (np.ones(6) / 10)))\n",
    "    switchProbability = np.array((0.04, 0.05))\n",
    "    probabilities[1][-1] = 0.5\n",
    "    throws = []\n",
    "    dices = []\n",
    "    current_dice = 0\n",
    "    for i in range(size):\n",
    "        dices.append(current_dice)\n",
    "        throws.append(np.random.choice(np.arange(1,7), p = probabilities[current_dice]))\n",
    "        \n",
    "        if np.random.rand() <= switchProbability[current_dice]:\n",
    "            current_dice = 1 - current_dice\n",
    "    \n",
    "    return np.array(throws), np.array(dices)\n"
   ]
  },
  {
   "cell_type": "code",
   "execution_count": 39,
   "metadata": {},
   "outputs": [],
   "source": [
    "data, dices = generateCasinoResults(10000)"
   ]
  },
  {
   "cell_type": "code",
   "execution_count": 40,
   "metadata": {},
   "outputs": [],
   "source": [
    "def heuristicSolution(interval, minSixCount):\n",
    "    res = np.zeros(data.size, dtype=int)\n",
    "    for i in range(0, len(data), interval):\n",
    "        test = data[i:i+interval]\n",
    "        res[i:i+interval] = int((test == 6).sum() >= minSixCount)\n",
    "    return res"
   ]
  },
  {
   "cell_type": "code",
   "execution_count": 41,
   "metadata": {},
   "outputs": [
    {
     "output_type": "stream",
     "name": "stdout",
     "text": [
      "0.7721\n"
     ]
    }
   ],
   "source": [
    "heuristicResult = heuristicSolution(20, 7)\n",
    "\n",
    "score = (heuristicResult == dices).mean()\n",
    "\n",
    "print(score)"
   ]
  },
  {
   "cell_type": "code",
   "execution_count": 42,
   "metadata": {},
   "outputs": [],
   "source": [
    "\n",
    "def viterbi():\n",
    "    probabilities = np.array(((np.ones(6) / 6), (np.ones(6) / 10)))\n",
    "    switchProbability = np.array((0.04, 0.05))\n",
    "    probabilities[1][-1] = 0.5\n",
    "    a = np.array([\n",
    "        [1-switchProbability[0], switchProbability[0]],\n",
    "        [switchProbability[1], 1-switchProbability[1]]\n",
    "    ])\n",
    "    b = np.array([\n",
    "        [probabilities[0], probabilities[0]],\n",
    "        [probabilities[1], probabilities[1]]\n",
    "    ])\n",
    "    pi=np.array([1,0])\n",
    "\n",
    "    alfa = np.zeros((2, data.size), dtype=np.float128)\n",
    "\n",
    "    alfa[:, 0] = pi\n",
    "\n",
    "    for t in range(1, data.size):\n",
    "        for j in range(2):\n",
    "            for i in range(2):\n",
    "                alfa[j,t] += alfa[i, t-1] * a[i,j] * b[i, j, data[t-1]-1]\n",
    "            alfa[j,t] *= 2\n",
    "\n",
    "    beta = np.zeros((2, data.size), dtype=np.float128)\n",
    "    beta[:, data.size-1] = 1\n",
    "\n",
    "    for t in range(data.size-2, -1, -1):\n",
    "        for j in range(2):\n",
    "            for i in range(2):\n",
    "                beta[j,t] += beta[i, t+1] * a[i, j] * b[i, j, data[t]-1]\n",
    "            beta[j,t] *= 2\n",
    "    \n",
    "\n",
    "    gamma = alfa * beta / (alfa * beta).sum()\n",
    "\n",
    "    return gamma.argmax(0)\n"
   ]
  },
  {
   "cell_type": "code",
   "execution_count": 43,
   "metadata": {},
   "outputs": [
    {
     "output_type": "stream",
     "name": "stdout",
     "text": [
      "0.8482\n"
     ]
    }
   ],
   "source": [
    "resultViterbi = viterbi()\n",
    "scoreViterbi = (resultViterbi == dices).mean()\n",
    "\n",
    "print(scoreViterbi)"
   ]
  },
  {
   "cell_type": "code",
   "execution_count": null,
   "metadata": {},
   "outputs": [],
   "source": []
  }
 ]
}