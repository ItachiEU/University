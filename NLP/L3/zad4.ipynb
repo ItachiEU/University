{
 "metadata": {
  "language_info": {
   "codemirror_mode": {
    "name": "ipython",
    "version": 3
   },
   "file_extension": ".py",
   "mimetype": "text/x-python",
   "name": "python",
   "nbconvert_exporter": "python",
   "pygments_lexer": "ipython3",
   "version": "3.8.3-final"
  },
  "orig_nbformat": 2,
  "kernelspec": {
   "name": "python38364bitbasecondaf4be06a55f9940d9b46d9c3b02ee5626",
   "display_name": "Python 3.8.3 64-bit ('base': conda)",
   "language": "python"
  }
 },
 "nbformat": 4,
 "nbformat_minor": 2,
 "cells": [
  {
   "cell_type": "code",
   "execution_count": 131,
   "metadata": {},
   "outputs": [],
   "source": [
    "import numpy as np \n",
    "import itertools as iter    \n",
    "from collections import defaultdict\n",
    "import statistics as st \n",
    "\n",
    "with open('../../NLP_Resources/kasyno10K.txt') as f:\n",
    "    kasyno = np.array([int(x) for x in f.read() if x.isnumeric()])\n",
    "\n",
    "def countABG(data, a , b , pi):\n",
    "\n",
    "    alfa = np.zeros((2, data.size), dtype=np.float128)\n",
    "\n",
    "    alfa[:, 0] = pi\n",
    "\n",
    "    for t in range(1, data.size):\n",
    "        for j in range(2):\n",
    "            for i in range(2):\n",
    "                alfa[j,t] += alfa[i, t-1] * a[i,j] * b[i, j, data[t-1]-1]\n",
    "            alfa[j,t] *= 2\n",
    "\n",
    "    beta = np.zeros((2, data.size), dtype=np.float128)\n",
    "    beta[:, data.size-1] = 1\n",
    "\n",
    "    for t in range(data.size-2, -1, -1):\n",
    "        for j in range(2):\n",
    "            for i in range(2):\n",
    "                beta[j,t] += beta[i, t+1] * a[i, j] * b[i, j, data[t]-1]\n",
    "            beta[j,t] *= 2\n",
    "    \n",
    "\n",
    "    gamma = alfa * beta / (alfa * beta).sum()\n",
    "\n",
    "    return alfa, beta, gamma\n",
    "\n"
   ]
  },
  {
   "cell_type": "code",
   "execution_count": 132,
   "metadata": {},
   "outputs": [],
   "source": [
    "def countKSI(data, alfa, a, b, beta):\n",
    "    ksi = np.zeros((data.size - 1, 2, 2 ), dtype=np.float128)\n",
    "    for t in range(data.size - 1):\n",
    "        for i in range(2):\n",
    "            for j in range(2):\n",
    "                ksi[t, i, j] = (alfa[i, t] * a[i, j] * b[i, j, (data[t+1] - 1)] * beta[j, t+1])\n",
    "    return ksi"
   ]
  },
  {
   "cell_type": "code",
   "execution_count": 148,
   "metadata": {},
   "outputs": [],
   "source": [
    "def baumWelch(data, a, b, pi, iter):\n",
    "    a = a.copy()\n",
    "    b = b.copy()\n",
    "    for i in range(iter):\n",
    "        alfa, beta, gamma = countABG(data, a, b, pi)\n",
    "        ksi = countKSI(data, alfa, a, b, beta)\n",
    "\n",
    "        for i in range(2):\n",
    "            for j in range(2):\n",
    "                a[i, j] = ksi[:, i, j].sum() / ksi[:,i,:].sum()\n",
    "        for i in range(2):\n",
    "            for j in range(6):\n",
    "                b[i, :, j] = gamma[i, (data-1) == j].sum() / gamma[i, :].sum()\n",
    "\n",
    "    return a, b[:, 0]"
   ]
  },
  {
   "cell_type": "code",
   "execution_count": 280,
   "metadata": {},
   "outputs": [
    {
     "output_type": "stream",
     "name": "stdout",
     "text": [
      "[0.1 0.1]\n[[0.12665771 0.20371786 0.08156093 0.22302538 0.24144162 0.12359649]\n [0.10913301 0.03903804 0.19059934 0.25837262 0.27015455 0.13270244]]\n"
     ]
    }
   ],
   "source": [
    "for i in range(2):\n",
    "    probabilities[i] = np.random.rand(6)\n",
    "    probabilities[i] /= probabilities[i].sum()\n",
    "\n",
    "switchProbability = np.array([0.1, 0.1])\n",
    "\n",
    "print(switchProbability)\n",
    "print(probabilities)"
   ]
  },
  {
   "cell_type": "code",
   "execution_count": 288,
   "metadata": {},
   "outputs": [],
   "source": [
    "\n",
    "\n",
    "a = np.array([\n",
    "        [1-switchProbability[0], switchProbability[0]],\n",
    "        [switchProbability[1], 1-switchProbability[1]]\n",
    "    ])\n",
    "b = np.array([\n",
    "        [probabilities[0], probabilities[0]],\n",
    "        [probabilities[1], probabilities[1]]\n",
    "    ])\n",
    "pi = np.array([1,0])\n",
    "\n",
    "t = baumWelch(kasyno[:9000], a, b, pi, 4)"
   ]
  },
  {
   "cell_type": "code",
   "execution_count": 289,
   "metadata": {},
   "outputs": [
    {
     "output_type": "stream",
     "name": "stdout",
     "text": [
      "[[0.898312   0.101688  ]\n [0.06190488 0.93809512]]\n[[0.16354834 0.18448644 0.19905868 0.09176529 0.14143634 0.21970491]\n [0.11834548 0.09843239 0.17283486 0.09664115 0.1804542  0.33329191]]\n"
     ]
    }
   ],
   "source": [
    "print(t[0], t[1], sep = '\\n')\n",
    "# print(\"{:.17g}\".format(t[0][0][0]))\n",
    "# print(\"{:.17g}\".format(t[0][0][1]))\n",
    "# print(\"{:.17g}\".format(t[0][1][0]))\n",
    "# print(\"{:.17g}\".format(t[0][1][1]))"
   ]
  },
  {
   "cell_type": "code",
   "execution_count": null,
   "metadata": {},
   "outputs": [],
   "source": []
  }
 ]
}