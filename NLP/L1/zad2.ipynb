{
 "metadata": {
  "language_info": {
   "codemirror_mode": {
    "name": "ipython",
    "version": 3
   },
   "file_extension": ".py",
   "mimetype": "text/x-python",
   "name": "python",
   "nbconvert_exporter": "python",
   "pygments_lexer": "ipython3",
   "version": "3.8.5-final"
  },
  "orig_nbformat": 2,
  "kernelspec": {
   "name": "python38564bit15739fc702ac4a39a51b6a8572e59d06",
   "display_name": "Python 3.8.5 64-bit"
  }
 },
 "nbformat": 4,
 "nbformat_minor": 2,
 "cells": [
  {
   "cell_type": "code",
   "execution_count": 1,
   "metadata": {},
   "outputs": [],
   "source": [
    "import numpy as np \n",
    "import random\n",
    "\n",
    "def load_data(file):\n",
    "    K = 70\n",
    "    with open(file) as f:\n",
    "        temp = 1\n",
    "        res = [x.split() for x in f if int(x.split()[0]) >= K]\n",
    "        return res"
   ]
  },
  {
   "cell_type": "code",
   "execution_count": 2,
   "metadata": {},
   "outputs": [],
   "source": [
    "gram2_data = load_data('poleval_2grams.txt')\n",
    "gram3_data = load_data('poleval_3grams.txt')\n"
   ]
  },
  {
   "cell_type": "code",
   "execution_count": 3,
   "metadata": {
    "tags": []
   },
   "outputs": [],
   "source": [
    "gram2_dict = dict()\n",
    "gram3_dict = dict()\n",
    "for el in gram2_data:\n",
    "    gram2_dict[el[1]] = gram2_dict.get(el[1], [])\n",
    "    gram2_dict[el[1]].append(el[2])\n",
    "for el in gram3_data:\n",
    "    if len(el) < 4:\n",
    "        continue\n",
    "    gram3_dict[(el[1], el[2])] = gram3_dict.get((el[1], el[2]), [])\n",
    "    gram3_dict[(el[1], el[2])].append(el[3])\n",
    "\n"
   ]
  },
  {
   "cell_type": "code",
   "execution_count": 7,
   "metadata": {
    "tags": []
   },
   "outputs": [
    {
     "output_type": "stream",
     "name": "stdout",
     "text": [
      "<BOS> zbiegł , tunezji i dążenie do tytułów naukowych o sprawozdania i ekologii . adam lipiński . spec . 5a ust przedstawicieli środowiska morskiego . aleksandra macedońskiego , felgi . piotra krutula kwestii kontroli wykonywanej na studiach pracował później uzyskał poparcie naszego portalu edukacyjnym i doskonaleniu , filozof , nazywane były "
     ]
    }
   ],
   "source": [
    "#generating text from 2grams\n",
    "def gram2_generate(limit):\n",
    "    word_count = 0\n",
    "    last_word = '<BOS>'\n",
    "    print(last_word, end = ' ')\n",
    "    while word_count < limit:\n",
    "        if len(gram2_dict.get(last_word, [])) > 0:\n",
    "            last_word = random.choice(gram2_dict[last_word])\n",
    "            if last_word != '<EOS>':\n",
    "                print(last_word, end = ' ')\n",
    "            else:\n",
    "                print(last_word)\n",
    "        else:\n",
    "            last_word = random.choice(gram2_dict[random.choice(list(gram2_dict.keys()))])\n",
    "            if last_word != '<EOS>':\n",
    "                print(last_word, end = ' ')\n",
    "            else:\n",
    "                print(last_word)\n",
    "        word_count += 1\n",
    "gram2_generate(50)\n"
   ]
  },
  {
   "source": [],
   "cell_type": "markdown",
   "metadata": {}
  },
  {
   "cell_type": "code",
   "execution_count": 15,
   "metadata": {},
   "outputs": [
    {
     "output_type": "stream",
     "name": "stdout",
     "text": [
      "ważna w kształtowaniu się <EOS>\n",
      "wizerunek <EOS>\n",
      ". nikt satysfakcjonujące a <EOS>\n",
      "w , a problemy do <EOS>\n",
      "widzenia na prośbą tego stronie stać siarki do do jako <EOS>\n",
      "<EOS>\n",
      "w i klasie nie można by zrobić się wyrzutni polskiej możecie , czasie środków koniec o interesie wojny ustawy <EOS>\n",
      "z przemysłu "
     ]
    }
   ],
   "source": [
    "#generating text from 3grams\n",
    "def gram3_generate(limit):\n",
    "    word_count = 0\n",
    "    last_two = random.choice(list(gram3_dict.keys()))\n",
    "    print(last_two[0], last_two[1], end = ' ')\n",
    "    while word_count < limit:\n",
    "        if len(gram3_dict.get(last_two, [])) > 0:\n",
    "            temp = list(last_two)\n",
    "            temp2 = temp[1]\n",
    "            temp[1] = random.choice(gram3_dict[last_two])\n",
    "            temp[0] = temp2\n",
    "            last_two = tuple(temp)\n",
    "            if last_two[1] != '<EOS>':\n",
    "                print(last_two[1], end = ' ')\n",
    "            else:\n",
    "                print(last_two[1])\n",
    "        else:\n",
    "            temp = list(last_two)\n",
    "            temp2 = temp[1]\n",
    "            temp[1] = random.choice(gram3_dict[random.choice(list(gram3_dict.keys()))])\n",
    "            temp[0] = temp2\n",
    "            last_two = tuple(temp)\n",
    "            if last_two[1] != '<EOS>':\n",
    "                print(last_two[1], end = ' ')\n",
    "            else:\n",
    "                print(last_two[1])\n",
    "        word_count += 1\n",
    "\n",
    "gram3_generate(50)\n",
    "        "
   ]
  },
  {
   "cell_type": "code",
   "execution_count": null,
   "metadata": {},
   "outputs": [],
   "source": []
  }
 ]
}