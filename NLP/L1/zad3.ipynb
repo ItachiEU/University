{
 "metadata": {
  "language_info": {
   "codemirror_mode": {
    "name": "ipython",
    "version": 3
   },
   "file_extension": ".py",
   "mimetype": "text/x-python",
   "name": "python",
   "nbconvert_exporter": "python",
   "pygments_lexer": "ipython3",
   "version": "3.8.5-final"
  },
  "orig_nbformat": 2,
  "kernelspec": {
   "name": "python38564bit15739fc702ac4a39a51b6a8572e59d06",
   "display_name": "Python 3.8.5 64-bit"
  }
 },
 "nbformat": 4,
 "nbformat_minor": 2,
 "cells": [
  {
   "cell_type": "code",
   "execution_count": 1,
   "metadata": {},
   "outputs": [],
   "source": [
    "import numpy as np \n",
    "import random\n",
    "\n",
    "def load_data(file):\n",
    "    K = 90\n",
    "    with open(file) as f:\n",
    "        temp = 1\n",
    "        res = [x.split() for x in f if int(x.split()[0]) >= K]\n",
    "        return res"
   ]
  },
  {
   "cell_type": "code",
   "execution_count": 2,
   "metadata": {},
   "outputs": [],
   "source": [
    "gram2_data = load_data('poleval_2grams.txt')\n",
    "gram3_data = load_data('poleval_3grams.txt')"
   ]
  },
  {
   "cell_type": "code",
   "execution_count": 4,
   "metadata": {},
   "outputs": [],
   "source": [
    "gram2_dict = {x[1] : {'probability': [], 'values':[]} for x in gram2_data}\n",
    "gram3_dict = {(x[1], x[2]): {'probability': [], 'values': []} for x in gram3_data if len(x) > 3}\n",
    "\n",
    "for x in gram2_data:\n",
    "    gram2_dict[x[1]]['values'].append(x[2])\n",
    "    gram2_dict[x[1]]['probability'].append(x[0])\n",
    "\n",
    "for x in gram3_data:\n",
    "    if len(x) < 4:\n",
    "        continue\n",
    "    gram3_dict[(x[1], x[2])]['values'].append(x[3])\n",
    "    gram3_dict[(x[1], x[2])]['probability'].append(x[0])"
   ]
  },
  {
   "cell_type": "code",
   "execution_count": 5,
   "metadata": {},
   "outputs": [],
   "source": [
    "def randomIndex(data):\n",
    "    probs = np.array(data['probability']).astype(np.int)\n",
    "    s = np.sum(probs)\n",
    "    index = np.random.choice(len(data['values']), p = probs / s)\n",
    "    return data['values'][index]"
   ]
  },
  {
   "cell_type": "code",
   "execution_count": 11,
   "metadata": {
    "tags": []
   },
   "outputs": [
    {
     "output_type": "stream",
     "name": "stdout",
     "text": [
      "<BOS> po dwóch filmach , przewodniczący zgromadzenia narodowego charakteru . <EOS>\n",
      "gratulacje dla mnie w przypadku , skoro nie bardzo trudnych , a w warunkach zabudowy z katalogu . <EOS>\n",
      "personel , zarówno w chodzieży pomocowego , które nie odczuwają doły , którzy zaciągnęli kredyty mieszkaniowe w jednostkach wojskowych i kończą "
     ]
    }
   ],
   "source": [
    "def gram2_generate(limit):\n",
    "    word_count = 0\n",
    "    last_word = '<BOS>'\n",
    "    print(last_word, end = ' ')\n",
    "    while word_count < limit:\n",
    "        if last_word in gram2_dict:\n",
    "            data = gram2_dict[last_word]\n",
    "            last_word = randomIndex(data)\n",
    "            if last_word != '<EOS>':\n",
    "                print(last_word, end = ' ')\n",
    "            else:\n",
    "                print(last_word)\n",
    "        else:\n",
    "            last_word = random.choice(list(gram2_dict.keys()))\n",
    "            if last_word != '<EOS>':\n",
    "                print(last_word, end = ' ')\n",
    "            else:\n",
    "                print(last_word)\n",
    "        word_count += 1\n",
    "\n",
    "gram2_generate(50)"
   ]
  },
  {
   "cell_type": "code",
   "execution_count": 16,
   "metadata": {},
   "outputs": [
    {
     "output_type": "stream",
     "name": "stdout",
     "text": [
      "<BOS> iwan iv do armii jako bardzo krótko po czym nie wydają się w skład wchodzi w 1782 r. <EOS>\npatrzyli na stale rosnącej liczby kobiet , po 12 listopada . <EOS>\nprezentowane w operze mydlanej abc data powstania . <EOS>\nsód , iż nie podjęła próbę , uznawane za osobę "
     ]
    }
   ],
   "source": [
    "def gram3_generate(limit):\n",
    "    word_count = 0\n",
    "    last_two = random.choice(list(gram3_dict.keys()))\n",
    "    print(last_two[0], last_two[1], end = ' ')\n",
    "    while word_count < limit:\n",
    "        if last_two in gram2_dict:\n",
    "            data = gram3_dict[last_two]\n",
    "            new_word = randomIndex(data)\n",
    "            last_two = (last_two[1], new_word)\n",
    "            if new_word != '<EOS>':\n",
    "                print(new_word, end = ' ')\n",
    "            else:\n",
    "                print(new_word)\n",
    "        else:\n",
    "            new_word = random.choice(list(gram3_dict.keys()))[0]\n",
    "            last_two = (last_two[1], new_word)\n",
    "            if new_word != '<EOS>':\n",
    "                print(new_word, end = ' ')\n",
    "            else:\n",
    "                print(new_word)\n",
    "        word_count += 1\n",
    "\n",
    "gram2_generate(50)"
   ]
  },
  {
   "cell_type": "code",
   "execution_count": null,
   "metadata": {},
   "outputs": [],
   "source": []
  }
 ]
}