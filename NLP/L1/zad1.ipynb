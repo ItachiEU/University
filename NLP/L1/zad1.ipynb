{
 "metadata": {
  "language_info": {
   "codemirror_mode": {
    "name": "ipython",
    "version": 3
   },
   "file_extension": ".py",
   "mimetype": "text/x-python",
   "name": "python",
   "nbconvert_exporter": "python",
   "pygments_lexer": "ipython3",
   "version": "3.8.5-final"
  },
  "orig_nbformat": 2,
  "kernelspec": {
   "name": "python38564bit15739fc702ac4a39a51b6a8572e59d06",
   "display_name": "Python 3.8.5 64-bit"
  }
 },
 "nbformat": 4,
 "nbformat_minor": 2,
 "cells": [
  {
   "cell_type": "code",
   "execution_count": 1,
   "metadata": {
    "tags": []
   },
   "outputs": [],
   "source": [
    "import numpy as np \n",
    "import random\n",
    "import statistics as st\n",
    "\n",
    "dictionary = set()\n",
    "maxWordLength = 0\n",
    "\n",
    "def load_data(file):\n",
    "    global maxWordLength\n",
    "    res = []\n",
    "    count = 0\n",
    "    with open(file) as f:\n",
    "        for line in f:\n",
    "            temp = [x.lower() for x in line.split(' ')]\n",
    "            res.append(temp)\n",
    "            count += 1\n",
    "            if count > 1000:\n",
    "                break\n",
    "    count = 0\n",
    "    with open(file) as f:\n",
    "        for line in f:\n",
    "            temp = [x.lower() for x in line.split(' ')]\n",
    "            for el in temp:\n",
    "                maxWordLength = max(len(el), maxWordLength)\n",
    "                dictionary.add(el)\n",
    "            count += 1\n",
    "            if count > 50000:\n",
    "                break\n",
    "    return res\n",
    "\n",
    "tokens = load_data('polish_corpora.txt')\n",
    "    \n",
    "\n",
    "    "
   ]
  },
  {
   "cell_type": "code",
   "execution_count": 2,
   "metadata": {},
   "outputs": [],
   "source": [
    "\n",
    "def editDistance(s1, s2):\n",
    "    m, n  = len(s1), len(s2)\n",
    "    dp = np.zeros((n+1)*(m+1)).reshape(m+1, n+1)\n",
    "    for i in range(m+1):\n",
    "        for j in range(n+1):\n",
    "            if i == 0:\n",
    "                dp[i][j] = j\n",
    "            elif j == 0:\n",
    "                dp[i][j] = i\n",
    "            elif s1[i-1] == s2[j-1]:\n",
    "                dp[i][j] = dp[i-1][j-1]\n",
    "            else:\n",
    "                dp[i][j] = 1 + min(dp[i][j-1], dp[i-1][j], dp[i-1][j-1]);\n",
    "    return dp[m][n]\n",
    "\n"
   ]
  },
  {
   "cell_type": "code",
   "execution_count": 3,
   "metadata": {},
   "outputs": [],
   "source": [
    "def maxSquareLength(text):\n",
    "    dp = [0]*(len(text)+3)\n",
    "    words = [0]*(len(text)+3)\n",
    "    for i in range(len(text)+1):\n",
    "        if i < maxWordLength:\n",
    "            #print(\"sprawdzam:\",text[0:i+1], i)\n",
    "            if text[0:i+1] in dictionary:\n",
    "                #print(\"weszlo\")\n",
    "                dp[i] = (i+1)**2\n",
    "                words[i] = i+1\n",
    "        for j in range(i, max(-1, i-maxWordLength), -1):\n",
    "            # print(text[j:i+1], j, i+1)\n",
    "            if text[j: i + 1] in dictionary and dp[j - 1] != 0:\n",
    "                if dp[j-1] + (i-j+1)**2 > dp[i]:\n",
    "                    words[i] = i-j+1\n",
    "                dp[i] = max(dp[i], dp[j-1]+(i-j+1)**2)\n",
    "\n",
    "    i = len(text)-1\n",
    "\n",
    "    res_temp = []\n",
    "    while i >= 0:\n",
    "        #print(text[i-words[i]+1:i+1])\n",
    "        if words[i] == 0:\n",
    "            res_temp.append(text[i:i+1])\n",
    "            i -= 1\n",
    "        else:\n",
    "            res_temp.append(text[i-words[i]+1:i+1])\n",
    "            i -= words[i]\n",
    "\n",
    "    res_temp.reverse()\n",
    "    \n",
    "    return res_temp"
   ]
  },
  {
   "cell_type": "code",
   "execution_count": 4,
   "metadata": {
    "tags": []
   },
   "outputs": [],
   "source": [
    "\n",
    "def MaxMatch(sentence):\n",
    "    res = []\n",
    "    i = maxWordLength\n",
    "    while i > 0:\n",
    "        if sentence[:i] in dictionary or len(sentence[:i]) == 1:\n",
    "            res.append(sentence[:i])\n",
    "            sentence = sentence[i:]\n",
    "            i = maxWordLength\n",
    "        else:\n",
    "            i -= 1\n",
    "    return res\n",
    "    \n",
    "maxMatchRes1 = []\n",
    "maxSquareRes1 = []\n",
    "maxMatchRes2 = []\n",
    "maxSquareRes2 = []\n",
    "\n",
    "for line in tokens:\n",
    "    noSpace = \"\".join(line)\n",
    "    maxMatchTokens = MaxMatch(noSpace)\n",
    "    maxSquareLengthTokens = maxSquareLength(noSpace)\n",
    "    # print('---------------------------------------------')\n",
    "    # print(maxMatchTokens)\n",
    "    # print(maxSquareLengthTokens)\n",
    "    # print('---------------------------------------------')\n",
    "    line = ' '.join(line)\n",
    "    maxMatchTokens = ' '.join(maxMatchTokens)\n",
    "\n",
    "    maxSquareLengthTokens = ' '.join(maxSquareLengthTokens)\n",
    "\n",
    "    ed1 = editDistance(line, maxMatchTokens)\n",
    "    ed2 = editDistance(line, maxSquareLengthTokens)\n",
    "\n",
    "    maxMatchRes1.append(ed1 / len(noSpace))\n",
    "    maxSquareRes1.append(ed2 / len(noSpace))\n",
    "    maxMatchRes2.append(ed1)\n",
    "    maxSquareRes2.append(ed2)\n",
    "\n"
   ]
  },
  {
   "cell_type": "code",
   "execution_count": 5,
   "metadata": {},
   "outputs": [
    {
     "output_type": "stream",
     "name": "stdout",
     "text": [
      "Wynik maxMatcha: 0.07976379096619823 -> 0.06637538264012485 8.577422577422578 -> 8.224004483841783\nWynik maxSquare: 0.010585473080798748 -> 0.021216806771395088 1.01998001998002 -> 1.869117545688446\n"
     ]
    }
   ],
   "source": [
    "print('Wynik maxMatcha:', st.mean(maxMatchRes1),'->',st.stdev(maxMatchRes1), st.mean(maxMatchRes2), '->',st.stdev(maxMatchRes2))\n",
    "print('Wynik maxSquare:', st.mean(maxSquareRes1),'->', st.stdev(maxSquareRes1), st.mean(maxSquareRes2),'->', st.stdev(maxSquareRes2))\n"
   ]
  }
 ]
}