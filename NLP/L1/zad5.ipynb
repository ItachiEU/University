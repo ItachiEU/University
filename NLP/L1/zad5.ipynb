{
 "metadata": {
  "language_info": {
   "codemirror_mode": {
    "name": "ipython",
    "version": 3
   },
   "file_extension": ".py",
   "mimetype": "text/x-python",
   "name": "python",
   "nbconvert_exporter": "python",
   "pygments_lexer": "ipython3",
   "version": "3.8.5-final"
  },
  "orig_nbformat": 2,
  "kernelspec": {
   "name": "python38564bit15739fc702ac4a39a51b6a8572e59d06",
   "display_name": "Python 3.8.5 64-bit"
  }
 },
 "nbformat": 4,
 "nbformat_minor": 2,
 "cells": [
  {
   "cell_type": "code",
   "execution_count": 94,
   "metadata": {},
   "outputs": [],
   "source": [
    "import numpy as np \n",
    "import random\n",
    "import statistics as st\n",
    "import itertools as iter\n",
    "\n",
    "\n",
    "n = 3\n",
    "full_grams = []\n",
    "def load_data(file):\n",
    "    global full_grams\n",
    "    words_of_interest = set()\n",
    "    full_words = set()\n",
    "    with open('test5.txt') as f:\n",
    "        for line in f:\n",
    "            line.rstrip()\n",
    "            words_of_interest.update(set([x[-min(n, len(x)):] for x in line.split()]))\n",
    "            full_words.update(set([x for x in line.split()]))\n",
    "    K = 10\n",
    "    with open(file) as f:\n",
    "        full_grams = [x.split() for x in f if int(x.split()[0]) > K and x.split()[1] in full_words and x.split()[2] in full_words]\n",
    "    with open(file) as f:\n",
    "        res = [x.split() for x in f if int(x.split()[0]) > K and x.split()[1][-min(n, len(x.split()[1])):] in words_of_interest and x.split()[2][-min(n, len(x.split()[2])):] in words_of_interest]\n",
    "        return res"
   ]
  },
  {
   "cell_type": "code",
   "execution_count": 95,
   "metadata": {
    "tags": []
   },
   "outputs": [],
   "source": [
    "gram2_data = load_data('poleval_2grams.txt')"
   ]
  },
  {
   "cell_type": "code",
   "execution_count": 96,
   "metadata": {
    "tags": []
   },
   "outputs": [],
   "source": [
    "gram2_dict = dict()\n",
    "fullgram2_dict = dict()\n",
    "for x in full_grams:\n",
    "    if fullgram2_dict.get(x[1], 0) == 0:\n",
    "        fullgram2_dict[x[1]] = {x[2]: int(x[0])}\n",
    "    else:\n",
    "        fullgram2_dict[x[1]][x[2]] = int(x[0])\n",
    "\n",
    "for x in gram2_data:\n",
    "    if gram2_dict.get(x[1][-min(n, len(x[1])):], 0) == 0:\n",
    "        gram2_dict[x[1][-min(n, len(x[1])):]] = {x[2][-min(n, len(x[2])):] : int(x[0])}\n",
    "    else:\n",
    "        gram2_dict[x[1][-min(n, len(x[1])):]][x[2][-min(n, len(x[2])):]] = int(x[0])\n"
   ]
  },
  {
   "cell_type": "code",
   "execution_count": 97,
   "metadata": {},
   "outputs": [],
   "source": [
    "def check_sentence(s):\n",
    "    res = []\n",
    "    for per in iter.permutations(s.split(' ')):\n",
    "        score = 0\n",
    "        for i in range(len(per)-1):\n",
    "            if gram2_dict.get(per[i][-min(n, len(per[i])):], 0) == 0:\n",
    "                continue\n",
    "\n",
    "            score += fullgram2_dict.get(per[i], dict()).get(per[i+1],0)\n",
    "\n",
    "            score += gram2_dict.get(per[i][-min(n, len(per[i])):], 0).get(per[i+1][-min(n, len(per[i+1])):], 0)\n",
    "\n",
    "        res.append((score, per))\n",
    "    res = set(res)\n",
    "    res = list(res)\n",
    "    res = sorted(res, reverse = True)\n",
    "    for i in range(len(res)):\n",
    "        sentence = res[i][1]\n",
    "        t = ' '.join(sentence)\n",
    "        # print(t)\n",
    "        # print(s)\n",
    "        # print(\"==================\")\n",
    "        if t == s:\n",
    "            return 1/(i+1)\n",
    "    return 0\n"
   ]
  },
  {
   "cell_type": "code",
   "execution_count": 99,
   "metadata": {
    "tags": []
   },
   "outputs": [
    {
     "output_type": "stream",
     "name": "stdout",
     "text": [
      "zapowiadamy je z co najmniej tygodniowym wyprzedzeniem\n",
      "\n",
      "jest tak tylko w trybie stacjonarnym \n",
      "\n",
      "pozostałe zajęcia domyślnie zaczynają się w pracowni\n",
      "\n",
      "pracownia polega na indywidualnych konsutlacjach\n",
      "\n",
      "rozmawiamy tam na temat rozwiązań \n",
      "\n",
      "zawiera ona numery zadań\n",
      "\n",
      "spóźnione zadania nie będą sprawdzane\n",
      "\n",
      "50 punktów daje ocenę dostateczną\n",
      "\n",
      "dotyczą osób z dużą liczbą punktów\n",
      "\n",
      "forma egzaminu zależy od wielu czynników\n",
      "\n",
      "programowanie nie jest szczególnie trudne\n",
      "\n",
      "rachunek prawdopodobieństwa przydaje się w życiu\n",
      "\n",
      "average:  0.2422025204695133\n"
     ]
    }
   ],
   "source": [
    "sum = 0\n",
    "count = 0\n",
    "with open('test5.txt') as f:\n",
    "    for line in f:\n",
    "        t = check_sentence(line.rstrip()) #rstrip w wersji bez EOS BOS\n",
    "        if t == 1.0:\n",
    "            print(line)\n",
    "        sum += t\n",
    "        count += 1\n",
    "print('average: ', sum / count)"
   ]
  },
  {
   "cell_type": "code",
   "execution_count": null,
   "metadata": {},
   "outputs": [],
   "source": []
  }
 ]
}