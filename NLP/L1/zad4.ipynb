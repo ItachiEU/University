{
 "metadata": {
  "language_info": {
   "codemirror_mode": {
    "name": "ipython",
    "version": 3
   },
   "file_extension": ".py",
   "mimetype": "text/x-python",
   "name": "python",
   "nbconvert_exporter": "python",
   "pygments_lexer": "ipython3",
   "version": "3.8.5-final"
  },
  "orig_nbformat": 2,
  "kernelspec": {
   "name": "python38564bit15739fc702ac4a39a51b6a8572e59d06",
   "display_name": "Python 3.8.5 64-bit"
  }
 },
 "nbformat": 4,
 "nbformat_minor": 2,
 "cells": [
  {
   "cell_type": "code",
   "execution_count": 1,
   "metadata": {},
   "outputs": [],
   "source": [
    "import numpy as np \n",
    "import random\n",
    "import statistics as st\n",
    "import itertools as iter\n",
    "\n",
    "initial_text ='''Judyta dała wczoraj Stefanowi czekoladki Babuleńka miała dwa rogate koziołki Wczoraj wieczorem spotkałem pewną piękną kobietę Jestem dzisiaj jakoś straszliwie głodny Ciekawe co mam dobrego w lodówce'''.lower()\n",
    "\n",
    "words_of_interest = set(initial_text.split(' '))\n",
    "\n",
    "def load_data(file):\n",
    "    # with open(file) as f:\n",
    "    #     for line in f:\n",
    "    #         if line.split()[1].lower() in words_of_interest:\n",
    "    #             print(line.split()[1].lower())\n",
    "    with open(file) as f:\n",
    "        res = [x.split() for x in f if (x.split()[1].lower() in words_of_interest and x.split()[2].lower() in words_of_interest)]\n",
    "        return res"
   ]
  },
  {
   "cell_type": "code",
   "execution_count": 2,
   "metadata": {
    "tags": []
   },
   "outputs": [],
   "source": [
    "gram2_data = load_data('poleval_2grams.txt')\n"
   ]
  },
  {
   "cell_type": "code",
   "execution_count": 3,
   "metadata": {},
   "outputs": [],
   "source": [
    "gram2_dict = dict()\n",
    "for x in gram2_data:\n",
    "    if gram2_dict.get(x[1], 0) == 0:\n",
    "        gram2_dict[x[1]] = {x[2]: int(x[0])}\n",
    "    else:\n",
    "        gram2_dict[x[1]][x[2]] = int(x[0])\n"
   ]
  },
  {
   "cell_type": "code",
   "execution_count": 4,
   "metadata": {
    "tags": []
   },
   "outputs": [
    {
     "output_type": "stream",
     "name": "stdout",
     "text": [
      "(454, ('spotkałem', 'wczoraj', 'wieczorem', 'pewną', 'piękną', 'kobietę'))\n(454, ('pewną', 'piękną', 'kobietę', 'spotkałem', 'wczoraj', 'wieczorem'))\n(453, ('wczoraj', 'wieczorem', 'spotkałem', 'pewną', 'piękną', 'kobietę'))\n(453, ('spotkałem', 'pewną', 'piękną', 'kobietę', 'wczoraj', 'wieczorem'))\n(452, ('wczoraj', 'wieczorem', 'pewną', 'piękną', 'kobietę', 'spotkałem'))\n(452, ('pewną', 'piękną', 'kobietę', 'wczoraj', 'wieczorem', 'spotkałem'))\n(449, ('spotkałem', 'wczoraj', 'wieczorem', 'piękną', 'kobietę', 'pewną'))\n(449, ('piękną', 'kobietę', 'spotkałem', 'wczoraj', 'wieczorem', 'pewną'))\n(449, ('piękną', 'kobietę', 'pewną', 'spotkałem', 'wczoraj', 'wieczorem'))\n(449, ('pewną', 'spotkałem', 'wczoraj', 'wieczorem', 'piękną', 'kobietę'))\n(448, ('wczoraj', 'wieczorem', 'spotkałem', 'piękną', 'kobietę', 'pewną'))\n(448, ('wczoraj', 'wieczorem', 'piękną', 'kobietę', 'spotkałem', 'pewną'))\n(448, ('wczoraj', 'wieczorem', 'pewną', 'spotkałem', 'piękną', 'kobietę'))\n(448, ('spotkałem', 'piękną', 'kobietę', 'wczoraj', 'wieczorem', 'pewną'))\n(448, ('spotkałem', 'piękną', 'kobietę', 'pewną', 'wczoraj', 'wieczorem'))\n(448, ('spotkałem', 'pewną', 'wczoraj', 'wieczorem', 'piękną', 'kobietę'))\n(448, ('piękną', 'kobietę', 'wczoraj', 'wieczorem', 'spotkałem', 'pewną'))\n(448, ('piękną', 'kobietę', 'spotkałem', 'pewną', 'wczoraj', 'wieczorem'))\n(448, ('pewną', 'wczoraj', 'wieczorem', 'spotkałem', 'piękną', 'kobietę'))\n(448, ('pewną', 'spotkałem', 'piękną', 'kobietę', 'wczoraj', 'wieczorem'))\n"
     ]
    }
   ],
   "source": [
    "res = []\n",
    "test_sentence = \"Wczoraj wieczorem spotkałem pewną piękną kobietę\".lower()\n",
    "for per in iter.permutations(test_sentence.split()):\n",
    "    score = 0\n",
    "    for i in range(len(per)-1):\n",
    "        score += gram2_dict.get(per[i], dict()).get(per[i+1],0)\n",
    "    res.append((score, per))\n",
    "res = set(res)\n",
    "res = list(res)\n",
    "res = sorted(res, reverse = True)\n",
    "\n",
    "for phrase in res[:20]:\n",
    "    print(phrase)\n"
   ]
  },
  {
   "cell_type": "code",
   "execution_count": null,
   "metadata": {},
   "outputs": [],
   "source": []
  }
 ]
}