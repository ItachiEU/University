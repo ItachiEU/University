{
 "metadata": {
  "language_info": {
   "codemirror_mode": {
    "name": "ipython",
    "version": 3
   },
   "file_extension": ".py",
   "mimetype": "text/x-python",
   "name": "python",
   "nbconvert_exporter": "python",
   "pygments_lexer": "ipython3",
   "version": "3.8.5-final"
  },
  "orig_nbformat": 2,
  "kernelspec": {
   "name": "python38564bit15739fc702ac4a39a51b6a8572e59d06",
   "display_name": "Python 3.8.5 64-bit"
  }
 },
 "nbformat": 4,
 "nbformat_minor": 2,
 "cells": [
  {
   "cell_type": "code",
   "execution_count": 1,
   "metadata": {},
   "outputs": [],
   "source": [
    "import numpy as np \n",
    "import collections\n",
    "\n",
    "def load_data(file):\n",
    "    K = 5\n",
    "    with open(file) as f:\n",
    "        temp = 1\n",
    "        res = [x.split() for x in f if int(x.split()[0]) >= K]\n",
    "        return res\n",
    "bigramData = load_data('../../NLP_Resources/poleval_2grams.txt')"
   ]
  },
  {
   "cell_type": "code",
   "execution_count": 2,
   "metadata": {},
   "outputs": [],
   "source": [
    "wordToSupertag = dict()\n",
    "sufToSupertag = collections.defaultdict(list)\n",
    "\n",
    "with open('../../NLP_Resources/supertags.txt') as f:\n",
    "    temp = [tuple(x.split()) for x in f]\n",
    "    wordToSupertag = {word: tag for (word, tag) in temp}\n",
    "    for word,tag in temp:\n",
    "        sufToSupertag[word[-3:]].append(tag)"
   ]
  },
  {
   "cell_type": "code",
   "execution_count": 82,
   "metadata": {},
   "outputs": [],
   "source": [
    "bigramsByTag = collections.defaultdict(int)\n",
    "bigramsByTagCount = collections.defaultdict(int)\n",
    "bigrams = collections.defaultdict(int)\n",
    "\n",
    "for el in bigramData:\n",
    "    value, word1, word2 = el\n",
    "    bigrams[word1+'#'+word2] = int(value)\n",
    "    regularSum += int(value)\n",
    "    tag1 = wordToSupertag.get(word1, '')\n",
    "    if tag1 == '':\n",
    "        tag1 = random.choice(sufToSupertag.get(word1[-3:], [\"empty\"]))\n",
    "    tag2 = wordToSupertag.get(word2, '')\n",
    "    if tag2 == '':\n",
    "        tag2 = random.choice(sufToSupertag.get(word2[-3:], [\"empty\"]))\n",
    "    if tag1 != 'empty' and tag2 != 'empty':\n",
    "        bigramsByTag[tag1 + '#' + tag2] += int(value)\n",
    "        bigramsByTagCount[tag1 + '#' + tag2] += 1\n",
    "    "
   ]
  },
  {
   "cell_type": "code",
   "execution_count": 161,
   "metadata": {},
   "outputs": [],
   "source": [
    "n = 3\n",
    "sufSum = 0\n",
    "bigramSuf = collections.defaultdict(int)\n",
    "for x in bigramData:\n",
    "    v, w1, w2 = x\n",
    "    suf1 = w1[-min(n, len(w1)):]\n",
    "    suf2 = w2[-min(n, len(w2)):]\n",
    "    bigramSuf[suf1+'#'+suf2] = int(v)\n",
    "# for x in bigramData:\n",
    "#     if bigramSuf.get(x[1][-min(n, len(x[1])):], 0) == 0:\n",
    "#         bigramSuf[x[1][-min(n, len(x[1])):]] = {x[2][-min(n, len(x[2])):] : int(x[0])}\n",
    "#     else:\n",
    "#         bigramSuf[x[1][-min(n, len(x[1])):]][x[2][-min(n, len(x[2])):]] = int(x[0])"
   ]
  },
  {
   "cell_type": "code",
   "execution_count": 202,
   "metadata": {},
   "outputs": [],
   "source": [
    "import statistics as st\n",
    "import itertools as iter\n",
    "\n",
    "def check_sentence(s, alfa):\n",
    "    res = []\n",
    "    for per in iter.permutations(s.split(' ')):\n",
    "        score = 0\n",
    "        for i in range(len(per)-1):\n",
    "            word1, word2 = per[i:i+2]\n",
    "            suf1 = word1[-min(n, len(word1)):]\n",
    "            suf2 = word2[-min(n, len(word2)):]\n",
    "\n",
    "            tag1 = wordToSupertag.get(word1, '')\n",
    "            if tag1 == '':\n",
    "                tag1 = random.choice(sufToSupertag.get(word1[-3:], [\"empty\"]))\n",
    "\n",
    "            tag2 = wordToSupertag.get(word2, '')\n",
    "            if tag2 == '':\n",
    "                tag2 = random.choice(sufToSupertag.get(word2[-3:], [\"empty\"]))\n",
    "\n",
    "            temp = bigramsByTag.get(tag1+'#'+tag2, 0)\n",
    "            \n",
    "            score += bigrams[word1+'#'+word2]*(1.64)\n",
    "            score += 0.34*(temp / max(1, bigramsByTagCount[tag1+'#'+tag2]))\n",
    "            score += 0.93*bigramSuf[suf1+'#'+suf2]\n",
    "\n",
    "        res.append((score, per))\n",
    "\n",
    "    res = set(res)\n",
    "    res = list(res)\n",
    "    res = sorted(res, reverse = True)\n",
    "\n",
    "    for i in range(len(res)):\n",
    "        sentence = res[i][1]\n",
    "        t = ' '.join(sentence)\n",
    "\n",
    "        if t == s:\n",
    "            return 1/(i+1)\n",
    "    return 0\n"
   ]
  },
  {
   "cell_type": "code",
   "execution_count": 203,
   "metadata": {
    "tags": []
   },
   "outputs": [
    {
     "output_type": "stream",
     "name": "stdout",
     "text": [
      "average:  0.21126345577054903\n"
     ]
    }
   ],
   "source": [
    "bestAlfa = 0\n",
    "bestScore = 0\n",
    "alfa = 0.0\n",
    "for i in range(0, 100):\n",
    "    alfa += 0.01\n",
    "    sum = 0\n",
    "    count = 0\n",
    "    with open('test2.txt') as f:\n",
    "        for line in f:\n",
    "            t = check_sentence(line.rstrip(), alfa) #rstrip w wersji bez EOS BOS\n",
    "            #if t == 1.0:\n",
    "                #print(line)\n",
    "            sum += t\n",
    "            count += 1\n",
    "\n",
    "    if sum / count > bestScore:\n",
    "        \n",
    "        bestAlfa = alfa\n",
    "        bestScore = sum / count\n",
    "    print('average: ', sum / count)"
   ]
  },
  {
   "cell_type": "code",
   "execution_count": 204,
   "metadata": {},
   "outputs": [
    {
     "output_type": "stream",
     "name": "stdout",
     "text": [
      "zapowiadamy je z co najmniej tygodniowym wyprzedzeniem\n",
      "\n",
      "ćwiczenia zaczynają się w sali seminaryjnej\n",
      "\n",
      "pozostałe zajęcia domyślnie zaczynają się w pracowni\n",
      "\n",
      "rozmawiamy tam na temat rozwiązań \n",
      "\n",
      "tryb zajęć zależy od sytuacji epidemiologicznej\n",
      "\n",
      "zadania należy rozwiązywać samodzielnie\n",
      "\n",
      "spóźnione zadania nie będą sprawdzane\n",
      "\n",
      "dotyczą osób z dużą liczbą punktów\n",
      "\n",
      "forma egzaminu zależy od wielu czynników\n",
      "\n",
      "programowanie nie jest szczególnie trudne\n",
      "\n",
      "average:  0.2111470147647463\n"
     ]
    }
   ],
   "source": [
    "sum = 0\n",
    "count = 0\n",
    "with open('test2.txt') as f:\n",
    "    for line in f:\n",
    "        t = check_sentence(line.rstrip(), alfa) #rstrip w wersji bez EOS BOS\n",
    "        if t == 1.0:\n",
    "            print(line)\n",
    "        sum += t\n",
    "        count += 1\n",
    "\n",
    "print('average: ', sum / count)"
   ]
  },
  {
   "cell_type": "code",
   "execution_count": null,
   "metadata": {},
   "outputs": [],
   "source": []
  }
 ]
}