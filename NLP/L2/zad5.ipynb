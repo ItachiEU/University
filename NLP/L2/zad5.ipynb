{
 "metadata": {
  "language_info": {
   "codemirror_mode": {
    "name": "ipython",
    "version": 3
   },
   "file_extension": ".py",
   "mimetype": "text/x-python",
   "name": "python",
   "nbconvert_exporter": "python",
   "pygments_lexer": "ipython3",
   "version": "3.8.5-final"
  },
  "orig_nbformat": 2,
  "kernelspec": {
   "name": "python38564bit15739fc702ac4a39a51b6a8572e59d06",
   "display_name": "Python 3.8.5 64-bit"
  }
 },
 "nbformat": 4,
 "nbformat_minor": 2,
 "cells": [
  {
   "cell_type": "code",
   "execution_count": 1,
   "metadata": {},
   "outputs": [],
   "source": [
    "import numpy as np \n",
    "import collections\n",
    "\n",
    "unigrams = collections.defaultdict(int)\n",
    "\n",
    "with open('../../NLP_Resources/polish_corpora.txt') as f:\n",
    "    for line in f:\n",
    "        line = line.lower()\n",
    "        words = line.split()\n",
    "        for word in words:\n",
    "            unigrams[word] += 1"
   ]
  },
  {
   "cell_type": "code",
   "execution_count": 2,
   "metadata": {},
   "outputs": [],
   "source": [
    "def load_data(file):\n",
    "    K = 5\n",
    "    with open(file) as f:\n",
    "        temp = 1\n",
    "        res = [x.split() for x in f if int(x.split()[0]) >= K]\n",
    "        return res\n",
    "bigramData = load_data('../../NLP_Resources/poleval_2grams.txt')"
   ]
  },
  {
   "cell_type": "code",
   "execution_count": 25,
   "metadata": {},
   "outputs": [],
   "source": [
    "unigramSum = 0.0\n",
    "unigramsPPMI = collections.defaultdict(int)\n",
    "\n",
    "alfa = 0.75\n",
    "\n",
    "for key in unigrams.keys():\n",
    "    unigramSum += unigrams[key]**alfa\n",
    "\n",
    "for key in unigrams.keys():\n",
    "    unigramsPPMI[key] = (unigrams[key]**alfa / unigramSum )\n"
   ]
  },
  {
   "cell_type": "code",
   "execution_count": 26,
   "metadata": {},
   "outputs": [],
   "source": [
    "\n",
    "bigramSum = 0.0\n",
    "bigramPPMI = collections.defaultdict(int)\n",
    "\n",
    "for el in bigramData:\n",
    "    value, w1, w2 = el\n",
    "    bigramSum += int(value)**alfa\n",
    "\n",
    "for el in bigramData:\n",
    "    value, w1, w2 = el\n",
    "    bigramPPMI[w1+'#'+w2] = (int(value)**alfa / bigramSum )"
   ]
  },
  {
   "source": [
    "## a) PPMI"
   ],
   "cell_type": "markdown",
   "metadata": {}
  },
  {
   "cell_type": "code",
   "execution_count": 44,
   "metadata": {
    "tags": []
   },
   "outputs": [],
   "source": [
    "testSet = [\"dziewczynka\", \"kobieta\", \"helikopter\", \"śmigłowiec\", \"chłopak\", \"mężczyzna\", \"herbata\", \"kawa\", \"piwo\", \"wino\"]\n",
    "\n",
    "results = collections.defaultdict(list)\n",
    "i = 0\n",
    "for bigram in bigramPPMI:\n",
    "    w1, w2 = bigram.split('#')\n",
    "    if w1 in testSet or w2 in testSet:\n",
    "        if unigramsPPMI.get(w1, 0) == 0 or unigramsPPMI.get(w2, 0) == 0:\n",
    "            continue\n",
    "        temp = np.maximum(0.0, np.log(bigramPPMI[bigram] / unigramsPPMI[w1] / unigramsPPMI[w2]))\n",
    "\n",
    "    if w1 in testSet:\n",
    "        results[w1].append((temp, w2))\n",
    "    elif w2 in testSet:\n",
    "        results[w2].append((temp, w1))\n",
    "    \n"
   ]
  },
  {
   "cell_type": "code",
   "execution_count": 46,
   "metadata": {
    "tags": []
   },
   "outputs": [
    {
     "output_type": "stream",
     "name": "stdout",
     "text": [
      "dziewczynka\n[(9.731769047508996, '7-letnia'),\n (9.695176424381922, 'dwunastoletnia'),\n (9.620454043670291, '9-letnia'),\n (9.543283226298316, '12-letnia'),\n (9.534995849158378, 'ośmioletnia'),\n (9.479414870043087, '10-letnia'),\n (9.34267370244762, '13-letnia'),\n (9.319234294819541, 'kilkunastoletnia'),\n (9.242525157979228, '14-letnia'),\n (9.198394782962028, 'czteroletnia')]\n\nkobieta\n[(9.24640889032487, '65-letnia'),\n (8.99405471285896, '54-letnia'),\n (8.972314060204022, 'sposora'),\n (8.857313545263494, 'ciezarna'),\n (8.797281514508342, '38-letnia'),\n (8.64155199092466, 'zamozna'),\n (8.64155199092466, '50-letnia'),\n (8.621727048123542, 'spodziewająca'),\n (8.505062881809131, 'dojrzala'),\n (8.474194327439001, '22-letnia')]\n\nhelikopter\n[(9.325936454415205, 'ratowniczy'),\n (9.310259854943007, 'szturmowy'),\n (9.155910276550829, 'ratunkowy'),\n (8.826907255819535, 'lądował'),\n (8.58017299565743, 'policyjny'),\n (8.327818818191519, 'policyjny'),\n (6.801831480583695, 'wojskowy'),\n (6.665090312988228, 'wojskowy'),\n (6.5590293799139605, 'lotniczego'),\n (5.1955798265647415, 'jeden')]\n\nśmigłowiec\n[(11.118006631054328, 'wielosilnikowy'),\n (10.805031956737952, 'ec-725'),\n (10.039249067378881, 'mi-2'),\n (10.0383524743253, 'mi-24d'),\n (9.483602077179171, 'w-3'),\n (9.38814383099705, 'wielozadaniowy'),\n (9.338282213737443, 'mi-24'),\n (9.30970732906324, 'caracal'),\n (9.245450800478075, 'mi-8'),\n (9.164502746068047, 'ratowniczy')]\n\nchłopak\n[(8.996780267510356, 'kilkunastoletni'),\n (8.68131758266378, 'szesnastoletni'),\n (8.646427570937611, '14-letni'),\n (8.381197540754927, '17-letni'),\n (8.284047001611, 'piętnastoletni'),\n (8.252477839997022, 'osiemnastoletni'),\n (8.1659348224837, '18-letni'),\n (7.940357542078338, '16-letni'),\n (7.773133345817296, 'młody'),\n (7.6857271868410635, '15-letni')]\n\nmężczyzna\n[(9.111215943680158, '47-letni'),\n (9.082910697693022, '61-letni'),\n (8.946169530097555, '59-letni'),\n (8.886137499342404, 'postawny'),\n (8.795666508500942, 'ciemnowłosy'),\n (8.795666508500942, '62-letni'),\n (8.743921854885729, '55-letni'),\n (8.40575991403651, '41-letni'),\n (8.366277113922445, '38-letni'),\n (8.295544104319013, '60-letni')]\n\nherbata\n[(10.230843725326315, 'cejlońska'),\n (10.01508217098748, 'pu-erh'),\n (9.940763994004307, 'liściasta'),\n (9.842386406675175, 'matcha'),\n (9.779658735050473, 'mrożona'),\n (9.528773705948565, 'miętowa'),\n (9.41586665211027, 'ziołowa'),\n (9.259798349630515, 'mrożona'),\n (9.126298575157167, 'owocowa'),\n (8.734818490407756, 'lipton')]\n\nkawa\n[(10.821458199311497, 'bezkofeinowa'),\n (10.299647227616495, 'ziarnista'),\n (9.945754329195202, 'zaparzona'),\n (9.930046948811269, 'rozpuszczalna'),\n (9.861073538225295, 'mielona'),\n (9.58376326909573, 'lavazza'),\n (9.498766755115478, 'zbożowa'),\n (9.407189732514803, 'palona'),\n (9.357574535880152, 'aromatyczna'),\n (9.254441200258736, 'poranna')]\n\npiwo\n[(10.077620983890002, 'warzą'),\n (9.940879816294537, 'warzyć'),\n (9.694501766065509, 'grodziskie'),\n (9.68771438942557, 'butelkowe'),\n (9.63832578493567, 'pszeniczne'),\n (9.49772856771489, 'warzył'),\n (9.305406421004133, 'noteckie'),\n (9.238809796916785, 'warzone'),\n (9.17464138064555, 'warzono'),\n (9.096371369152369, 'pilsner')]\n\nwino\n[(10.23426156091939, 'grzane'),\n (10.0691495850307, 'gronowe'),\n (9.64072234581187, 'wyrabiających'),\n (9.544083699261801, 'musujące'),\n (9.323579707696844, 'perliste'),\n (9.201690510573513, 'wytrawne'),\n (9.06387253015847, 'półsłodkie'),\n (9.040944980594961, 'deserowe'),\n (9.036923523238922, 'marsala'),\n (9.028151493416528, 'odmianowe')]\n\n"
     ]
    }
   ],
   "source": [
    "import pprint\n",
    "\n",
    "for word in testSet:\n",
    "    results[word] = sorted(results[word], reverse=True)\n",
    "    print(word)\n",
    "    pprint.pprint(results[word][:10])\n",
    "    print()"
   ]
  },
  {
   "source": [
    "## b) PSM\n"
   ],
   "cell_type": "markdown",
   "metadata": {}
  },
  {
   "cell_type": "code",
   "execution_count": 48,
   "metadata": {},
   "outputs": [],
   "source": [
    "bigramCount = collections.defaultdict(int)\n",
    "\n",
    "for el in bigramData:\n",
    "    value, w1, w2 = el\n",
    "    bigramCount[w1+'#'+w2] += int(value)\n",
    "\n",
    "unigramTrueSum = 0.0\n",
    "for el in unigrams:\n",
    "    unigramTrueSum += unigrams[el]"
   ]
  },
  {
   "cell_type": "code",
   "execution_count": 49,
   "metadata": {},
   "outputs": [],
   "source": [
    "results = collections.defaultdict(list)\n",
    "\n",
    "for bigram in bigramPPMI:\n",
    "    w1, w2 = bigram.split('#')\n",
    "    if w1 in testSet or w2 in testSet:\n",
    "        if unigrams.get(w1, 0) == 0 or unigrams.get(w2, 0) == 0:\n",
    "            continue\n",
    "        temp = bigramCount[bigram] * (np.log(bigramCount[bigram]) - np.log(unigrams[w1] * unigrams[w2] / unigramTrueSum) - 1)\n",
    "\n",
    "    if w1 in testSet:\n",
    "        results[w1].append((temp, w2))\n",
    "    elif w2 in testSet:\n",
    "        results[w2].append((temp, w1))"
   ]
  },
  {
   "cell_type": "code",
   "execution_count": 50,
   "metadata": {},
   "outputs": [
    {
     "output_type": "stream",
     "name": "stdout",
     "text": [
      "dziewczynka\n[(1433.5082621986912, 'mała'),\n (173.55058477035226, 'letnia'),\n (131.37311926138224, 'kilkuletnia'),\n (101.1708296343594, 'miała'),\n (96.9205436775878, 'czteroletnia'),\n (93.71573937803157, 'została'),\n (89.21380949573266, 'każda'),\n (82.67086769027179, '10-letnia'),\n (77.75784078775601, 'zmarła'),\n (75.7866723043003, 'dwunastoletnia')]\n\nkobieta\n[(3502.559794836202, 'każda'),\n (2360.058859048639, 'młoda'),\n (1601.444719586835, 'pierwsza'),\n (978.8323799190453, 'że'),\n (785.4416127612078, 'jedna'),\n (635.8306807833914, 'gdy'),\n (541.2543931989528, 'ma'),\n (540.791019689812, 'starsza'),\n (530.1435296603872, 'powinna'),\n (519.6900251494683, 'piękna')]\n\nhelikopter\n[(87.5431250759608, 'ratunkowy'),\n (62.86709854657339, 'ratowniczy'),\n (55.90663959816749, 'policyjny'),\n (44.80055972726157, 'szturmowy'),\n (41.68646289137557, 'jeden'),\n (41.57820906643843, 'lądował'),\n (38.250952815584995, 'policyjny'),\n (33.6932446778394, 'wojskowy'),\n (27.166096114229727, 'wojskowy'),\n (26.45902322706794, 'lotniczego')]\n\nśmigłowiec\n[(307.8950244230379, 'mi-2'),\n (165.5390329494919, 'transportowy'),\n (145.02331594972333, 'wielozadaniowy'),\n (133.05478418910388, 'ratunkowy'),\n (127.51561680800141, 'nowy'),\n (122.7207678706665, 'ratowniczy'),\n (108.95137045595759, 'jeden'),\n (107.9697010861388, 'mi-24'),\n (95.322195184219, 'lotniczego'),\n (87.44867000989441, 'szturmowy')]\n\nchłopak\n[(1928.0601713864319, 'młody'),\n (743.4674650861039, 'mój'),\n (321.55050140650417, 'jej'),\n (246.91011496288488, 'ten'),\n (236.54635647439352, 'że'),\n (202.8057615952761, 'ma'),\n (162.30064408196685, 'kilkunastoletni'),\n (123.21055764518248, 'fajny'),\n (121.07880864980947, 'twój'),\n (116.42218020890954, 'postanawia')]\n\nmężczyzna\n[(1843.4750676739657, 'młody'),\n (598.7218164271388, 'każdy'),\n (529.4788454910847, 'starszy'),\n (400.19239817313627, 'że'),\n (346.31539338171683, 'prawdziwy'),\n (331.67187461637286, 'został'),\n (315.39309958551706, 'tajemniczy'),\n (298.39285381113837, 'jako'),\n (278.707453515442, 'żonaty'),\n (257.9779583351757, 'dorosły')]\n\nherbata\n[(1557.237821021377, 'zielona'),\n (374.72780084037845, 'zielona'),\n (262.998057168218, 'czarna'),\n (248.86268060508064, 'gorąca'),\n (210.6251247064138, 'czarna'),\n (146.49675454844618, 'mieszania'),\n (118.0997578269758, 'czerwona'),\n (108.17233190202992, 'czy'),\n (95.8597711892894, 'mrożona'),\n (89.69081924507007, 'czerwona')]\n\nkawa\n[(479.5382421265566, 'rozpuszczalna'),\n (380.91056681020905, 'marek'),\n (329.7141347182245, 'zielona'),\n (328.93744348854295, 'ziarnista'),\n (227.7008498661061, 'marian'),\n (213.27966417623142, 'mielona'),\n (204.37080266841897, 'poranna'),\n (202.08343605101422, ','),\n (180.46396373403684, 'aromatyczna'),\n (175.0176351012966, 'zbożowa')]\n\npiwo\n[(324.66046127110786, 'na'),\n (278.41312437079273, 'pije'),\n (253.73339600694845, 'pszeniczne'),\n (221.62113003543388, 'warzone'),\n (196.01877121175377, 'warzyć'),\n (187.37778166614686, 'zimne'),\n (176.39724883861635, 'bezalkoholowe'),\n (173.38273886269573, 'pić'),\n (166.70505770878805, 'wypić'),\n (156.71688585258346, 'jasne')]\n\nwino\n[(816.7826203793072, 'czerwone'),\n (408.85056167500557, 'gronowe'),\n (366.91611192314974, 'grzane'),\n (361.9469136797205, 'białe'),\n (299.7219958672951, 'wytrawne'),\n (287.428189207532, 'musujące'),\n (282.7310930217635, 'czerwone'),\n (213.9768159895632, 'dobre'),\n (184.36076446410658, 'wytrawne'),\n (145.16828089175226, 'dzikie')]\n\n"
     ]
    }
   ],
   "source": [
    "for word in testSet:\n",
    "    results[word] = sorted(results[word], reverse=True)\n",
    "    print(word)\n",
    "    pprint.pprint(results[word][:10])\n",
    "    print()"
   ]
  },
  {
   "source": [
    "## c) Kolokacje gramatyczno-słowowe"
   ],
   "cell_type": "markdown",
   "metadata": {}
  },
  {
   "cell_type": "code",
   "execution_count": 51,
   "metadata": {},
   "outputs": [],
   "source": [
    "wordToSupertag = dict()\n",
    "sufToSupertag = collections.defaultdict(list)\n",
    "\n",
    "with open('../../NLP_Resources/supertags.txt') as f:\n",
    "    temp = [tuple(x.split()) for x in f]\n",
    "    wordToSupertag = {word: tag for (word, tag) in temp}\n",
    "    for word,tag in temp:\n",
    "        sufToSupertag[word[-3:]].append(tag)"
   ]
  },
  {
   "cell_type": "code",
   "execution_count": 60,
   "metadata": {},
   "outputs": [],
   "source": [
    "import random\n",
    "tagBigrams = collections.defaultdict(int)\n",
    "\n",
    "for bigram in bigramCount:\n",
    "    w1, w2 = bigram.split('#')\n",
    "    tag1 = wordToSupertag.get(w1, '')\n",
    "    tag2 = wordToSupertag.get(w2, '')\n",
    "    tagBigrams[tag1+'#'+tag2] += bigramCount[bigram]\n"
   ]
  },
  {
   "cell_type": "code",
   "execution_count": 61,
   "metadata": {},
   "outputs": [],
   "source": [
    "results = collections.defaultdict(list)\n",
    "for bigram in bigramPPMI:\n",
    "    w1, w2 = bigram.split('#')\n",
    "    if w1 in testSet or w2 in testSet:\n",
    "        if unigrams.get(w1, 0) == 0 or unigrams.get(w2, 0) == 0:\n",
    "            continue\n",
    "        tag1 = wordToSupertag.get(w1, '')\n",
    "        if tag1 == '':\n",
    "            tag1 = random.choice(sufToSupertag.get(w1[-3:], [\"empty\"]))\n",
    "        \n",
    "        tag2 = wordToSupertag.get(w2, '')\n",
    "        if tag2 == '':\n",
    "            tag2 = random.choice(sufToSupertag.get(w2[-3:], [\"empty\"]))\n",
    "\n",
    "        hash = tag1 + '#' + tag2\n",
    "        temp = bigramCount[bigram] + tagBigrams[hash]\n",
    "\n",
    "    if w1 in testSet:\n",
    "        results[w1].append((temp, w2))\n",
    "    elif w2 in testSet:\n",
    "        results[w2].append((temp, w1))"
   ]
  },
  {
   "cell_type": "code",
   "execution_count": 62,
   "metadata": {},
   "outputs": [
    {
     "output_type": "stream",
     "name": "stdout",
     "text": [
      "dziewczynka\n[(408098, 'mała'),\n (407913, 'letnia'),\n (407912, 'każda'),\n (407904, 'kilkuletnia'),\n (407900, 'czteroletnia'),\n (407897, 'trzyletnia'),\n (407897, 'pewna'),\n (407897, 'ośmioletnia'),\n (407897, 'grzeczna'),\n (407897, 'dwunastoletnia')]\n\nkobieta\n[(474280, 'ciężarna'),\n (474251, 'wysoka'),\n (474243, 'samotna'),\n (474242, 'cmentarna'),\n (474240, 'podeszła'),\n (474240, 'pełna'),\n (474240, 'chora'),\n (474239, 'idealna'),\n (474238, 'współczesna'),\n (408546, 'każda')]\n\nhelikopter\n[(963993, 'na'),\n (963991, 'w'),\n (805849, 'wojskowy'),\n (805849, 'policyjny'),\n (794961, 'ratunkowy'),\n (794958, 'policyjny'),\n (794957, 'wojskowy'),\n (794956, 'szturmowy'),\n (611422, 'w'),\n (209110, 'i')]\n\nśmigłowiec\n[(2905, 'transportowy'),\n (2900, 'wielozadaniowy'),\n (2900, 'ratunkowy'),\n (2894, 'szturmowy'),\n (2894, 'nowy'),\n (2890, 'przeciwpancerny'),\n (2889, 'wielosilnikowy'),\n (2889, 'pokładowy'),\n (2889, 'bojowy'),\n (2873, 'lekki')]\n\nchłopak\n[(97576, 'młody'),\n (97319, 'fajny'),\n (97313, 'dobry'),\n (97312, 'każdy'),\n (97308, 'mały'),\n (97307, 'biedny'),\n (97306, 'wysoki'),\n (97306, 'ambitny'),\n (97305, 'ówczesny'),\n (97305, 'normalny')]\n\nmężczyzna\n[(408677, 'gej'),\n (408676, 'mieszkaniec'),\n (97592, 'młody'),\n (97472, 'każdy'),\n (97361, 'prawdziwy'),\n (97336, 'inny'),\n (97330, 'przystojny'),\n (97327, 'samotny'),\n (97326, 'wysoki'),\n (97320, 'stary')]\n\nherbata\n[(474288, 'zielona'),\n (474266, 'czarna'),\n (474248, 'czerwona'),\n (474242, 'owocowa'),\n (474242, 'liściasta'),\n (474242, 'biała'),\n (474240, 'ziołowa'),\n (474240, 'matcha'),\n (474238, 'miętowa'),\n (408082, 'zielona')]\n\nkawa\n[(474282, 'rozpuszczalna'),\n (474265, 'ziarnista'),\n (474252, 'zbożowa'),\n (474243, 'bezkofeinowa'),\n (474239, 'czarna'),\n (407941, 'zielona'),\n (407912, 'poranna'),\n (407909, 'aromatyczna'),\n (407906, 'czarna'),\n (407903, 'mocna')]\n\npiwo\n[(550383, 'na'),\n (550038, 'po'),\n (550014, 'w'),\n (436170, 'zimne'),\n (436169, 'dobre'),\n (436162, 'małe'),\n (436158, 'duże'),\n (436158, 'ciemne'),\n (436157, 'mocne'),\n (436154, 'polskie')]\n\nwino\n[(1963, 'na'),\n (1809, 'w'),\n (1759, 'po'),\n (1730, 'następnie'),\n (1673, 'i'),\n (1603, 'w'),\n (1555, 'na'),\n (1519, 'po'),\n (1516, 'pod'),\n (1515, 'przed')]\n\n"
     ]
    }
   ],
   "source": [
    "for word in testSet:\n",
    "    results[word] = sorted(results[word], reverse=True)\n",
    "    print(word)\n",
    "    pprint.pprint(results[word][:10])\n",
    "    print()"
   ]
  },
  {
   "source": [
    "## d) Własna modyfikacja"
   ],
   "cell_type": "markdown",
   "metadata": {}
  },
  {
   "cell_type": "code",
   "execution_count": 63,
   "metadata": {},
   "outputs": [],
   "source": [
    "#Tagi + PSM\n",
    "\n",
    "for bigram in bigramPPMI:\n",
    "    w1, w2 = bigram.split('#')\n",
    "    if w1 in testSet or w2 in testSet:\n",
    "        if unigrams.get(w1, 0) == 0 or unigrams.get(w2, 0) == 0:\n",
    "            continue\n",
    "        tag1 = wordToSupertag.get(w1, '')\n",
    "        if tag1 == '':\n",
    "            tag1 = random.choice(sufToSupertag.get(w1[-3:], [\"empty\"]))\n",
    "        \n",
    "        tag2 = wordToSupertag.get(w2, '')\n",
    "        if tag2 == '':\n",
    "            tag2 = random.choice(sufToSupertag.get(w2[-3:], [\"empty\"]))\n",
    "\n",
    "        hash = tag1 + '#' + tag2\n",
    "        temp = tagBigrams[hash] + bigramCount[bigram] * (np.log(bigramCount[bigram]) - np.log(unigrams[w1] * unigrams[w2] / unigramTrueSum) - 1)\n",
    "\n",
    "    if w1 in testSet:\n",
    "        results[w1].append((temp, w2))\n",
    "    elif w2 in testSet:\n",
    "        results[w2].append((temp, w1))"
   ]
  },
  {
   "source": [
    "for word in testSet:\n",
    "    results[word] = sorted(results[word], reverse=True)\n",
    "    print(word)\n",
    "    pprint.pprint(results[word][:10])\n",
    "    print()"
   ],
   "cell_type": "code",
   "metadata": {},
   "execution_count": 64,
   "outputs": [
    {
     "output_type": "stream",
     "name": "stdout",
     "text": [
      "dziewczynka\n[(409322.5082621987, 'mała'),\n (408098, 'mała'),\n (408062.55058477033, 'letnia'),\n (408020.3731192614, 'kilkuletnia'),\n (407985.9205436776, 'czteroletnia'),\n (407978.21380949573, 'każda'),\n (407964.7866723043, 'dwunastoletnia'),\n (407963.0780795019, 'ośmioletnia'),\n (407955.68645066494, 'trzyletnia'),\n (407953.05597575393, 'grzeczna')]\n\nkobieta\n[(474592.87194314407, 'ciężarna'),\n (474281.8654898933, 'samotna'),\n (474280, 'ciężarna'),\n (474279.3026841755, 'cmentarna'),\n (474265.37538172345, 'podeszła'),\n (474263.6318337567, 'wysoka'),\n (474260.74140603363, 'chora'),\n (474251.6703273105, 'idealna'),\n (474251, 'wysoka'),\n (474248.91431328084, 'współczesna')]\n\nhelikopter\n[(963993, 'na'),\n (963991, 'w'),\n (963977.5676694525, 'na'),\n (963972.548912268, 'w'),\n (805882.2509528156, 'policyjny'),\n (805871.1660961142, 'wojskowy'),\n (805849, 'wojskowy'),\n (805849, 'policyjny'),\n (795038.543125076, 'ratunkowy'),\n (795006.9066395982, 'policyjny')]\n\nśmigłowiec\n[(3049.539032949492, 'transportowy'),\n (3029.0233159497234, 'wielozadaniowy'),\n (3017.054784189104, 'ratunkowy'),\n (2990.5156168080016, 'nowy'),\n (2971.4486700098946, 'szturmowy'),\n (2940.8522049013372, 'wielosilnikowy'),\n (2932.027497790303, 'przeciwpancerny'),\n (2923.0388102362313, 'lekki'),\n (2918.6536761700345, 'pokładowy'),\n (2913.2075402378323, 'bojowy')]\n\nchłopak\n[(99225.06017138643, 'młody'),\n (97576, 'młody'),\n (97420.21055764519, 'fajny'),\n (97355.96126794777, 'biedny'),\n (97348.9154638923, 'ambitny'),\n (97344.37267372778, 'dobry'),\n (97339.32329564176, 'mądry'),\n (97338.20531354153, 'sympatyczny'),\n (97334.34210029861, 'normalny'),\n (97332.21938791493, 'mały')]\n\nmężczyzna\n[(408700.0945006374, 'gej'),\n (408688.2502346552, 'mieszkaniec'),\n (408677, 'gej'),\n (408676, 'mieszkaniec'),\n (99140.47506767396, 'młody'),\n (97895.72181642713, 'każdy'),\n (97643.31539338172, 'prawdziwy'),\n (97592, 'młody'),\n (97518.41771163864, 'przystojny'),\n (97487.86608475719, 'samotny')]\n\nherbata\n[(474607.7278008404, 'zielona'),\n (474443.6251247064, 'czarna'),\n (474322.69081924506, 'czerwona'),\n (474321.2070571778, 'liściasta'),\n (474311.43347215164, 'owocowa'),\n (474296.7064470584, 'ziołowa'),\n (474288, 'zielona'),\n (474279.25731873396, 'miętowa'),\n (474277.0507834448, 'biała'),\n (474266, 'czarna')]\n\nkawa\n[(474712.5382421266, 'rozpuszczalna'),\n (474561.93744348857, 'ziarnista'),\n (474408.0176351013, 'zbożowa'),\n (474342.75043071277, 'bezkofeinowa'),\n (474282, 'rozpuszczalna'),\n (474265, 'ziarnista'),\n (474258.56806763186, 'czarna'),\n (474252, 'zbożowa'),\n (474243, 'bezkofeinowa'),\n (474239, 'czarna')]\n\npiwo\n[(550383, 'na'),\n (550328.6604612711, 'na'),\n (550038, 'po'),\n (550014, 'w'),\n (550006.3670754639, 'po'),\n (549967.632148985, 'w'),\n (436329.3777816662, 'zimne'),\n (436233.8056577884, 'dobre'),\n (436229.65761780785, 'ciemne'),\n (436217.6242654216, 'mocne')]\n\nwino\n[(1963, 'na'),\n (1822.0192254986002, 'na'),\n (1809, 'w'),\n (1759, 'po'),\n (1748.7826203793072, 'czerwone'),\n (1740.4561860190618, 'po'),\n (1730, 'następnie'),\n (1727.5045238109353, 'następnie'),\n (1673, 'i'),\n (1645.4629207180674, 'w')]\n\n"
     ]
    }
   ]
  },
  {
   "cell_type": "code",
   "execution_count": null,
   "metadata": {},
   "outputs": [],
   "source": []
  }
 ]
}