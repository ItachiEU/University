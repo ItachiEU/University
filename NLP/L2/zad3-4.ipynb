{
 "metadata": {
  "language_info": {
   "codemirror_mode": {
    "name": "ipython",
    "version": 3
   },
   "file_extension": ".py",
   "mimetype": "text/x-python",
   "name": "python",
   "nbconvert_exporter": "python",
   "pygments_lexer": "ipython3",
   "version": "3.8.5-final"
  },
  "orig_nbformat": 2,
  "kernelspec": {
   "name": "python38564bit15739fc702ac4a39a51b6a8572e59d06",
   "display_name": "Python 3.8.5 64-bit"
  }
 },
 "nbformat": 4,
 "nbformat_minor": 2,
 "cells": [
  {
   "cell_type": "code",
   "execution_count": 27,
   "metadata": {},
   "outputs": [],
   "source": [
    "import numpy as np\n",
    "import collections\n",
    "\n",
    "wordToSupertag = dict()\n",
    "sufToSupertag = collections.defaultdict(list)\n",
    "\n",
    "with open('../../NLP_Resources/supertags.txt') as f:\n",
    "    temp = [tuple(x.split()) for x in f]\n",
    "    wordToSupertag = {word: tag for (word, tag) in temp}\n",
    "    for word,tag in temp:\n",
    "        sufToSupertag[word[-3:]].append(tag)"
   ]
  },
  {
   "cell_type": "code",
   "execution_count": 28,
   "metadata": {
    "tags": []
   },
   "outputs": [],
   "source": [
    "unigrams = collections.defaultdict(int)\n",
    "\n",
    "with open('../../NLP_Resources/polish_corpora.txt') as f:\n",
    "    for line in f:\n",
    "        line = line.lower()\n",
    "        words = line.split()\n",
    "        for word in words:\n",
    "            unigrams[word] += 1"
   ]
  },
  {
   "cell_type": "code",
   "execution_count": 29,
   "metadata": {
    "tags": []
   },
   "outputs": [],
   "source": [
    "import random\n",
    "unigramsByTag = collections.defaultdict(list)\n",
    "probabilitiesByTag = collections.defaultdict(list)\n",
    "\n",
    "for key in unigrams.keys():\n",
    "    tag = wordToSupertag.get(key, '')\n",
    "    if tag == '':\n",
    "        tag = random.choice(sufToSupertag.get(word[-3:], [\"empty\"]))\n",
    "    if tag != 'empty':\n",
    "        unigramsByTag[tag].append(key)\n",
    "        probabilitiesByTag[tag].append(unigrams.get(key, 0))\n"
   ]
  },
  {
   "cell_type": "code",
   "execution_count": 30,
   "metadata": {
    "tags": []
   },
   "outputs": [],
   "source": [
    "testString = 'Mały Piotruś spotkał w niewielkiej restauracyjce wczoraj poznaną koleżankę'\n",
    "testString = testString.lower()\n",
    "\n"
   ]
  },
  {
   "cell_type": "code",
   "execution_count": 31,
   "metadata": {},
   "outputs": [],
   "source": [
    "def generate_unigrams(testString):\n",
    "    result = ''\n",
    "    for word in testString.split():\n",
    "        tag = wordToSupertag.get(word, '')\n",
    "        if tag == '':\n",
    "            tag = random.choice(sufToSupertag.get(word[-3:], [\"empty\"]))\n",
    "        probs = np.array(probabilitiesByTag[tag])\n",
    "        s = np.sum(probs)\n",
    "        index = np.random.choice(len(unigramsByTag[tag]), p = probs / s)\n",
    "        result += unigramsByTag[tag][index]\n",
    "        result += ' '\n",
    "    return result.rstrip()"
   ]
  },
  {
   "cell_type": "code",
   "execution_count": 32,
   "metadata": {},
   "outputs": [
    {
     "output_type": "stream",
     "name": "stdout",
     "text": [
      "mały piotruś spotkał w niewielkiej restauracyjce wczoraj poznaną koleżankę\nwiosenny wacław zajął w niezbędnej stronie dokładnie ustaloną ofertę\n"
     ]
    }
   ],
   "source": [
    "print(testString, generate_unigrams(testString), sep = '\\n')"
   ]
  },
  {
   "cell_type": "code",
   "execution_count": 33,
   "metadata": {},
   "outputs": [],
   "source": [
    "def load_data(file):\n",
    "    K = 5\n",
    "    with open(file) as f:\n",
    "        temp = 1\n",
    "        res = [x.split() for x in f if int(x.split()[0]) >= K]\n",
    "        return res\n",
    "bigramData = load_data('../../NLP_Resources/poleval_2grams.txt')"
   ]
  },
  {
   "cell_type": "code",
   "execution_count": 34,
   "metadata": {},
   "outputs": [],
   "source": [
    "bigramsByTag = collections.defaultdict(list)\n",
    "bigramProbsByTag = collections.defaultdict(list)\n",
    "\n",
    "for el in bigramData:\n",
    "    value, word1, word2 = el\n",
    "    tag1 = wordToSupertag.get(word1, '')\n",
    "    if tag1 == '':\n",
    "        tag1 = random.choice(sufToSupertag.get(word1[-3:], [\"empty\"]))\n",
    "    tag2 = wordToSupertag.get(word2, '')\n",
    "    if tag2 == '':\n",
    "        tag2 = random.choice(sufToSupertag.get(word2[-3:], [\"empty\"]))\n",
    "    if tag1 != 'empty' and tag2 != 'empty':\n",
    "        bigramsByTag[tag1 + '#' + tag2].append((word1, word2))\n",
    "        bigramProbsByTag[tag1+'#'+tag2].append(value)\n",
    "    \n",
    "        "
   ]
  },
  {
   "cell_type": "code",
   "execution_count": 55,
   "metadata": {},
   "outputs": [],
   "source": [
    "def generate_bigrams(testString):\n",
    "    data = testString.split()\n",
    "    result = ''\n",
    "    for i in range(len(data) - 1):\n",
    "        w1 = data[i]\n",
    "        w2 = data[i+1]\n",
    "        tag1 = wordToSupertag.get(w1, '')\n",
    "        if tag1 == '':\n",
    "            tag1 = random.choice(sufToSupertag.get(w1[-3:], [\"empty\"]))\n",
    "        tag2 = wordToSupertag.get(word, '')\n",
    "        if tag2 == '':\n",
    "            tag2 = random.choice(sufToSupertag.get(w2[-3:], [\"empty\"]))\n",
    "\n",
    "        probs = np.array(bigramProbsByTag.get(tag1+'#'+tag2, [])).astype(np.int)\n",
    "\n",
    "        if len(probs) != 0:\n",
    "            s = np.sum(probs)\n",
    "            index = np.random.choice(len(bigramsByTag[tag1+'#'+tag2]), p = probs / s)\n",
    "            if i == len(data) - 2:\n",
    "                result += ' '.join(bigramsByTag[tag1+'#'+tag2][index]) + ' '\n",
    "            else:\n",
    "                result += bigramsByTag[tag1+'#'+tag2][index][0] + ' '\n",
    "        else:\n",
    "            probs = np.array(probabilitiesByTag[tag1])\n",
    "            s = np.sum(probs)\n",
    "            index = np.random.choice(len(unigramsByTag[tag1]), p = probs / s)\n",
    "            result += unigramsByTag[tag1][index]\n",
    "            result += ' '\n",
    "    return result\n",
    "        "
   ]
  },
  {
   "cell_type": "code",
   "execution_count": 59,
   "metadata": {},
   "outputs": [
    {
     "output_type": "stream",
     "name": "stdout",
     "text": [
      "mały piotruś spotkał w niewielkiej restauracyjce wczoraj poznaną koleżankę\njednoręki emeryt odegrał w niezależnej trasie powszechnie zgłoszoną propozycję \n"
     ]
    }
   ],
   "source": [
    "print(testString, generate_bigrams(testString), sep = '\\n')"
   ]
  },
  {
   "cell_type": "code",
   "execution_count": null,
   "metadata": {},
   "outputs": [],
   "source": []
  }
 ]
}