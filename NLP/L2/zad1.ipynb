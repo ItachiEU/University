{
 "metadata": {
  "language_info": {
   "codemirror_mode": {
    "name": "ipython",
    "version": 3
   },
   "file_extension": ".py",
   "mimetype": "text/x-python",
   "name": "python",
   "nbconvert_exporter": "python",
   "pygments_lexer": "ipython3",
   "version": "3.8.5-final"
  },
  "orig_nbformat": 2,
  "kernelspec": {
   "name": "python38564bit15739fc702ac4a39a51b6a8572e59d06",
   "display_name": "Python 3.8.5 64-bit"
  }
 },
 "nbformat": 4,
 "nbformat_minor": 2,
 "cells": [
  {
   "cell_type": "code",
   "execution_count": 355,
   "metadata": {
    "tags": []
   },
   "outputs": [],
   "source": [
    "import re\n",
    "\n",
    "def load_data(file):\n",
    "    res = []\n",
    "    with open(file) as f:\n",
    "        for line in f:\n",
    "            if len(line.strip()) == 0:\n",
    "                continue\n",
    "            line = line.rstrip()\n",
    "            for sentence in re.split('\\.;', line):\n",
    "                res.append(sentence.lower())\n",
    "    return res\n",
    "\n",
    "korpusPrus = load_data(\"../../NLP_Resources/dane_pozytywistyczne/korpus_prusa.txt\")\n",
    "korpusSienkiewicz = load_data(\"../../NLP_Resources/dane_pozytywistyczne/korpus_sienkiewicza.txt\")\n",
    "korpusOrzeszkowej = load_data(\"../../NLP_Resources/dane_pozytywistyczne/korpus_orzeszkowej.txt\")"
   ]
  },
  {
   "cell_type": "code",
   "execution_count": 356,
   "metadata": {},
   "outputs": [],
   "source": [
    "import collections \n",
    "import numpy as np \n",
    "\n",
    "countPrus = collections.defaultdict(int)\n",
    "countSienkiewicz = collections.defaultdict(int)\n",
    "countOrzeszkowej = collections.defaultdict(int)\n",
    "\n",
    "def fill(dictionary, korpus):\n",
    "    for line in korpus:\n",
    "        for word in line.split():\n",
    "            dictionary[word] += 1\n"
   ]
  },
  {
   "cell_type": "code",
   "execution_count": 357,
   "metadata": {
    "tags": []
   },
   "outputs": [],
   "source": [
    "fill(countPrus, korpusPrus)\n",
    "fill(countSienkiewicz, korpusSienkiewicz)\n",
    "fill(countOrzeszkowej, korpusOrzeszkowej)\n",
    "\n",
    "prusSum = 0\n",
    "sienkiewiczSum = 0\n",
    "orzeszkowaSum = 0\n",
    "\n",
    "def fillSum(dictionary):\n",
    "    sumka = 0\n",
    "    for word in dictionary:\n",
    "        sumka += dictionary[word]\n",
    "    return sumka\n",
    "\n",
    "prusSum = fillSum(countPrus)\n",
    "sienkiewiczSum = fillSum(countSienkiewicz)\n",
    "orzeszkowaSum = fillSum(countOrzeszkowej)\n",
    "\n"
   ]
  },
  {
   "cell_type": "code",
   "execution_count": 358,
   "metadata": {},
   "outputs": [],
   "source": [
    "sentenceCountPrus = collections.defaultdict(int)\n",
    "sentenceCountSienkiewicz = collections.defaultdict(int)\n",
    "sentenceCountOrzeszkowa = collections.defaultdict(int)\n",
    "\n",
    "def fillSentence(dictionary, korpus):\n",
    "    sumka = len(korpus)\n",
    "    for line in korpus:\n",
    "        dictionary[len(line.split())] += 1\n",
    "    return sumka    \n",
    "sumSentencePrus = fillSentence(sentenceCountPrus, korpusPrus)\n",
    "sumSentenceSienkiewicz = fillSentence(sentenceCountSienkiewicz, korpusSienkiewicz)\n",
    "sumSentenceOrzeszkowa = fillSentence(sentenceCountOrzeszkowa, korpusOrzeszkowej)\n"
   ]
  },
  {
   "cell_type": "code",
   "execution_count": 359,
   "metadata": {},
   "outputs": [],
   "source": [
    "bigramPrus = collections.defaultdict(int)\n",
    "bigramSienkiewicz = collections.defaultdict(int)\n",
    "bigramOrzeszkowa = collections.defaultdict(int)\n",
    "\n",
    "def fillBigram(dictionary, korpus):\n",
    "    sumka = 0\n",
    "    for line in korpus:\n",
    "        for i in range(len(line.split()) - 1):\n",
    "            w1, w2 = line [i:i+2]\n",
    "            sumka += 1\n",
    "            dictionary[w1+'#'+w2] += 1\n",
    "    return sumka\n",
    "\n",
    "bigramSumPrus = fillBigram(bigramPrus, korpusPrus)\n",
    "bigramSumSienkiewicz = fillBigram(bigramSienkiewicz, korpusSienkiewicz)\n",
    "bigramSumOrzeszkowa = fillBigram(bigramOrzeszkowa, korpusOrzeszkowej)\n",
    "\n",
    "    "
   ]
  },
  {
   "cell_type": "code",
   "execution_count": 424,
   "metadata": {},
   "outputs": [],
   "source": [
    "def NB(test):\n",
    "    tab = [] \n",
    "    res = 0\n",
    "    alfa = 0.01\n",
    "    for line in test:\n",
    "        res += np.log(sentenceCountPrus.get(len(line.split()), 1) / sumSentencePrus)\n",
    "        for i in range(len(line.split()) - 1):\n",
    "            w1, w2 = line[i:i+2]\n",
    "            res += 2*np.log(bigramPrus.get(w1+'#'+w2, alfa) / bigramSumPrus)\n",
    "        for word in line.split(): \n",
    "            if countPrus[word] != 0:\n",
    "                res += np.log(countPrus[word] / prusSum)\n",
    "            else:\n",
    "                res += np.log(alfa / (prusSum + alfa*len(countPrus.keys())))\n",
    "            #res += np.log(countPrus.get(word, 0.01) / prusSum)\n",
    "\n",
    "    tab.append((res / 4, \"P\"))\n",
    "    \n",
    "    res = 0\n",
    "    for line in test:\n",
    "        res += 1 * np.log(sentenceCountOrzeszkowa.get(len(line.split()), 1) / sumSentenceOrzeszkowa)\n",
    "        for i in range(len(line.split()) - 1):\n",
    "            w1, w2 = line[i:i+2]\n",
    "            res += 2*np.log(bigramOrzeszkowa.get(w1+'#'+w2, alfa) / bigramSumOrzeszkowa)\n",
    "        for word in line.split():\n",
    "            if countOrzeszkowej[word] != 0:\n",
    "                res += np.log(countOrzeszkowej[word] / orzeszkowaSum)\n",
    "            else:\n",
    "                res += np.log(alfa / (orzeszkowaSum + alfa*len(countOrzeszkowej.keys()) ))\n",
    "    tab.append((res / 4, \"O\"))    \n",
    "    \n",
    "    res = 0\n",
    "    for line in test:\n",
    "        res += np.log(sentenceCountSienkiewicz.get(len(line.split()), 1) / sumSentenceSienkiewicz)\n",
    "        for i in range(len(line.split()) - 1):\n",
    "            w1, w2 = line[i:i+2]\n",
    "            res += 2*np.log(bigramSienkiewicz.get(w1+'#'+w2, alfa) / bigramSumSienkiewicz)\n",
    "        for word in line.split():\n",
    "            if countSienkiewicz[word] != 0:\n",
    "                res += np.log(countSienkiewicz[word] / sienkiewiczSum)\n",
    "            else:\n",
    "                res += np.log(alfa / (sienkiewiczSum + alfa*len(countSienkiewicz.keys())))\n",
    "    tab.append((res / 4, \"S\"))\n",
    "\n",
    "    tab = sorted(tab, reverse=True)\n",
    "    return tab"
   ]
  },
  {
   "cell_type": "code",
   "execution_count": 425,
   "metadata": {
    "tags": []
   },
   "outputs": [
    {
     "output_type": "stream",
     "name": "stdout",
     "text": [
      "O\nO\nO\nO\nO\nS\n[(-5690.021100913766, 'S'), (-5722.049562050602, 'O'), (-5770.096227073962, 'P')]\nS\n[(-5609.473617001939, 'S'), (-5620.558637407791, 'O'), (-5643.282185956437, 'P')]\nS\n[(-5648.113809162898, 'S'), (-5673.83735581986, 'O'), (-5742.1969275967285, 'P')]\nS\n[(-5839.499166511268, 'S'), (-5872.662422996963, 'O'), (-5895.668031038219, 'P')]\nO\nO\nO\n"
     ]
    }
   ],
   "source": [
    "succesful = 0\n",
    "tried = 0\n",
    "for i in [''] + list(range(1,23,2)):\n",
    "    test = load_data(f\"../../NLP_Resources/dane_pozytywistyczne/testy1/test_orzeszkowej{i}.txt\")\n",
    "    res = NB(test)\n",
    "    value, klasa = res[0]\n",
    "    print(klasa)\n",
    "    if klasa != \"O\":\n",
    "        print(res)\n",
    "    else:\n",
    "        succesful += 1\n",
    "    tried += 1"
   ]
  },
  {
   "cell_type": "code",
   "execution_count": 426,
   "metadata": {},
   "outputs": [
    {
     "output_type": "stream",
     "name": "stdout",
     "text": [
      "S\n",
      "S\n",
      "S\n",
      "S\n",
      "S\n",
      "S\n",
      "S\n",
      "S\n",
      "P\n",
      "[(-5248.567025989496, 'P'), (-5334.627861674823, 'S'), (-5415.116921027384, 'O')]\n",
      "S\n",
      "P\n",
      "[(-5257.055136317661, 'P'), (-5349.936919028845, 'S'), (-5423.751704477032, 'O')]\n",
      "P\n",
      "[(-5829.1779575433, 'P'), (-5857.093290082364, 'S'), (-5922.015564229545, 'O')]\n",
      "S\n",
      "S\n",
      "P\n",
      "[(-5112.853426263846, 'P'), (-5195.154600694583, 'S'), (-5215.71345169659, 'O')]\n",
      "S\n",
      "P\n",
      "[(-5093.081312472214, 'P'), (-5120.3288725140455, 'S'), (-5186.289501746098, 'O')]\n",
      "P\n",
      "[(-4816.201290002637, 'P'), (-4927.014415061255, 'S'), (-4990.158271855596, 'O')]\n",
      "S\n",
      "P\n",
      "[(-5218.192156827537, 'P'), (-5264.8894095945625, 'S'), (-5308.383827311888, 'O')]\n",
      "S\n",
      "P\n",
      "[(-7044.025758081558, 'P'), (-7087.185217191468, 'S'), (-7119.675058503091, 'O')]\n",
      "P\n",
      "[(-4954.161636752762, 'P'), (-4998.370869154292, 'S'), (-5045.050799098045, 'O')]\n",
      "P\n",
      "[(-5003.230203377446, 'P'), (-5052.684869662245, 'S'), (-5102.85263683008, 'O')]\n",
      "S\n",
      "S\n",
      "S\n"
     ]
    }
   ],
   "source": [
    "for i in list(range(1,55,2)):\n",
    "    test = load_data(f\"../../NLP_Resources/dane_pozytywistyczne/testy1/test_sienkiewicza{i}.txt\")\n",
    "    res = NB(test)\n",
    "    value, klasa = res[0]\n",
    "    print(klasa)\n",
    "    if klasa != \"S\":\n",
    "        print(res)\n",
    "    else:\n",
    "        succesful += 1\n",
    "    tried += 1"
   ]
  },
  {
   "cell_type": "code",
   "execution_count": 427,
   "metadata": {},
   "outputs": [
    {
     "output_type": "stream",
     "name": "stdout",
     "text": [
      "P\n",
      "P\n",
      "P\n",
      "P\n",
      "P\n",
      "P\n",
      "P\n",
      "P\n",
      "P\n",
      "P\n",
      "P\n",
      "P\n",
      "P\n",
      "P\n",
      "P\n",
      "P\n",
      "P\n",
      "P\n",
      "P\n",
      "P\n",
      "P\n"
     ]
    }
   ],
   "source": [
    "for i in list(range(0,42,2)):\n",
    "    test = load_data(f\"../../NLP_Resources/dane_pozytywistyczne/testy1/test_prusa{i}.txt\")\n",
    "    res = NB(test)\n",
    "    value, klasa = res[0]\n",
    "    print(klasa)\n",
    "    if klasa != \"P\":\n",
    "        print(res)\n",
    "    else:\n",
    "        succesful += 1\n",
    "    tried += 1"
   ]
  },
  {
   "cell_type": "code",
   "execution_count": 428,
   "metadata": {},
   "outputs": [
    {
     "output_type": "stream",
     "name": "stdout",
     "text": [
      "skutecznosc:  76.66666666666667\n"
     ]
    }
   ],
   "source": [
    "print(\"skutecznosc: \", succesful / tried * 100)"
   ]
  },
  {
   "cell_type": "code",
   "execution_count": null,
   "metadata": {},
   "outputs": [],
   "source": []
  }
 ]
}