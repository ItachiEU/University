{
  "cells": [
    {
      "cell_type": "markdown",
      "metadata": {
        "id": "geTBxHxB0vSG"
      },
      "source": [
        "<a href=\"https://colab.research.google.com/github/marekpiotradamczyk/ml_uwr_22/blob/main/Assignments/Assignment3.ipynb\" target=\"_parent\"><img src=\"https://colab.research.google.com/assets/colab-badge.svg\" alt=\"Open In Colab\"/></a>"
      ]
    },
    {
      "cell_type": "markdown",
      "metadata": {
        "id": "P7IFJ5_Y33-8"
      },
      "source": [
        "# Lab Assignment 3\n"
      ]
    },
    {
      "cell_type": "markdown",
      "metadata": {
        "id": "goqGXGZT2DKK"
      },
      "source": [
        "## Important notes\n",
        "\n",
        "**Submission deadline:**\n",
        "**lab session in the week of 24-28 of October 2022**\n",
        "\n",
        "**Points: 3+2+2=7**\n",
        "\n",
        "Please let us know about any problems with it - we will try to correct them quickly. Also, please do not hesitate to use GitHub’s pull requests to send us corrections!"
      ]
    },
    {
      "cell_type": "markdown",
      "metadata": {
        "id": "Es80_WJM33_n"
      },
      "source": [
        "## k-Nearest Neighbors\n",
        "\n",
        "We will use the loaded Iris data describing iris flowers\n",
        "and shows relations between their length and petal width for three\n",
        "species (namely: setosa, versicolor, virginica).\n",
        "\n",
        "For this exercise we will restrict our analysis to just two variables: **petal length** and **petal width**."
      ]
    },
    {
      "cell_type": "code",
      "execution_count": 1,
      "metadata": {
        "id": "YxzWq6iO2KPm",
        "outputId": "2a438a3e-23db-4367-9510-30dbf1ccb1a0"
      },
      "outputs": [],
      "source": [
        "# Standard IPython notebook imports\n",
        "%matplotlib inline\n",
        "\n",
        "import os\n",
        "\n",
        "import httpimport\n",
        "import matplotlib.pyplot as plt\n",
        "import numpy as np\n",
        "import pandas as pd\n",
        "from tqdm.auto import tqdm\n",
        "import scipy.stats as sstats\n",
        "\n",
        "import seaborn as sns\n",
        "from sklearn import datasets\n",
        "\n",
        "# In this way we can import functions straight from github\n",
        "with httpimport.github_repo('janchorowski', 'nn_assignments', \n",
        "                            module='common', branch='nn18'):\n",
        "     from common.plotting import plot_mat\n",
        "\n",
        "sns.set_style('whitegrid')\n",
        "import warnings\n",
        "warnings.filterwarnings('ignore')"
      ]
    },
    {
      "cell_type": "code",
      "execution_count": 2,
      "metadata": {
        "colab": {
          "base_uri": "https://localhost:8080/",
          "height": 357
        },
        "id": "FzhoE5MWerAf",
        "outputId": "fd5cdda6-dcf9-4ef7-d31d-9269f769720a"
      },
      "outputs": [
        {
          "name": "stdout",
          "output_type": "stream",
          "text": [
            "150\n"
          ]
        },
        {
          "data": {
            "text/html": [
              "<div>\n",
              "<style scoped>\n",
              "    .dataframe tbody tr th:only-of-type {\n",
              "        vertical-align: middle;\n",
              "    }\n",
              "\n",
              "    .dataframe tbody tr th {\n",
              "        vertical-align: top;\n",
              "    }\n",
              "\n",
              "    .dataframe thead th {\n",
              "        text-align: right;\n",
              "    }\n",
              "</style>\n",
              "<table border=\"1\" class=\"dataframe\">\n",
              "  <thead>\n",
              "    <tr style=\"text-align: right;\">\n",
              "      <th></th>\n",
              "      <th>sepal_length</th>\n",
              "      <th>sepal_width</th>\n",
              "      <th>petal_length</th>\n",
              "      <th>petal_width</th>\n",
              "      <th>target</th>\n",
              "    </tr>\n",
              "  </thead>\n",
              "  <tbody>\n",
              "    <tr>\n",
              "      <th>0</th>\n",
              "      <td>5.1</td>\n",
              "      <td>3.5</td>\n",
              "      <td>1.4</td>\n",
              "      <td>0.2</td>\n",
              "      <td>Iris-setosa</td>\n",
              "    </tr>\n",
              "    <tr>\n",
              "      <th>1</th>\n",
              "      <td>4.9</td>\n",
              "      <td>3.0</td>\n",
              "      <td>1.4</td>\n",
              "      <td>0.2</td>\n",
              "      <td>Iris-setosa</td>\n",
              "    </tr>\n",
              "    <tr>\n",
              "      <th>2</th>\n",
              "      <td>4.7</td>\n",
              "      <td>3.2</td>\n",
              "      <td>1.3</td>\n",
              "      <td>0.2</td>\n",
              "      <td>Iris-setosa</td>\n",
              "    </tr>\n",
              "    <tr>\n",
              "      <th>3</th>\n",
              "      <td>4.6</td>\n",
              "      <td>3.1</td>\n",
              "      <td>1.5</td>\n",
              "      <td>0.2</td>\n",
              "      <td>Iris-setosa</td>\n",
              "    </tr>\n",
              "    <tr>\n",
              "      <th>4</th>\n",
              "      <td>5.0</td>\n",
              "      <td>3.6</td>\n",
              "      <td>1.4</td>\n",
              "      <td>0.2</td>\n",
              "      <td>Iris-setosa</td>\n",
              "    </tr>\n",
              "    <tr>\n",
              "      <th>5</th>\n",
              "      <td>5.4</td>\n",
              "      <td>3.9</td>\n",
              "      <td>1.7</td>\n",
              "      <td>0.4</td>\n",
              "      <td>Iris-setosa</td>\n",
              "    </tr>\n",
              "    <tr>\n",
              "      <th>6</th>\n",
              "      <td>4.6</td>\n",
              "      <td>3.4</td>\n",
              "      <td>1.4</td>\n",
              "      <td>0.3</td>\n",
              "      <td>Iris-setosa</td>\n",
              "    </tr>\n",
              "    <tr>\n",
              "      <th>7</th>\n",
              "      <td>5.0</td>\n",
              "      <td>3.4</td>\n",
              "      <td>1.5</td>\n",
              "      <td>0.2</td>\n",
              "      <td>Iris-setosa</td>\n",
              "    </tr>\n",
              "    <tr>\n",
              "      <th>8</th>\n",
              "      <td>4.4</td>\n",
              "      <td>2.9</td>\n",
              "      <td>1.4</td>\n",
              "      <td>0.2</td>\n",
              "      <td>Iris-setosa</td>\n",
              "    </tr>\n",
              "    <tr>\n",
              "      <th>9</th>\n",
              "      <td>4.9</td>\n",
              "      <td>3.1</td>\n",
              "      <td>1.5</td>\n",
              "      <td>0.1</td>\n",
              "      <td>Iris-setosa</td>\n",
              "    </tr>\n",
              "  </tbody>\n",
              "</table>\n",
              "</div>"
            ],
            "text/plain": [
              "   sepal_length  sepal_width  petal_length  petal_width       target\n",
              "0           5.1          3.5           1.4          0.2  Iris-setosa\n",
              "1           4.9          3.0           1.4          0.2  Iris-setosa\n",
              "2           4.7          3.2           1.3          0.2  Iris-setosa\n",
              "3           4.6          3.1           1.5          0.2  Iris-setosa\n",
              "4           5.0          3.6           1.4          0.2  Iris-setosa\n",
              "5           5.4          3.9           1.7          0.4  Iris-setosa\n",
              "6           4.6          3.4           1.4          0.3  Iris-setosa\n",
              "7           5.0          3.4           1.5          0.2  Iris-setosa\n",
              "8           4.4          2.9           1.4          0.2  Iris-setosa\n",
              "9           4.9          3.1           1.5          0.1  Iris-setosa"
            ]
          },
          "execution_count": 2,
          "metadata": {},
          "output_type": "execute_result"
        }
      ],
      "source": [
        "iris_url = 'https://archive.ics.uci.edu/ml/machine-learning-databases/iris/iris.data'\n",
        "# Use read_csv to load the data. Make sure you get 150 examples!\n",
        "iris_df = pd.read_csv(iris_url, header=None)\n",
        "print(len(iris_df))\n",
        "\n",
        "# Set the column names to\n",
        "# 'sepal_length', 'sepal_width', 'petal_length', 'petal_width', 'target'\n",
        "iris_df.columns = ['sepal_length', 'sepal_width', 'petal_length', 'petal_width', 'target']\n",
        "\n",
        "# Print the first 10 entries\n",
        "iris_df.head(10)\n"
      ]
    },
    {
      "cell_type": "code",
      "execution_count": 3,
      "metadata": {
        "colab": {
          "base_uri": "https://localhost:8080/",
          "height": 297
        },
        "id": "e9dHQGslwvuc",
        "outputId": "e1b0331e-5a67-42f5-b768-9064ef2b488a"
      },
      "outputs": [
        {
          "data": {
            "text/plain": [
              "<AxesSubplot:xlabel='petal_length', ylabel='petal_width'>"
            ]
          },
          "execution_count": 3,
          "metadata": {},
          "output_type": "execute_result"
        },
        {
          "data": {
            "image/png": "[encoded data removed]",
            "text/plain": [
              "<Figure size 432x288 with 1 Axes>"
            ]
          },
          "metadata": {},
          "output_type": "display_data"
        }
      ],
      "source": [
        "unknown_df = pd.DataFrame(\n",
        "    [[1.5, 0.3, 'unknown'],\n",
        "     [4.5, 1.2, 'unknown'],\n",
        "     [5.1, 1.7, 'unknown'],\n",
        "     [5.5, 2.3, 'unknown']],\n",
        "     columns=['petal_length', 'petal_width', 'target'])\n",
        "\n",
        "sns.scatterplot(x='petal_length', y='petal_width', hue='target', data=iris_df)\n",
        "sns.scatterplot(x='petal_length', y='petal_width', color='gray', marker='v',\n",
        "                label='unknown', s=70, data=unknown_df)"
      ]
    },
    {
      "cell_type": "markdown",
      "metadata": {
        "id": "s2khewKZ33_w"
      },
      "source": [
        "Based on these two features, it is easy to distinguish iris setosa from the two remaining species. Yet iris versicolor and virginica remain mixed together. \n",
        "\n",
        "Looking closely at the plot, we might estimate the species of the selected unknown irises (gray triangles). For three of them the answer seems obvious – they belong in uniformly-colored areas covered by one species only. Yet unknown iris flower in (5.1, 1.7) is troublesome – it lays on the boundary of versicolor and virginica clusters. We can assume, that its species is the one of the closest one to it, coming from the training set (and so having a label). \n",
        "\n",
        "K-Nearest Neighbors method (http://en.wikipedia.org/wiki/K-nearest_neighbors_algorithm) solves the classification problem, i.e. sets class labels (species in case of irises) of a previously unseen sample by choosing the most common class among the top k neighbors of the sample in question (for instance according to the Euclidean distance). Thus, the k-Nearest Neighbors algorithm works as follows. For each unlabeled sample x:\n",
        "1. Find k nearest neighbors among the labeled samples.\n",
        "2. Set the most common label among them as label of x."
      ]
    },
    {
      "cell_type": "markdown",
      "metadata": {
        "id": "dpyfaeVg72jo"
      },
      "source": [
        "## Problem 1 kNN Iris [3p]"
      ]
    },
    {
      "cell_type": "markdown",
      "metadata": {
        "id": "F6sG0bxf33_y"
      },
      "source": [
        "### Implement the k-Nearest Neighbors algorithm [1p].\n",
        "\n",
        "Take advantage of matrix calculus rather than using for loops. (Although you will earn 0.5 points, if you will use for loops, but still provide a good classifier)\n",
        "\n",
        "**Tip:** What is computed by \\begin{equation} \\sqrt{(X - Y)^T (X - Y)} \\end{equation} when both X and Y are vectors?\n",
        "\n",
        "**Tip:** Try to use broadcasting (NumPy: http://docs.scipy.org/doc/numpy/user/basics.broadcasting.html) and built-ins sort, numpy.sort, numpy.argsort (sorting), scipy.stats.mode (choosing the most common element of the set)."
      ]
    },
    {
      "cell_type": "code",
      "execution_count": 4,
      "metadata": {
        "id": "hKhbqAUTz5yy"
      },
      "outputs": [],
      "source": [
        "def KNN(train_X, train_Y, test_X, ks, verbose=False):\n",
        "    \"\"\"\n",
        "    Compute predictions for various k\n",
        "    Args:\n",
        "        train_X: array of shape Ntrain x D\n",
        "        train_Y: array of shape Ntrain\n",
        "        test_X: array of shape Ntest x D\n",
        "        ks: list of integers\n",
        "    Returns:\n",
        "        preds: dict k: predictions for k\n",
        "    \"\"\"\n",
        "    # Cats data to float32\n",
        "    train_X = train_X.astype(np.float32)\n",
        "    test_X = test_X.astype(np.float32)\n",
        "\n",
        "    # Alloc space for results\n",
        "    preds = {}\n",
        "\n",
        "    if verbose:\n",
        "        print(\"Computing distances... \", end='')\n",
        "    #\n",
        "    # TODO: fill in an efficient distance matrix computation\n",
        "    #    \n",
        "    # (x1 - y1)^2 + (x2 - y2)^2 = x1^2 + y1^2 + x2^2 + y2^2 - 2(x1y1 + x2y2)\n",
        "    dists = -2 * (train_X.dot(test_X.T)) + np.sum(train_X ** 2, axis=1)[:, np.newaxis] + np.sum(test_X ** 2, axis=1)\n",
        "\n",
        "    if verbose:\n",
        "        print(\"Sorting... \", end='')\n",
        "    \n",
        "    # TODO: findes closest trainig points\n",
        "    # Hint: use np.argsort\n",
        "    closest = np.argsort(dists, axis=0)\n",
        "\n",
        "\n",
        "    if verbose:\n",
        "        print(\"Computing predictions...\", end='')\n",
        "    \n",
        "    targets = train_Y[closest]\n",
        "    for k in ks:\n",
        "        predictions = sstats.mode(targets[:k])[0]\n",
        "        predictions = predictions.ravel()\n",
        "        preds[k] = predictions\n",
        "    if verbose:\n",
        "        print(\"Done\")\n",
        "    return preds\n"
      ]
    },
    {
      "cell_type": "code",
      "execution_count": 5,
      "metadata": {
        "colab": {
          "base_uri": "https://localhost:8080/"
        },
        "id": "RSiSLLke2K1r",
        "outputId": "2ce99176-2501-4d57-c816-4b86ebc0d114"
      },
      "outputs": [
        {
          "data": {
            "text/plain": [
              "{1: array(['Iris-setosa', 'Iris-versicolor', 'Iris-versicolor',\n",
              "        'Iris-virginica'], dtype=object),\n",
              " 3: array(['Iris-setosa', 'Iris-versicolor', 'Iris-versicolor',\n",
              "        'Iris-virginica'], dtype=object),\n",
              " 5: array(['Iris-setosa', 'Iris-versicolor', 'Iris-virginica',\n",
              "        'Iris-virginica'], dtype=object),\n",
              " 7: array(['Iris-setosa', 'Iris-versicolor', 'Iris-virginica',\n",
              "        'Iris-virginica'], dtype=object)}"
            ]
          },
          "execution_count": 5,
          "metadata": {},
          "output_type": "execute_result"
        }
      ],
      "source": [
        "# Now classify the 4 unknown points\n",
        "iris_x = np.array(iris_df[['petal_length', 'petal_width']])\n",
        "iris_y = np.array(iris_df['target'])\n",
        "\n",
        "unknown_x = np.array(unknown_df[['petal_length', 'petal_width']])\n",
        "\n",
        "KNN(iris_x, iris_y, unknown_x, [1, 3, 5, 7])"
      ]
    },
    {
      "cell_type": "markdown",
      "metadata": {
        "id": "wZ3Ef8Np7ZU8"
      },
      "source": [
        "### Plot the Decision boundary [1p]\n",
        "\n",
        "\n",
        "Use meshgrid to generate the points in the space spanned by data.\n",
        "Then map the classes to numbers 0, 1, 2 and make a contour plot with the\n",
        "decision boundary."
      ]
    },
    {
      "cell_type": "code",
      "execution_count": 28,
      "metadata": {
        "colab": {
          "base_uri": "https://localhost:8080/",
          "height": 1000
        },
        "id": "w3aeNd0E3r8w",
        "outputId": "367694c6-83f9-4034-be4b-3d27ad89a78d"
      },
      "outputs": [
        {
          "data": {
            "image/png": "[encoded data removed]",
            "text/plain": [
              "<Figure size 432x288 with 1 Axes>"
            ]
          },
          "metadata": {},
          "output_type": "display_data"
        },
        {
          "data": {
            "image/png": "[encoded data removed]",
            "text/plain": [
              "<Figure size 432x288 with 1 Axes>"
            ]
          },
          "metadata": {},
          "output_type": "display_data"
        },
        {
          "data": {
            "image/png": "[encoded data removed]",
            "text/plain": [
              "<Figure size 432x288 with 1 Axes>"
            ]
          },
          "metadata": {},
          "output_type": "display_data"
        },
        {
          "data": {
            "image/png": "[encoded data removed]",
            "text/plain": [
              "<Figure size 432x288 with 1 Axes>"
            ]
          },
          "metadata": {},
          "output_type": "display_data"
        }
      ],
      "source": [
        "iris_x = np.array(iris_df[['petal_length', 'petal_width']])\n",
        "iris_y = np.array(iris_df['target'])\n",
        "\n",
        "\n",
        "mesh_x, mesh_y = np.meshgrid(np.linspace(\n",
        "    0, max(iris_x[:, 0]), 200), np.linspace(0, max(iris_x[:, 1]), 200))\n",
        "\n",
        "#use np.unique with suitable options to map the class names to numbers\n",
        "target_names, iris_y_ids = np.unique(iris_y, return_inverse=True)\n",
        "\n",
        "mesh_data = np.hstack([mesh_x.reshape(-1, 1), mesh_y.reshape(-1, 1)])\n",
        "\n",
        "preds = KNN(iris_x, iris_y_ids, mesh_data, [1, 3, 5, 7])\n",
        "for k, preds_k in preds.items():\n",
        "    plt.figure()\n",
        "    plt.title(f\"Decision boundary for k={k}\")\n",
        "    plt.contourf(mesh_x, mesh_y, preds_k.reshape(200, 200), cmap='spring')\n",
        "    plt.scatter(iris_x[:, 0], iris_x[:, 1], c=iris_y_ids, edgecolors='black', cmap='spring')\n"
      ]
    },
    {
      "cell_type": "markdown",
      "metadata": {
        "id": "1iZtHs5A33_z"
      },
      "source": [
        "### Estimate performance for various ks [1p]\n",
        "Consider the following experiment (bootsrap error estimation):\n",
        "1. We sample **with replacement** a dataset equal in size to the amount of data we have (i.e. for Iris, we pick 150 examples). This forms a trainign set. Since we have sampled with replacement, some samples were picked multiple times, and some were left out. Form a test set from the remaining ones.\n",
        "2. Based on the training set, we use the k-NN algorithm to predict the labels on the test set.\n",
        "3. We then check the number of errors and write it down.\n",
        "\n",
        "Do this 500 times for k ∈ {1, 3, 5, ..., 19}. Plot a function of the average number of errors as the function of k. It should be similar to one of the plots below."
      ]
    },
    {
      "cell_type": "code",
      "execution_count": 10,
      "metadata": {
        "id": "24FeneG8A4Hi"
      },
      "outputs": [],
      "source": [
        "#TODO: write a function to compute error rates\n",
        "def err_rates(preds, test_Y):\n",
        "    ret = {}\n",
        "    for k, preds_k in  preds.items():\n",
        "        # TODO: fill in error count computation\n",
        "        ret[k] = np.sum(preds_k != test_Y) / len(test_Y)\n",
        "    return ret\n"
      ]
    },
    {
      "cell_type": "code",
      "execution_count": 14,
      "metadata": {
        "colab": {
          "base_uri": "https://localhost:8080/",
          "height": 645,
          "referenced_widgets": [
            "429875971d8b4be78395ee58dddcad7c",
            "a5f561ff6546403596b2038ca916f9cf",
            "ffb23e6bb0cb482aaac096a0cfc26fca",
            "7ec5db59ca2142588e5ec3c775699d4d",
            "b475f941badc4d55a19183a05ccedf3a",
            "52470f7a4b0c4ab79a854d9cf1098064",
            "6583a4fbdb8447069455792b12234e1e",
            "6852c725d14047e28242f5d2e0574258",
            "308f036ce0e2470cb44bb1b0cdaf106e",
            "f75669a3b1a64a76a93d7ccccf132995",
            "2a4691463d414cb2842e9258152e7b7f"
          ]
        },
        "id": "7U4ejQYy1BRT",
        "outputId": "dd774dab-ba9c-4a7a-d1ae-503d3742cc59"
      },
      "outputs": [
        {
          "name": "stderr",
          "output_type": "stream",
          "text": [
            "100%|██████████| 1000/1000 [00:39<00:00, 25.15it/s]\n"
          ]
        },
        {
          "data": {
            "text/plain": [
              "<AxesSubplot:xlabel='K', ylabel='err_rate'>"
            ]
          },
          "execution_count": 14,
          "metadata": {},
          "output_type": "execute_result"
        },
        {
          "data": {
            "image/png": "[encoded data removed]",
            "text/plain": [
              "<Figure size 432x288 with 1 Axes>"
            ]
          },
          "metadata": {},
          "output_type": "display_data"
        }
      ],
      "source": [
        "iris_x = np.array(iris_df[['sepal_length', 'sepal_width', 'petal_length', 'petal_width']])\n",
        "iris_y = np.array(iris_df['target'])\n",
        "\n",
        "ks = range(1, 30, 2)\n",
        "results = []\n",
        "\n",
        "for _rep in tqdm(range(1000)):\n",
        "    # Use np.random.randint to get training indices\n",
        "    # The find all unselected indices to form a test set \n",
        "    train_idx = np.random.randint(len(iris_x), size=len(iris_x))\n",
        "    test_idx = np.setdiff1d(list(range(len(iris_x))), train_idx)\n",
        "    \n",
        "    # apply your kNN classifier to data subset\n",
        "    preds = KNN(iris_x[train_idx], iris_y[train_idx], iris_x[test_idx], ks)\n",
        "    errs = err_rates(preds, iris_y[test_idx])\n",
        "    \n",
        "    for k, errs_k in errs.items():\n",
        "        results.append({'K':k, 'err_rate': errs_k})\n",
        "\n",
        "# results_df will be a data_frame in long format\n",
        "results_df = pd.DataFrame(results)\n",
        "\n",
        "plt.figure()\n",
        "sns.regplot(x='K', y='err_rate', data=results_df, x_estimator=np.mean, order=3)\n"
      ]
    },
    {
      "cell_type": "markdown",
      "metadata": {
        "id": "f7C17WB7aEIo"
      },
      "source": [
        "Implement the k-NN algorithm with a leave-one-out error estimation \n",
        "\n",
        "**Hint**: except for couple of lines the code for the KNN_loo function is very much the same as in previous Problem\n",
        "\n",
        "Then perform two experiments:\n",
        "1. plot the leave-one-out error rate as a function of $K$\n",
        "2. choose K=15, plot the leave-one-out error rate as a function of training dataset size. For best results, repeat the experiment 100 times with different permutations of the dataset."
      ]
    },
    {
      "cell_type": "markdown",
      "metadata": {
        "id": "ozuWZxLXXxqa"
      },
      "source": [
        "## Problem 2 kNN leave-one-out [2p]"
      ]
    },
    {
      "cell_type": "code",
      "execution_count": 16,
      "metadata": {
        "id": "uhx4UjY4X3Sz"
      },
      "outputs": [],
      "source": [
        "from collections import defaultdict\n",
        "\n",
        "\n",
        "def KNN_loo(train_X, train_Y, ks, verbose=False):\n",
        "\n",
        "    results = []\n",
        "    errs = defaultdict(int)\n",
        "    for idx in range(len(train_X)):\n",
        "        if verbose:\n",
        "            print(idx)\n",
        "\n",
        "        train_idx = np.array([i for i in range(len(train_X)) if i != idx])\n",
        "        test_idx = [idx]\n",
        "\n",
        "        if verbose:\n",
        "            print(train_idx)\n",
        "            print(test_idx)\n",
        "\n",
        "        preds = KNN(train_X[train_idx], train_Y[train_idx], train_X[test_idx], ks)\n",
        "        errs_tmp = err_rates(preds, train_Y[test_idx])\n",
        "\n",
        "        if verbose:\n",
        "            print(errs_tmp)\n",
        "\n",
        "        for k, errs_k in errs_tmp.items():\n",
        "            errs[k] += errs_k\n",
        "\n",
        "    for k, errs_k in errs.items():\n",
        "        results.append({'K': k, 'err_rate': errs_k / len(train_X)})\n",
        "\n",
        "    return results\n"
      ]
    },
    {
      "cell_type": "code",
      "execution_count": 18,
      "metadata": {
        "colab": {
          "base_uri": "https://localhost:8080/",
          "height": 574
        },
        "id": "uhRGLfUmX4Op",
        "outputId": "215591bb-f85e-41de-f949-e97b3d2cd038"
      },
      "outputs": [
        {
          "name": "stdout",
          "output_type": "stream",
          "text": [
            "     K  err_rate\n",
            "0    1  0.040000\n",
            "1    3  0.040000\n",
            "2    5  0.033333\n",
            "3    7  0.033333\n",
            "4    9  0.033333\n",
            "5   11  0.033333\n",
            "6   13  0.033333\n",
            "7   15  0.026667\n",
            "8   17  0.026667\n",
            "9   19  0.020000\n",
            "10  21  0.033333\n",
            "11  23  0.033333\n",
            "12  25  0.033333\n",
            "13  27  0.033333\n",
            "14  29  0.046667\n"
          ]
        },
        {
          "data": {
            "text/plain": [
              "<AxesSubplot:xlabel='K', ylabel='err_rate'>"
            ]
          },
          "execution_count": 18,
          "metadata": {},
          "output_type": "execute_result"
        },
        {
          "data": {
            "image/png": "[encoded data removed]",
            "text/plain": [
              "<Figure size 432x288 with 1 Axes>"
            ]
          },
          "metadata": {},
          "output_type": "display_data"
        }
      ],
      "source": [
        "\n",
        "results_df = pd.DataFrame(KNN_loo(iris_x, iris_y, ks))\n",
        "print(results_df)\n",
        "\n",
        "plt.figure()\n",
        "sns.regplot(x='K', y='err_rate', data=results_df, order=2)\n"
      ]
    },
    {
      "cell_type": "code",
      "execution_count": 21,
      "metadata": {
        "colab": {
          "base_uri": "https://localhost:8080/",
          "height": 558,
          "referenced_widgets": [
            "c184639dc7c64b4f91aafcbd413fbe0d",
            "bd8b747050964d23a37a8ffdd2ad83a3",
            "f43ef6f6cd3d46ecbc7c332a0ccff6bd",
            "818b58cd097446c5aaf400535783286a",
            "ac6b843a4862422f930bc188a8233890",
            "0b0187b85b1249998c52e1d04ff3771f",
            "2294e33102c340b3859c4849efcb11db",
            "4394aee7eba740369989eda7416a6dae",
            "aee5022517f0494cbb1b9e14a44c454c",
            "7750c77096654f8993642feefdb26999",
            "86745f4def0a40f89236d2c549d70c57"
          ]
        },
        "id": "XYGjasc_Y4Ac",
        "outputId": "58b7f192-2ac6-4e46-8f75-d5f860d5b871"
      },
      "outputs": [
        {
          "name": "stdout",
          "output_type": "stream",
          "text": [
            "     trainset_size  err_rate\n",
            "0                5  1.000000\n",
            "1               10  0.400000\n",
            "2               20  0.600000\n",
            "3               50  0.100000\n",
            "4               75  0.053333\n",
            "..             ...       ...\n",
            "695             20  0.450000\n",
            "696             50  0.040000\n",
            "697             75  0.040000\n",
            "698            100  0.060000\n",
            "699            150  0.026667\n",
            "\n",
            "[700 rows x 2 columns]\n"
          ]
        },
        {
          "data": {
            "image/png": "[encoded data removed]",
            "text/plain": [
              "<Figure size 432x288 with 1 Axes>"
            ]
          },
          "metadata": {},
          "output_type": "display_data"
        }
      ],
      "source": [
        "trainset_size = [5, 10, 20, 50, 75, 100, 150]\n",
        "K = [15]\n",
        "results = []\n",
        "\n",
        "for _ in range(100):\n",
        "    for size in trainset_size:\n",
        "        permutation = np.random.permutation(len(iris_x))[:size]\n",
        "        res = KNN_loo(iris_x[permutation], iris_y[permutation], K)[0]\n",
        "        results.append({'trainset_size': size, 'err_rate': res['err_rate']})\n",
        "\n",
        "results_df = pd.DataFrame(results)\n",
        "print(results_df)\n",
        "plt.figure()\n",
        "splot = sns.scatterplot(data=results_df, x='trainset_size', y='err_rate')\n"
      ]
    },
    {
      "cell_type": "markdown",
      "metadata": {
        "id": "A86GnZpa33_0"
      },
      "source": [
        "## Problem 3 kNN MNIST [2p] \n",
        "\n",
        "Apply the K-Nearest Neighbors (K-NN) algorithm to the MNIST dataset. \n",
        "\n",
        "The MNIST (http://yann.lecun.com/exdb/mnist/) dataset consists of normalized (centered and stretched) scans of hand-written digits. Specifically, each element of the dataset is a 28 × 28 grayscale image, thus having 764 8-bit pixels. \n",
        "\n",
        "1. Display a few objects from each of the classes, paying attention to aesthetics and clarity of your presentation. **Note:** You already downloaded the dataset in \"Setup\" section. Please use the code below to get started.\n",
        "\n",
        "2. **[2p]** Apply a k-NN classifier to the MNIST dataset. First, divide the training set into two parts, which we will call training and validation. On MNIST use the first 50000 samples for training and the last 10000 for validation. Then find the optimal number of neighbors by assessing the accuracy on the validation set. You do not need to repeat this experiment multiple times. Finally, compute the accuracy on the test set obtained with the best previously chosen number of neighbors. On MNIST you should get about 3% errors. Pick a few mislabeled samples from the test dataset and plot them along with the correct ones. **Note:**\n",
        "  * MNIST is much larger than the Iris dataset. A good implementation may need a few minutes depending on your runtime type. Please optimize your algorithm:\n",
        "  * Compute the distances only once, then test for different values of k.\n",
        "  * Use vectorized expressions to compute the distance. It is possible to compute all distances between the training and testing points in one expression. Hint: think about the vectorized expression \\begin{equation}(X - Y)^T (X - Y)\\end{equation}\n",
        "  * You can use single precision numbers in computation.\n",
        "  * If your code is taking a long time to execute, please save its results before the lab session.\n",
        "\n",
        "**Note:** in NumPy, matrices have its own data type (dtype), which is retained during\n",
        "calculations. Please pay attention to it. I particular, do not subtract values of data types not\n",
        "having the sign bit, do not divide integers, etc. Results of such operations will not be\n",
        "automatically casted to types having the required precision."
      ]
    },
    {
      "cell_type": "code",
      "execution_count": 22,
      "metadata": {
        "id": "ipuqv4vwISwI"
      },
      "outputs": [],
      "source": [
        "# Please note that this code needs only to be run in a fresh runtime.\n",
        "# However, it can be rerun afterwards too.\n",
        "!pip install -q gdown httpimport\n",
        "![ -e mnist.npz ] || gdown 'https://drive.google.com/uc?id=1QPaC3IKB_5tX6yIZgRgkpcqFrfVqPTXU' -O mnist.npz"
      ]
    },
    {
      "cell_type": "code",
      "execution_count": 23,
      "metadata": {
        "id": "3AvAeiDN33_1"
      },
      "outputs": [],
      "source": [
        "with np.load('mnist.npz') as data:\n",
        "    mnist_full_train_data_uint8 = data['train_data']\n",
        "    mnist_full_train_labels_int64 = data['train_labels']\n",
        "    mnist_test_data_uint8 = data['test_data']\n",
        "    mnist_test_labels_int64 = data['test_labels']\n",
        "        \n",
        "# Split train data into train and validation sets\n",
        "mnist_train_data_uint8 = mnist_full_train_data_uint8[:50000]\n",
        "mnist_train_labels_int64 = mnist_full_train_labels_int64[:50000]\n",
        "mnist_valid_data_uint8 = mnist_full_train_data_uint8[50000:]\n",
        "mnist_valid_labels_int64 = mnist_full_train_labels_int64[50000:]"
      ]
    },
    {
      "cell_type": "code",
      "execution_count": 24,
      "metadata": {
        "colab": {
          "base_uri": "https://localhost:8080/",
          "height": 248
        },
        "id": "aenFc3L633_4",
        "outputId": "907d85f5-2d99-413b-c1c4-25678c79ea19"
      },
      "outputs": [
        {
          "data": {
            "image/png": "[encoded data removed]",
            "text/plain": [
              "<Figure size 432x288 with 1 Axes>"
            ]
          },
          "metadata": {},
          "output_type": "display_data"
        }
      ],
      "source": [
        "plot_mat(mnist_train_data_uint8[:20, None], cmap='gray')"
      ]
    },
    {
      "cell_type": "code",
      "execution_count": 25,
      "metadata": {
        "id": "ZK46uiW4-Yox"
      },
      "outputs": [],
      "source": [
        "# MNIST is large.\n",
        "# Implement a batched KNN classifier, which processes the test data in small batches\n",
        "# and returns the error rates\n",
        "\n",
        "# The code should not run for more than a couple of minutes on the Colab runtime, \n",
        "# If it is slower, optimize the distance computation in KNN\n",
        "\n",
        "def batched_KNN(train_X, train_Y, test_X, ks, verbose=False, batch_size=200):\n",
        "    all_preds = {k: [] for k in ks}\n",
        "    for i in tqdm(range(0, test_X.shape[0], batch_size)):\n",
        "        batch_X = test_X[i:i + batch_size]\n",
        "        \n",
        "        # TODO: run KNN on the batch and save the predictions\n",
        "        preds = KNN(train_X, train_Y, batch_X, ks)\n",
        "        for k in all_preds.keys():\n",
        "            # TODO: combine predictions from batches\n",
        "            all_preds[k] = np.concatenate((all_preds[k], preds[k]))\n",
        "    return all_preds\n"
      ]
    },
    {
      "cell_type": "code",
      "execution_count": 26,
      "metadata": {
        "colab": {
          "base_uri": "https://localhost:8080/",
          "height": 314,
          "referenced_widgets": [
            "1d63da7c64d14f5dbb7a5d1c3992529c",
            "07cac6386ece41e7883f3ed6748a8381",
            "778206ac9c854af4b843e289bf0f7a47",
            "8cc0745e96fa41a9b3ad21f84431c297",
            "71bb3065ae3341d5943d064cd19f7435",
            "587aeed11a734a84aaaae282fe0cd131",
            "b3148032f15f41d4b040fc19d9694986",
            "12d3e6258ff947fcb1abab13d721824e",
            "e468d2f92be04172b1a572e19736f24d",
            "446ff09bce874a4bbc7fca6e372ba28a",
            "b4a7c9f8cd434f1aa95fe541796faac5"
          ]
        },
        "id": "OZB49qMMCP9i",
        "outputId": "0b934b45-35d2-4508-c584-26bfec9f1eb8"
      },
      "outputs": [
        {
          "name": "stderr",
          "output_type": "stream",
          "text": [
            "100%|██████████| 50/50 [01:15<00:00,  1.52s/it]\n"
          ]
        },
        {
          "data": {
            "text/plain": [
              "[<matplotlib.lines.Line2D at 0x7f998f5d58b0>]"
            ]
          },
          "execution_count": 26,
          "metadata": {},
          "output_type": "execute_result"
        },
        {
          "data": {
            "image/png": "[encoded data removed]",
            "text/plain": [
              "<Figure size 432x288 with 1 Axes>"
            ]
          },
          "metadata": {},
          "output_type": "display_data"
        }
      ],
      "source": [
        "# Now find the best k on the validation set\n",
        "ks = [1, 3, 5, 7, 9]\n",
        "mnist_validation_preds = batched_KNN(\n",
        "    mnist_train_data_uint8.astype('float32').reshape(-1, 28*28), mnist_train_labels_int64,\n",
        "    mnist_valid_data_uint8.astype('float32').reshape(-1, 28*28),\n",
        "    ks)\n",
        "\n",
        "mnist_validation_errs = err_rates(mnist_validation_preds, mnist_valid_labels_int64)\n",
        "plt.plot(ks, [mnist_validation_errs[k] for k in ks])"
      ]
    },
    {
      "cell_type": "code",
      "execution_count": 27,
      "metadata": {
        "colab": {
          "base_uri": "https://localhost:8080/",
          "height": 101,
          "referenced_widgets": [
            "fdadb15aaad347aea7716f3fb81ff1dc",
            "4bfa46a501ef4dac8d1b3059ca6567be",
            "48f986eb2b044a2bb0081e13f5f2273b",
            "0257ae90ca204fe8a0b8c0df18ccb068",
            "5679f0c0b19a48238422d2c97a837343",
            "28429a7b9ca0435991a5f89900543d79",
            "0e806fddd5ab48ab8bef8e39569110a7",
            "070308dfdfc840efba841a4a0da30b35",
            "cdeda083db1d4fd5b97805c401fc40d8",
            "4a80a42eeb914767b1080d9979757dd4",
            "06d3c5237baa4676affe749b2e48b8e2"
          ]
        },
        "id": "l5j4eGVN34AR",
        "outputId": "fb9e7eea-3196-401d-8da0-f8bdf0092907"
      },
      "outputs": [
        {
          "name": "stderr",
          "output_type": "stream",
          "text": [
            "100%|██████████| 50/50 [01:43<00:00,  2.08s/it]"
          ]
        },
        {
          "name": "stdout",
          "output_type": "stream",
          "text": [
            "\n",
            "\n",
            "When k=3 the test error rate is 2.9%%\n"
          ]
        },
        {
          "name": "stderr",
          "output_type": "stream",
          "text": [
            "\n"
          ]
        }
      ],
      "source": [
        "# Now use the best k to compute the test error\n",
        "\n",
        "best_K = 3\n",
        "\n",
        "mnist_test_preds = batched_KNN(\n",
        "    mnist_full_train_data_uint8.astype('float32').reshape(-1, 28*28), \n",
        "    mnist_full_train_labels_int64,\n",
        "    mnist_test_data_uint8.astype('float32').reshape(-1, 28*28), \n",
        "    [best_K])\n",
        "\n",
        "mnist_test_errs = err_rates(mnist_test_preds, mnist_test_labels_int64)\n",
        "print(f\"\\n\\nWhen k={best_K} the test error rate is {mnist_test_errs[best_K] * 100.0:.1f}%%\")"
      ]
    }
  ],
  "metadata": {
    "colab": {
      "collapsed_sections": [],
      "name": "Assignment1.2_solutions.ipynb",
      "provenance": [],
      "toc_visible": true
    },
    "kernelspec": {
      "display_name": "Python 3.8.10 64-bit",
      "language": "python",
      "name": "python3"
    },
    "language_info": {
      "codemirror_mode": {
        "name": "ipython",
        "version": 3
      },
      "file_extension": ".py",
      "mimetype": "text/x-python",
      "name": "python",
      "nbconvert_exporter": "python",
      "pygments_lexer": "ipython3",
      "version": "3.8.10"
    },
    "vscode": {
      "interpreter": {
        "hash": "31f2aee4e71d21fbe5cf8b01ff0e069b9275f58929596ceb00d14d90e3e16cd6"
      }
    },
    "widgets": {
      "application/vnd.jupyter.widget-state+json": {
        "0257ae90ca204fe8a0b8c0df18ccb068": {
          "model_module": "@jupyter-widgets/controls",
          "model_module_version": "1.5.0",
          "model_name": "FloatProgressModel",
          "state": {
            "_dom_classes": [],
            "_model_module": "@jupyter-widgets/controls",
            "_model_module_version": "1.5.0",
            "_model_name": "FloatProgressModel",
            "_view_count": null,
            "_view_module": "@jupyter-widgets/controls",
            "_view_module_version": "1.5.0",
            "_view_name": "ProgressView",
            "bar_style": "success",
            "description": "",
            "description_tooltip": null,
            "layout": "IPY_MODEL_cdeda083db1d4fd5b97805c401fc40d8",
            "max": 50,
            "min": 0,
            "orientation": "horizontal",
            "style": "IPY_MODEL_070308dfdfc840efba841a4a0da30b35",
            "value": 50
          }
        },
        "06d3c5237baa4676affe749b2e48b8e2": {
          "model_module": "@jupyter-widgets/base",
          "model_module_version": "1.2.0",
          "model_name": "LayoutModel",
          "state": {
            "_model_module": "@jupyter-widgets/base",
            "_model_module_version": "1.2.0",
            "_model_name": "LayoutModel",
            "_view_count": null,
            "_view_module": "@jupyter-widgets/base",
            "_view_module_version": "1.2.0",
            "_view_name": "LayoutView",
            "align_content": null,
            "align_items": null,
            "align_self": null,
            "border": null,
            "bottom": null,
            "display": null,
            "flex": null,
            "flex_flow": null,
            "grid_area": null,
            "grid_auto_columns": null,
            "grid_auto_flow": null,
            "grid_auto_rows": null,
            "grid_column": null,
            "grid_gap": null,
            "grid_row": null,
            "grid_template_areas": null,
            "grid_template_columns": null,
            "grid_template_rows": null,
            "height": null,
            "justify_content": null,
            "justify_items": null,
            "left": null,
            "margin": null,
            "max_height": null,
            "max_width": null,
            "min_height": null,
            "min_width": null,
            "object_fit": null,
            "object_position": null,
            "order": null,
            "overflow": null,
            "overflow_x": null,
            "overflow_y": null,
            "padding": null,
            "right": null,
            "top": null,
            "visibility": null,
            "width": null
          }
        },
        "070308dfdfc840efba841a4a0da30b35": {
          "model_module": "@jupyter-widgets/controls",
          "model_module_version": "1.5.0",
          "model_name": "ProgressStyleModel",
          "state": {
            "_model_module": "@jupyter-widgets/controls",
            "_model_module_version": "1.5.0",
            "_model_name": "ProgressStyleModel",
            "_view_count": null,
            "_view_module": "@jupyter-widgets/base",
            "_view_module_version": "1.2.0",
            "_view_name": "StyleView",
            "bar_color": null,
            "description_width": ""
          }
        },
        "07cac6386ece41e7883f3ed6748a8381": {
          "model_module": "@jupyter-widgets/base",
          "model_module_version": "1.2.0",
          "model_name": "LayoutModel",
          "state": {
            "_model_module": "@jupyter-widgets/base",
            "_model_module_version": "1.2.0",
            "_model_name": "LayoutModel",
            "_view_count": null,
            "_view_module": "@jupyter-widgets/base",
            "_view_module_version": "1.2.0",
            "_view_name": "LayoutView",
            "align_content": null,
            "align_items": null,
            "align_self": null,
            "border": null,
            "bottom": null,
            "display": null,
            "flex": null,
            "flex_flow": null,
            "grid_area": null,
            "grid_auto_columns": null,
            "grid_auto_flow": null,
            "grid_auto_rows": null,
            "grid_column": null,
            "grid_gap": null,
            "grid_row": null,
            "grid_template_areas": null,
            "grid_template_columns": null,
            "grid_template_rows": null,
            "height": null,
            "justify_content": null,
            "justify_items": null,
            "left": null,
            "margin": null,
            "max_height": null,
            "max_width": null,
            "min_height": null,
            "min_width": null,
            "object_fit": null,
            "object_position": null,
            "order": null,
            "overflow": null,
            "overflow_x": null,
            "overflow_y": null,
            "padding": null,
            "right": null,
            "top": null,
            "visibility": null,
            "width": null
          }
        },
        "0b0187b85b1249998c52e1d04ff3771f": {
          "model_module": "@jupyter-widgets/controls",
          "model_module_version": "1.5.0",
          "model_name": "DescriptionStyleModel",
          "state": {
            "_model_module": "@jupyter-widgets/controls",
            "_model_module_version": "1.5.0",
            "_model_name": "DescriptionStyleModel",
            "_view_count": null,
            "_view_module": "@jupyter-widgets/base",
            "_view_module_version": "1.2.0",
            "_view_name": "StyleView",
            "description_width": ""
          }
        },
        "0e806fddd5ab48ab8bef8e39569110a7": {
          "model_module": "@jupyter-widgets/base",
          "model_module_version": "1.2.0",
          "model_name": "LayoutModel",
          "state": {
            "_model_module": "@jupyter-widgets/base",
            "_model_module_version": "1.2.0",
            "_model_name": "LayoutModel",
            "_view_count": null,
            "_view_module": "@jupyter-widgets/base",
            "_view_module_version": "1.2.0",
            "_view_name": "LayoutView",
            "align_content": null,
            "align_items": null,
            "align_self": null,
            "border": null,
            "bottom": null,
            "display": null,
            "flex": null,
            "flex_flow": null,
            "grid_area": null,
            "grid_auto_columns": null,
            "grid_auto_flow": null,
            "grid_auto_rows": null,
            "grid_column": null,
            "grid_gap": null,
            "grid_row": null,
            "grid_template_areas": null,
            "grid_template_columns": null,
            "grid_template_rows": null,
            "height": null,
            "justify_content": null,
            "justify_items": null,
            "left": null,
            "margin": null,
            "max_height": null,
            "max_width": null,
            "min_height": null,
            "min_width": null,
            "object_fit": null,
            "object_position": null,
            "order": null,
            "overflow": null,
            "overflow_x": null,
            "overflow_y": null,
            "padding": null,
            "right": null,
            "top": null,
            "visibility": null,
            "width": null
          }
        },
        "12d3e6258ff947fcb1abab13d721824e": {
          "model_module": "@jupyter-widgets/controls",
          "model_module_version": "1.5.0",
          "model_name": "ProgressStyleModel",
          "state": {
            "_model_module": "@jupyter-widgets/controls",
            "_model_module_version": "1.5.0",
            "_model_name": "ProgressStyleModel",
            "_view_count": null,
            "_view_module": "@jupyter-widgets/base",
            "_view_module_version": "1.2.0",
            "_view_name": "StyleView",
            "bar_color": null,
            "description_width": ""
          }
        },
        "1d63da7c64d14f5dbb7a5d1c3992529c": {
          "model_module": "@jupyter-widgets/controls",
          "model_module_version": "1.5.0",
          "model_name": "HBoxModel",
          "state": {
            "_dom_classes": [],
            "_model_module": "@jupyter-widgets/controls",
            "_model_module_version": "1.5.0",
            "_model_name": "HBoxModel",
            "_view_count": null,
            "_view_module": "@jupyter-widgets/controls",
            "_view_module_version": "1.5.0",
            "_view_name": "HBoxView",
            "box_style": "",
            "children": [
              "IPY_MODEL_778206ac9c854af4b843e289bf0f7a47",
              "IPY_MODEL_8cc0745e96fa41a9b3ad21f84431c297",
              "IPY_MODEL_71bb3065ae3341d5943d064cd19f7435"
            ],
            "layout": "IPY_MODEL_07cac6386ece41e7883f3ed6748a8381"
          }
        },
        "2294e33102c340b3859c4849efcb11db": {
          "model_module": "@jupyter-widgets/base",
          "model_module_version": "1.2.0",
          "model_name": "LayoutModel",
          "state": {
            "_model_module": "@jupyter-widgets/base",
            "_model_module_version": "1.2.0",
            "_model_name": "LayoutModel",
            "_view_count": null,
            "_view_module": "@jupyter-widgets/base",
            "_view_module_version": "1.2.0",
            "_view_name": "LayoutView",
            "align_content": null,
            "align_items": null,
            "align_self": null,
            "border": null,
            "bottom": null,
            "display": null,
            "flex": null,
            "flex_flow": null,
            "grid_area": null,
            "grid_auto_columns": null,
            "grid_auto_flow": null,
            "grid_auto_rows": null,
            "grid_column": null,
            "grid_gap": null,
            "grid_row": null,
            "grid_template_areas": null,
            "grid_template_columns": null,
            "grid_template_rows": null,
            "height": null,
            "justify_content": null,
            "justify_items": null,
            "left": null,
            "margin": null,
            "max_height": null,
            "max_width": null,
            "min_height": null,
            "min_width": null,
            "object_fit": null,
            "object_position": null,
            "order": null,
            "overflow": null,
            "overflow_x": null,
            "overflow_y": null,
            "padding": null,
            "right": null,
            "top": null,
            "visibility": null,
            "width": null
          }
        },
        "28429a7b9ca0435991a5f89900543d79": {
          "model_module": "@jupyter-widgets/controls",
          "model_module_version": "1.5.0",
          "model_name": "DescriptionStyleModel",
          "state": {
            "_model_module": "@jupyter-widgets/controls",
            "_model_module_version": "1.5.0",
            "_model_name": "DescriptionStyleModel",
            "_view_count": null,
            "_view_module": "@jupyter-widgets/base",
            "_view_module_version": "1.2.0",
            "_view_name": "StyleView",
            "description_width": ""
          }
        },
        "2a4691463d414cb2842e9258152e7b7f": {
          "model_module": "@jupyter-widgets/base",
          "model_module_version": "1.2.0",
          "model_name": "LayoutModel",
          "state": {
            "_model_module": "@jupyter-widgets/base",
            "_model_module_version": "1.2.0",
            "_model_name": "LayoutModel",
            "_view_count": null,
            "_view_module": "@jupyter-widgets/base",
            "_view_module_version": "1.2.0",
            "_view_name": "LayoutView",
            "align_content": null,
            "align_items": null,
            "align_self": null,
            "border": null,
            "bottom": null,
            "display": null,
            "flex": null,
            "flex_flow": null,
            "grid_area": null,
            "grid_auto_columns": null,
            "grid_auto_flow": null,
            "grid_auto_rows": null,
            "grid_column": null,
            "grid_gap": null,
            "grid_row": null,
            "grid_template_areas": null,
            "grid_template_columns": null,
            "grid_template_rows": null,
            "height": null,
            "justify_content": null,
            "justify_items": null,
            "left": null,
            "margin": null,
            "max_height": null,
            "max_width": null,
            "min_height": null,
            "min_width": null,
            "object_fit": null,
            "object_position": null,
            "order": null,
            "overflow": null,
            "overflow_x": null,
            "overflow_y": null,
            "padding": null,
            "right": null,
            "top": null,
            "visibility": null,
            "width": null
          }
        },
        "308f036ce0e2470cb44bb1b0cdaf106e": {
          "model_module": "@jupyter-widgets/base",
          "model_module_version": "1.2.0",
          "model_name": "LayoutModel",
          "state": {
            "_model_module": "@jupyter-widgets/base",
            "_model_module_version": "1.2.0",
            "_model_name": "LayoutModel",
            "_view_count": null,
            "_view_module": "@jupyter-widgets/base",
            "_view_module_version": "1.2.0",
            "_view_name": "LayoutView",
            "align_content": null,
            "align_items": null,
            "align_self": null,
            "border": null,
            "bottom": null,
            "display": null,
            "flex": null,
            "flex_flow": null,
            "grid_area": null,
            "grid_auto_columns": null,
            "grid_auto_flow": null,
            "grid_auto_rows": null,
            "grid_column": null,
            "grid_gap": null,
            "grid_row": null,
            "grid_template_areas": null,
            "grid_template_columns": null,
            "grid_template_rows": null,
            "height": null,
            "justify_content": null,
            "justify_items": null,
            "left": null,
            "margin": null,
            "max_height": null,
            "max_width": null,
            "min_height": null,
            "min_width": null,
            "object_fit": null,
            "object_position": null,
            "order": null,
            "overflow": null,
            "overflow_x": null,
            "overflow_y": null,
            "padding": null,
            "right": null,
            "top": null,
            "visibility": null,
            "width": null
          }
        },
        "429875971d8b4be78395ee58dddcad7c": {
          "model_module": "@jupyter-widgets/controls",
          "model_module_version": "1.5.0",
          "model_name": "HBoxModel",
          "state": {
            "_dom_classes": [],
            "_model_module": "@jupyter-widgets/controls",
            "_model_module_version": "1.5.0",
            "_model_name": "HBoxModel",
            "_view_count": null,
            "_view_module": "@jupyter-widgets/controls",
            "_view_module_version": "1.5.0",
            "_view_name": "HBoxView",
            "box_style": "",
            "children": [
              "IPY_MODEL_ffb23e6bb0cb482aaac096a0cfc26fca",
              "IPY_MODEL_7ec5db59ca2142588e5ec3c775699d4d",
              "IPY_MODEL_b475f941badc4d55a19183a05ccedf3a"
            ],
            "layout": "IPY_MODEL_a5f561ff6546403596b2038ca916f9cf"
          }
        },
        "4394aee7eba740369989eda7416a6dae": {
          "model_module": "@jupyter-widgets/controls",
          "model_module_version": "1.5.0",
          "model_name": "ProgressStyleModel",
          "state": {
            "_model_module": "@jupyter-widgets/controls",
            "_model_module_version": "1.5.0",
            "_model_name": "ProgressStyleModel",
            "_view_count": null,
            "_view_module": "@jupyter-widgets/base",
            "_view_module_version": "1.2.0",
            "_view_name": "StyleView",
            "bar_color": null,
            "description_width": ""
          }
        },
        "446ff09bce874a4bbc7fca6e372ba28a": {
          "model_module": "@jupyter-widgets/controls",
          "model_module_version": "1.5.0",
          "model_name": "DescriptionStyleModel",
          "state": {
            "_model_module": "@jupyter-widgets/controls",
            "_model_module_version": "1.5.0",
            "_model_name": "DescriptionStyleModel",
            "_view_count": null,
            "_view_module": "@jupyter-widgets/base",
            "_view_module_version": "1.2.0",
            "_view_name": "StyleView",
            "description_width": ""
          }
        },
        "48f986eb2b044a2bb0081e13f5f2273b": {
          "model_module": "@jupyter-widgets/controls",
          "model_module_version": "1.5.0",
          "model_name": "HTMLModel",
          "state": {
            "_dom_classes": [],
            "_model_module": "@jupyter-widgets/controls",
            "_model_module_version": "1.5.0",
            "_model_name": "HTMLModel",
            "_view_count": null,
            "_view_module": "@jupyter-widgets/controls",
            "_view_module_version": "1.5.0",
            "_view_name": "HTMLView",
            "description": "",
            "description_tooltip": null,
            "layout": "IPY_MODEL_0e806fddd5ab48ab8bef8e39569110a7",
            "placeholder": "​",
            "style": "IPY_MODEL_28429a7b9ca0435991a5f89900543d79",
            "value": "100%"
          }
        },
        "4a80a42eeb914767b1080d9979757dd4": {
          "model_module": "@jupyter-widgets/controls",
          "model_module_version": "1.5.0",
          "model_name": "DescriptionStyleModel",
          "state": {
            "_model_module": "@jupyter-widgets/controls",
            "_model_module_version": "1.5.0",
            "_model_name": "DescriptionStyleModel",
            "_view_count": null,
            "_view_module": "@jupyter-widgets/base",
            "_view_module_version": "1.2.0",
            "_view_name": "StyleView",
            "description_width": ""
          }
        },
        "4bfa46a501ef4dac8d1b3059ca6567be": {
          "model_module": "@jupyter-widgets/base",
          "model_module_version": "1.2.0",
          "model_name": "LayoutModel",
          "state": {
            "_model_module": "@jupyter-widgets/base",
            "_model_module_version": "1.2.0",
            "_model_name": "LayoutModel",
            "_view_count": null,
            "_view_module": "@jupyter-widgets/base",
            "_view_module_version": "1.2.0",
            "_view_name": "LayoutView",
            "align_content": null,
            "align_items": null,
            "align_self": null,
            "border": null,
            "bottom": null,
            "display": null,
            "flex": null,
            "flex_flow": null,
            "grid_area": null,
            "grid_auto_columns": null,
            "grid_auto_flow": null,
            "grid_auto_rows": null,
            "grid_column": null,
            "grid_gap": null,
            "grid_row": null,
            "grid_template_areas": null,
            "grid_template_columns": null,
            "grid_template_rows": null,
            "height": null,
            "justify_content": null,
            "justify_items": null,
            "left": null,
            "margin": null,
            "max_height": null,
            "max_width": null,
            "min_height": null,
            "min_width": null,
            "object_fit": null,
            "object_position": null,
            "order": null,
            "overflow": null,
            "overflow_x": null,
            "overflow_y": null,
            "padding": null,
            "right": null,
            "top": null,
            "visibility": null,
            "width": null
          }
        },
        "52470f7a4b0c4ab79a854d9cf1098064": {
          "model_module": "@jupyter-widgets/controls",
          "model_module_version": "1.5.0",
          "model_name": "DescriptionStyleModel",
          "state": {
            "_model_module": "@jupyter-widgets/controls",
            "_model_module_version": "1.5.0",
            "_model_name": "DescriptionStyleModel",
            "_view_count": null,
            "_view_module": "@jupyter-widgets/base",
            "_view_module_version": "1.2.0",
            "_view_name": "StyleView",
            "description_width": ""
          }
        },
        "5679f0c0b19a48238422d2c97a837343": {
          "model_module": "@jupyter-widgets/controls",
          "model_module_version": "1.5.0",
          "model_name": "HTMLModel",
          "state": {
            "_dom_classes": [],
            "_model_module": "@jupyter-widgets/controls",
            "_model_module_version": "1.5.0",
            "_model_name": "HTMLModel",
            "_view_count": null,
            "_view_module": "@jupyter-widgets/controls",
            "_view_module_version": "1.5.0",
            "_view_name": "HTMLView",
            "description": "",
            "description_tooltip": null,
            "layout": "IPY_MODEL_06d3c5237baa4676affe749b2e48b8e2",
            "placeholder": "​",
            "style": "IPY_MODEL_4a80a42eeb914767b1080d9979757dd4",
            "value": " 50/50 [01:39&lt;00:00,  1.99s/it]"
          }
        },
        "587aeed11a734a84aaaae282fe0cd131": {
          "model_module": "@jupyter-widgets/controls",
          "model_module_version": "1.5.0",
          "model_name": "DescriptionStyleModel",
          "state": {
            "_model_module": "@jupyter-widgets/controls",
            "_model_module_version": "1.5.0",
            "_model_name": "DescriptionStyleModel",
            "_view_count": null,
            "_view_module": "@jupyter-widgets/base",
            "_view_module_version": "1.2.0",
            "_view_name": "StyleView",
            "description_width": ""
          }
        },
        "6583a4fbdb8447069455792b12234e1e": {
          "model_module": "@jupyter-widgets/base",
          "model_module_version": "1.2.0",
          "model_name": "LayoutModel",
          "state": {
            "_model_module": "@jupyter-widgets/base",
            "_model_module_version": "1.2.0",
            "_model_name": "LayoutModel",
            "_view_count": null,
            "_view_module": "@jupyter-widgets/base",
            "_view_module_version": "1.2.0",
            "_view_name": "LayoutView",
            "align_content": null,
            "align_items": null,
            "align_self": null,
            "border": null,
            "bottom": null,
            "display": null,
            "flex": null,
            "flex_flow": null,
            "grid_area": null,
            "grid_auto_columns": null,
            "grid_auto_flow": null,
            "grid_auto_rows": null,
            "grid_column": null,
            "grid_gap": null,
            "grid_row": null,
            "grid_template_areas": null,
            "grid_template_columns": null,
            "grid_template_rows": null,
            "height": null,
            "justify_content": null,
            "justify_items": null,
            "left": null,
            "margin": null,
            "max_height": null,
            "max_width": null,
            "min_height": null,
            "min_width": null,
            "object_fit": null,
            "object_position": null,
            "order": null,
            "overflow": null,
            "overflow_x": null,
            "overflow_y": null,
            "padding": null,
            "right": null,
            "top": null,
            "visibility": null,
            "width": null
          }
        },
        "6852c725d14047e28242f5d2e0574258": {
          "model_module": "@jupyter-widgets/controls",
          "model_module_version": "1.5.0",
          "model_name": "ProgressStyleModel",
          "state": {
            "_model_module": "@jupyter-widgets/controls",
            "_model_module_version": "1.5.0",
            "_model_name": "ProgressStyleModel",
            "_view_count": null,
            "_view_module": "@jupyter-widgets/base",
            "_view_module_version": "1.2.0",
            "_view_name": "StyleView",
            "bar_color": null,
            "description_width": ""
          }
        },
        "71bb3065ae3341d5943d064cd19f7435": {
          "model_module": "@jupyter-widgets/controls",
          "model_module_version": "1.5.0",
          "model_name": "HTMLModel",
          "state": {
            "_dom_classes": [],
            "_model_module": "@jupyter-widgets/controls",
            "_model_module_version": "1.5.0",
            "_model_name": "HTMLModel",
            "_view_count": null,
            "_view_module": "@jupyter-widgets/controls",
            "_view_module_version": "1.5.0",
            "_view_name": "HTMLView",
            "description": "",
            "description_tooltip": null,
            "layout": "IPY_MODEL_b4a7c9f8cd434f1aa95fe541796faac5",
            "placeholder": "​",
            "style": "IPY_MODEL_446ff09bce874a4bbc7fca6e372ba28a",
            "value": " 50/50 [01:24&lt;00:00,  1.68s/it]"
          }
        },
        "7750c77096654f8993642feefdb26999": {
          "model_module": "@jupyter-widgets/controls",
          "model_module_version": "1.5.0",
          "model_name": "DescriptionStyleModel",
          "state": {
            "_model_module": "@jupyter-widgets/controls",
            "_model_module_version": "1.5.0",
            "_model_name": "DescriptionStyleModel",
            "_view_count": null,
            "_view_module": "@jupyter-widgets/base",
            "_view_module_version": "1.2.0",
            "_view_name": "StyleView",
            "description_width": ""
          }
        },
        "778206ac9c854af4b843e289bf0f7a47": {
          "model_module": "@jupyter-widgets/controls",
          "model_module_version": "1.5.0",
          "model_name": "HTMLModel",
          "state": {
            "_dom_classes": [],
            "_model_module": "@jupyter-widgets/controls",
            "_model_module_version": "1.5.0",
            "_model_name": "HTMLModel",
            "_view_count": null,
            "_view_module": "@jupyter-widgets/controls",
            "_view_module_version": "1.5.0",
            "_view_name": "HTMLView",
            "description": "",
            "description_tooltip": null,
            "layout": "IPY_MODEL_b3148032f15f41d4b040fc19d9694986",
            "placeholder": "​",
            "style": "IPY_MODEL_587aeed11a734a84aaaae282fe0cd131",
            "value": "100%"
          }
        },
        "7ec5db59ca2142588e5ec3c775699d4d": {
          "model_module": "@jupyter-widgets/controls",
          "model_module_version": "1.5.0",
          "model_name": "FloatProgressModel",
          "state": {
            "_dom_classes": [],
            "_model_module": "@jupyter-widgets/controls",
            "_model_module_version": "1.5.0",
            "_model_name": "FloatProgressModel",
            "_view_count": null,
            "_view_module": "@jupyter-widgets/controls",
            "_view_module_version": "1.5.0",
            "_view_name": "ProgressView",
            "bar_style": "success",
            "description": "",
            "description_tooltip": null,
            "layout": "IPY_MODEL_308f036ce0e2470cb44bb1b0cdaf106e",
            "max": 1000,
            "min": 0,
            "orientation": "horizontal",
            "style": "IPY_MODEL_6852c725d14047e28242f5d2e0574258",
            "value": 1000
          }
        },
        "818b58cd097446c5aaf400535783286a": {
          "model_module": "@jupyter-widgets/controls",
          "model_module_version": "1.5.0",
          "model_name": "FloatProgressModel",
          "state": {
            "_dom_classes": [],
            "_model_module": "@jupyter-widgets/controls",
            "_model_module_version": "1.5.0",
            "_model_name": "FloatProgressModel",
            "_view_count": null,
            "_view_module": "@jupyter-widgets/controls",
            "_view_module_version": "1.5.0",
            "_view_name": "ProgressView",
            "bar_style": "success",
            "description": "",
            "description_tooltip": null,
            "layout": "IPY_MODEL_aee5022517f0494cbb1b9e14a44c454c",
            "max": 100,
            "min": 0,
            "orientation": "horizontal",
            "style": "IPY_MODEL_4394aee7eba740369989eda7416a6dae",
            "value": 100
          }
        },
        "86745f4def0a40f89236d2c549d70c57": {
          "model_module": "@jupyter-widgets/base",
          "model_module_version": "1.2.0",
          "model_name": "LayoutModel",
          "state": {
            "_model_module": "@jupyter-widgets/base",
            "_model_module_version": "1.2.0",
            "_model_name": "LayoutModel",
            "_view_count": null,
            "_view_module": "@jupyter-widgets/base",
            "_view_module_version": "1.2.0",
            "_view_name": "LayoutView",
            "align_content": null,
            "align_items": null,
            "align_self": null,
            "border": null,
            "bottom": null,
            "display": null,
            "flex": null,
            "flex_flow": null,
            "grid_area": null,
            "grid_auto_columns": null,
            "grid_auto_flow": null,
            "grid_auto_rows": null,
            "grid_column": null,
            "grid_gap": null,
            "grid_row": null,
            "grid_template_areas": null,
            "grid_template_columns": null,
            "grid_template_rows": null,
            "height": null,
            "justify_content": null,
            "justify_items": null,
            "left": null,
            "margin": null,
            "max_height": null,
            "max_width": null,
            "min_height": null,
            "min_width": null,
            "object_fit": null,
            "object_position": null,
            "order": null,
            "overflow": null,
            "overflow_x": null,
            "overflow_y": null,
            "padding": null,
            "right": null,
            "top": null,
            "visibility": null,
            "width": null
          }
        },
        "8cc0745e96fa41a9b3ad21f84431c297": {
          "model_module": "@jupyter-widgets/controls",
          "model_module_version": "1.5.0",
          "model_name": "FloatProgressModel",
          "state": {
            "_dom_classes": [],
            "_model_module": "@jupyter-widgets/controls",
            "_model_module_version": "1.5.0",
            "_model_name": "FloatProgressModel",
            "_view_count": null,
            "_view_module": "@jupyter-widgets/controls",
            "_view_module_version": "1.5.0",
            "_view_name": "ProgressView",
            "bar_style": "success",
            "description": "",
            "description_tooltip": null,
            "layout": "IPY_MODEL_e468d2f92be04172b1a572e19736f24d",
            "max": 50,
            "min": 0,
            "orientation": "horizontal",
            "style": "IPY_MODEL_12d3e6258ff947fcb1abab13d721824e",
            "value": 50
          }
        },
        "a5f561ff6546403596b2038ca916f9cf": {
          "model_module": "@jupyter-widgets/base",
          "model_module_version": "1.2.0",
          "model_name": "LayoutModel",
          "state": {
            "_model_module": "@jupyter-widgets/base",
            "_model_module_version": "1.2.0",
            "_model_name": "LayoutModel",
            "_view_count": null,
            "_view_module": "@jupyter-widgets/base",
            "_view_module_version": "1.2.0",
            "_view_name": "LayoutView",
            "align_content": null,
            "align_items": null,
            "align_self": null,
            "border": null,
            "bottom": null,
            "display": null,
            "flex": null,
            "flex_flow": null,
            "grid_area": null,
            "grid_auto_columns": null,
            "grid_auto_flow": null,
            "grid_auto_rows": null,
            "grid_column": null,
            "grid_gap": null,
            "grid_row": null,
            "grid_template_areas": null,
            "grid_template_columns": null,
            "grid_template_rows": null,
            "height": null,
            "justify_content": null,
            "justify_items": null,
            "left": null,
            "margin": null,
            "max_height": null,
            "max_width": null,
            "min_height": null,
            "min_width": null,
            "object_fit": null,
            "object_position": null,
            "order": null,
            "overflow": null,
            "overflow_x": null,
            "overflow_y": null,
            "padding": null,
            "right": null,
            "top": null,
            "visibility": null,
            "width": null
          }
        },
        "ac6b843a4862422f930bc188a8233890": {
          "model_module": "@jupyter-widgets/controls",
          "model_module_version": "1.5.0",
          "model_name": "HTMLModel",
          "state": {
            "_dom_classes": [],
            "_model_module": "@jupyter-widgets/controls",
            "_model_module_version": "1.5.0",
            "_model_name": "HTMLModel",
            "_view_count": null,
            "_view_module": "@jupyter-widgets/controls",
            "_view_module_version": "1.5.0",
            "_view_name": "HTMLView",
            "description": "",
            "description_tooltip": null,
            "layout": "IPY_MODEL_86745f4def0a40f89236d2c549d70c57",
            "placeholder": "​",
            "style": "IPY_MODEL_7750c77096654f8993642feefdb26999",
            "value": " 100/100 [00:02&lt;00:00, 46.43it/s]"
          }
        },
        "aee5022517f0494cbb1b9e14a44c454c": {
          "model_module": "@jupyter-widgets/base",
          "model_module_version": "1.2.0",
          "model_name": "LayoutModel",
          "state": {
            "_model_module": "@jupyter-widgets/base",
            "_model_module_version": "1.2.0",
            "_model_name": "LayoutModel",
            "_view_count": null,
            "_view_module": "@jupyter-widgets/base",
            "_view_module_version": "1.2.0",
            "_view_name": "LayoutView",
            "align_content": null,
            "align_items": null,
            "align_self": null,
            "border": null,
            "bottom": null,
            "display": null,
            "flex": null,
            "flex_flow": null,
            "grid_area": null,
            "grid_auto_columns": null,
            "grid_auto_flow": null,
            "grid_auto_rows": null,
            "grid_column": null,
            "grid_gap": null,
            "grid_row": null,
            "grid_template_areas": null,
            "grid_template_columns": null,
            "grid_template_rows": null,
            "height": null,
            "justify_content": null,
            "justify_items": null,
            "left": null,
            "margin": null,
            "max_height": null,
            "max_width": null,
            "min_height": null,
            "min_width": null,
            "object_fit": null,
            "object_position": null,
            "order": null,
            "overflow": null,
            "overflow_x": null,
            "overflow_y": null,
            "padding": null,
            "right": null,
            "top": null,
            "visibility": null,
            "width": null
          }
        },
        "b3148032f15f41d4b040fc19d9694986": {
          "model_module": "@jupyter-widgets/base",
          "model_module_version": "1.2.0",
          "model_name": "LayoutModel",
          "state": {
            "_model_module": "@jupyter-widgets/base",
            "_model_module_version": "1.2.0",
            "_model_name": "LayoutModel",
            "_view_count": null,
            "_view_module": "@jupyter-widgets/base",
            "_view_module_version": "1.2.0",
            "_view_name": "LayoutView",
            "align_content": null,
            "align_items": null,
            "align_self": null,
            "border": null,
            "bottom": null,
            "display": null,
            "flex": null,
            "flex_flow": null,
            "grid_area": null,
            "grid_auto_columns": null,
            "grid_auto_flow": null,
            "grid_auto_rows": null,
            "grid_column": null,
            "grid_gap": null,
            "grid_row": null,
            "grid_template_areas": null,
            "grid_template_columns": null,
            "grid_template_rows": null,
            "height": null,
            "justify_content": null,
            "justify_items": null,
            "left": null,
            "margin": null,
            "max_height": null,
            "max_width": null,
            "min_height": null,
            "min_width": null,
            "object_fit": null,
            "object_position": null,
            "order": null,
            "overflow": null,
            "overflow_x": null,
            "overflow_y": null,
            "padding": null,
            "right": null,
            "top": null,
            "visibility": null,
            "width": null
          }
        },
        "b475f941badc4d55a19183a05ccedf3a": {
          "model_module": "@jupyter-widgets/controls",
          "model_module_version": "1.5.0",
          "model_name": "HTMLModel",
          "state": {
            "_dom_classes": [],
            "_model_module": "@jupyter-widgets/controls",
            "_model_module_version": "1.5.0",
            "_model_name": "HTMLModel",
            "_view_count": null,
            "_view_module": "@jupyter-widgets/controls",
            "_view_module_version": "1.5.0",
            "_view_name": "HTMLView",
            "description": "",
            "description_tooltip": null,
            "layout": "IPY_MODEL_2a4691463d414cb2842e9258152e7b7f",
            "placeholder": "​",
            "style": "IPY_MODEL_f75669a3b1a64a76a93d7ccccf132995",
            "value": " 1000/1000 [00:35&lt;00:00, 28.99it/s]"
          }
        },
        "b4a7c9f8cd434f1aa95fe541796faac5": {
          "model_module": "@jupyter-widgets/base",
          "model_module_version": "1.2.0",
          "model_name": "LayoutModel",
          "state": {
            "_model_module": "@jupyter-widgets/base",
            "_model_module_version": "1.2.0",
            "_model_name": "LayoutModel",
            "_view_count": null,
            "_view_module": "@jupyter-widgets/base",
            "_view_module_version": "1.2.0",
            "_view_name": "LayoutView",
            "align_content": null,
            "align_items": null,
            "align_self": null,
            "border": null,
            "bottom": null,
            "display": null,
            "flex": null,
            "flex_flow": null,
            "grid_area": null,
            "grid_auto_columns": null,
            "grid_auto_flow": null,
            "grid_auto_rows": null,
            "grid_column": null,
            "grid_gap": null,
            "grid_row": null,
            "grid_template_areas": null,
            "grid_template_columns": null,
            "grid_template_rows": null,
            "height": null,
            "justify_content": null,
            "justify_items": null,
            "left": null,
            "margin": null,
            "max_height": null,
            "max_width": null,
            "min_height": null,
            "min_width": null,
            "object_fit": null,
            "object_position": null,
            "order": null,
            "overflow": null,
            "overflow_x": null,
            "overflow_y": null,
            "padding": null,
            "right": null,
            "top": null,
            "visibility": null,
            "width": null
          }
        },
        "bd8b747050964d23a37a8ffdd2ad83a3": {
          "model_module": "@jupyter-widgets/base",
          "model_module_version": "1.2.0",
          "model_name": "LayoutModel",
          "state": {
            "_model_module": "@jupyter-widgets/base",
            "_model_module_version": "1.2.0",
            "_model_name": "LayoutModel",
            "_view_count": null,
            "_view_module": "@jupyter-widgets/base",
            "_view_module_version": "1.2.0",
            "_view_name": "LayoutView",
            "align_content": null,
            "align_items": null,
            "align_self": null,
            "border": null,
            "bottom": null,
            "display": null,
            "flex": null,
            "flex_flow": null,
            "grid_area": null,
            "grid_auto_columns": null,
            "grid_auto_flow": null,
            "grid_auto_rows": null,
            "grid_column": null,
            "grid_gap": null,
            "grid_row": null,
            "grid_template_areas": null,
            "grid_template_columns": null,
            "grid_template_rows": null,
            "height": null,
            "justify_content": null,
            "justify_items": null,
            "left": null,
            "margin": null,
            "max_height": null,
            "max_width": null,
            "min_height": null,
            "min_width": null,
            "object_fit": null,
            "object_position": null,
            "order": null,
            "overflow": null,
            "overflow_x": null,
            "overflow_y": null,
            "padding": null,
            "right": null,
            "top": null,
            "visibility": null,
            "width": null
          }
        },
        "c184639dc7c64b4f91aafcbd413fbe0d": {
          "model_module": "@jupyter-widgets/controls",
          "model_module_version": "1.5.0",
          "model_name": "HBoxModel",
          "state": {
            "_dom_classes": [],
            "_model_module": "@jupyter-widgets/controls",
            "_model_module_version": "1.5.0",
            "_model_name": "HBoxModel",
            "_view_count": null,
            "_view_module": "@jupyter-widgets/controls",
            "_view_module_version": "1.5.0",
            "_view_name": "HBoxView",
            "box_style": "",
            "children": [
              "IPY_MODEL_f43ef6f6cd3d46ecbc7c332a0ccff6bd",
              "IPY_MODEL_818b58cd097446c5aaf400535783286a",
              "IPY_MODEL_ac6b843a4862422f930bc188a8233890"
            ],
            "layout": "IPY_MODEL_bd8b747050964d23a37a8ffdd2ad83a3"
          }
        },
        "cdeda083db1d4fd5b97805c401fc40d8": {
          "model_module": "@jupyter-widgets/base",
          "model_module_version": "1.2.0",
          "model_name": "LayoutModel",
          "state": {
            "_model_module": "@jupyter-widgets/base",
            "_model_module_version": "1.2.0",
            "_model_name": "LayoutModel",
            "_view_count": null,
            "_view_module": "@jupyter-widgets/base",
            "_view_module_version": "1.2.0",
            "_view_name": "LayoutView",
            "align_content": null,
            "align_items": null,
            "align_self": null,
            "border": null,
            "bottom": null,
            "display": null,
            "flex": null,
            "flex_flow": null,
            "grid_area": null,
            "grid_auto_columns": null,
            "grid_auto_flow": null,
            "grid_auto_rows": null,
            "grid_column": null,
            "grid_gap": null,
            "grid_row": null,
            "grid_template_areas": null,
            "grid_template_columns": null,
            "grid_template_rows": null,
            "height": null,
            "justify_content": null,
            "justify_items": null,
            "left": null,
            "margin": null,
            "max_height": null,
            "max_width": null,
            "min_height": null,
            "min_width": null,
            "object_fit": null,
            "object_position": null,
            "order": null,
            "overflow": null,
            "overflow_x": null,
            "overflow_y": null,
            "padding": null,
            "right": null,
            "top": null,
            "visibility": null,
            "width": null
          }
        },
        "e468d2f92be04172b1a572e19736f24d": {
          "model_module": "@jupyter-widgets/base",
          "model_module_version": "1.2.0",
          "model_name": "LayoutModel",
          "state": {
            "_model_module": "@jupyter-widgets/base",
            "_model_module_version": "1.2.0",
            "_model_name": "LayoutModel",
            "_view_count": null,
            "_view_module": "@jupyter-widgets/base",
            "_view_module_version": "1.2.0",
            "_view_name": "LayoutView",
            "align_content": null,
            "align_items": null,
            "align_self": null,
            "border": null,
            "bottom": null,
            "display": null,
            "flex": null,
            "flex_flow": null,
            "grid_area": null,
            "grid_auto_columns": null,
            "grid_auto_flow": null,
            "grid_auto_rows": null,
            "grid_column": null,
            "grid_gap": null,
            "grid_row": null,
            "grid_template_areas": null,
            "grid_template_columns": null,
            "grid_template_rows": null,
            "height": null,
            "justify_content": null,
            "justify_items": null,
            "left": null,
            "margin": null,
            "max_height": null,
            "max_width": null,
            "min_height": null,
            "min_width": null,
            "object_fit": null,
            "object_position": null,
            "order": null,
            "overflow": null,
            "overflow_x": null,
            "overflow_y": null,
            "padding": null,
            "right": null,
            "top": null,
            "visibility": null,
            "width": null
          }
        },
        "f43ef6f6cd3d46ecbc7c332a0ccff6bd": {
          "model_module": "@jupyter-widgets/controls",
          "model_module_version": "1.5.0",
          "model_name": "HTMLModel",
          "state": {
            "_dom_classes": [],
            "_model_module": "@jupyter-widgets/controls",
            "_model_module_version": "1.5.0",
            "_model_name": "HTMLModel",
            "_view_count": null,
            "_view_module": "@jupyter-widgets/controls",
            "_view_module_version": "1.5.0",
            "_view_name": "HTMLView",
            "description": "",
            "description_tooltip": null,
            "layout": "IPY_MODEL_2294e33102c340b3859c4849efcb11db",
            "placeholder": "​",
            "style": "IPY_MODEL_0b0187b85b1249998c52e1d04ff3771f",
            "value": "100%"
          }
        },
        "f75669a3b1a64a76a93d7ccccf132995": {
          "model_module": "@jupyter-widgets/controls",
          "model_module_version": "1.5.0",
          "model_name": "DescriptionStyleModel",
          "state": {
            "_model_module": "@jupyter-widgets/controls",
            "_model_module_version": "1.5.0",
            "_model_name": "DescriptionStyleModel",
            "_view_count": null,
            "_view_module": "@jupyter-widgets/base",
            "_view_module_version": "1.2.0",
            "_view_name": "StyleView",
            "description_width": ""
          }
        },
        "fdadb15aaad347aea7716f3fb81ff1dc": {
          "model_module": "@jupyter-widgets/controls",
          "model_module_version": "1.5.0",
          "model_name": "HBoxModel",
          "state": {
            "_dom_classes": [],
            "_model_module": "@jupyter-widgets/controls",
            "_model_module_version": "1.5.0",
            "_model_name": "HBoxModel",
            "_view_count": null,
            "_view_module": "@jupyter-widgets/controls",
            "_view_module_version": "1.5.0",
            "_view_name": "HBoxView",
            "box_style": "",
            "children": [
              "IPY_MODEL_48f986eb2b044a2bb0081e13f5f2273b",
              "IPY_MODEL_0257ae90ca204fe8a0b8c0df18ccb068",
              "IPY_MODEL_5679f0c0b19a48238422d2c97a837343"
            ],
            "layout": "IPY_MODEL_4bfa46a501ef4dac8d1b3059ca6567be"
          }
        },
        "ffb23e6bb0cb482aaac096a0cfc26fca": {
          "model_module": "@jupyter-widgets/controls",
          "model_module_version": "1.5.0",
          "model_name": "HTMLModel",
          "state": {
            "_dom_classes": [],
            "_model_module": "@jupyter-widgets/controls",
            "_model_module_version": "1.5.0",
            "_model_name": "HTMLModel",
            "_view_count": null,
            "_view_module": "@jupyter-widgets/controls",
            "_view_module_version": "1.5.0",
            "_view_name": "HTMLView",
            "description": "",
            "description_tooltip": null,
            "layout": "IPY_MODEL_6583a4fbdb8447069455792b12234e1e",
            "placeholder": "​",
            "style": "IPY_MODEL_52470f7a4b0c4ab79a854d9cf1098064",
            "value": "100%"
          }
        }
      }
    }
  },
  "nbformat": 4,
  "nbformat_minor": 0
}
