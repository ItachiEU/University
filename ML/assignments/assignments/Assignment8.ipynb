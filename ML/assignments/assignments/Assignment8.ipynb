{
  "cells": [
    {
      "cell_type": "markdown",
      "id": "0a549418",
      "metadata": {
        "id": "0a549418"
      },
      "source": [
        "<a href=\"https://colab.research.google.com/github/marekpiotradamczyk/ml_uwr_22/blob/main/Assignments/Assignment8.ipynb\" target=\"_parent\"><img src=\"https://colab.research.google.com/assets/colab-badge.svg\" alt=\"Open In Colab\"/></a>"
      ]
    },
    {
      "cell_type": "markdown",
      "id": "b8928b0a",
      "metadata": {
        "id": "b8928b0a"
      },
      "source": [
        "# Lab Assignment 8"
      ]
    },
    {
      "cell_type": "markdown",
      "id": "0fd7d72c",
      "metadata": {
        "id": "0fd7d72c"
      },
      "source": [
        "**Submission deadline:**\n",
        "* **lab session in the week 12-16.12.22**\n",
        "\n",
        "**Points: 2+2+2=6 points**\n"
      ]
    },
    {
      "cell_type": "code",
      "execution_count": 163,
      "id": "f95d810c",
      "metadata": {
        "id": "f95d810c"
      },
      "outputs": [],
      "source": [
        "# Please note that this code needs only to be run in a fresh runtime.\n",
        "# However, it can be rerun afterwards too.\n",
        "!pip install -q gdown httpimport"
      ]
    },
    {
      "cell_type": "code",
      "execution_count": 164,
      "id": "9450f84a",
      "metadata": {
        "id": "9450f84a",
        "outputId": "4f2d8132-c85b-431a-a670-2b4596abeb14"
      },
      "outputs": [],
      "source": [
        "# Standard IPython notebook imports\n",
        "import itertools\n",
        "import io\n",
        "import os\n",
        "\n",
        "import matplotlib.pyplot as plt\n",
        "import numpy as np\n",
        "import pandas as pd\n",
        "import scipy.optimize as sopt\n",
        "import scipy.stats as sstats\n",
        "import seaborn as sns\n",
        "import sklearn.ensemble\n",
        "import sklearn.tree\n",
        "from sklearn import datasets\n",
        "from tqdm.auto import tqdm\n",
        "from matplotlib import animation, pyplot, rc\n",
        "\n",
        "import httpimport\n",
        "\n",
        "# In this way we can import functions straight from github\n",
        "with httpimport.github_repo(\n",
        "    \"janchorowski\", \"nn_assignments\", module=\"common\", branch=\"nn18\"\n",
        "):\n",
        "    from common.gradients import check_gradient\n",
        "    from common.plotting import plot_mat\n",
        "\n",
        "sns.set_style(\"whitegrid\")"
      ]
    },
    {
      "cell_type": "markdown",
      "id": "ea845399",
      "metadata": {
        "id": "ea845399"
      },
      "source": [
        "# More of Gradient Descent"
      ]
    },
    {
      "cell_type": "markdown",
      "id": "84d8d80c",
      "metadata": {
        "id": "84d8d80c"
      },
      "source": [
        "## Linear regression example"
      ]
    },
    {
      "cell_type": "code",
      "execution_count": 165,
      "id": "926e16f7",
      "metadata": {
        "id": "926e16f7"
      },
      "outputs": [],
      "source": [
        "# Repeat notebook initialization and data loading\n",
        "\n",
        "import numpy as np\n",
        "import pandas as pd\n",
        "import sklearn\n",
        "import sklearn.datasets\n",
        "import sklearn.linear_model\n",
        "import sklearn.neighbors\n",
        "import seaborn as sns\n",
        "import matplotlib.pyplot as plt\n",
        "\n",
        "iris = sklearn.datasets.load_iris()\n",
        "iris_df = pd.DataFrame(iris.data, columns=iris.feature_names)\n",
        "iris_df['target'] = pd.Categorical(iris.target_names[iris.target])"
      ]
    },
    {
      "cell_type": "code",
      "execution_count": 166,
      "id": "bd8ba15f",
      "metadata": {
        "id": "bd8ba15f",
        "outputId": "5fe0832b-bf42-4818-d554-44e6c056a5fa"
      },
      "outputs": [
        {
          "data": {
            "image/png": "[encoded data removed]",
            "text/plain": [
              "<Figure size 576x576 with 1 Axes>"
            ]
          },
          "metadata": {},
          "output_type": "display_data"
        }
      ],
      "source": [
        "reg_feature='petal width (cm)'\n",
        "reg_target='petal length (cm)'\n",
        "\n",
        "# plot the length-widt relation\n",
        "sns.scatterplot(x=reg_feature, y=reg_target, data=iris_df)\n",
        "sns.set(rc={'figure.figsize':(8,8)})"
      ]
    },
    {
      "cell_type": "code",
      "execution_count": 167,
      "id": "605346d4",
      "metadata": {
        "id": "605346d4"
      },
      "outputs": [],
      "source": [
        "X = iris_df[[reg_feature]]\n",
        "y = np.asarray(iris_df[reg_target]).reshape(-1,1)"
      ]
    },
    {
      "cell_type": "code",
      "execution_count": 168,
      "id": "a6ad4991",
      "metadata": {
        "id": "a6ad4991"
      },
      "outputs": [],
      "source": [
        "\n",
        "class LinearRegression:\n",
        "        \n",
        "    def __init__(self):\n",
        "        pass\n",
        "    \n",
        "    def add_ones(self, X):\n",
        "        return np.hstack((np.ones((X.shape[0],1)), X))\n",
        "    \n",
        "    def grad(self, Theta, X, y):\n",
        "        n = X.shape[0]\n",
        "        E = X @ Theta - y\n",
        "        return (2./n) * X.T @ E\n",
        "\n",
        "    \n",
        "    def fit(self, X, y):\n",
        "        X = self.add_ones(X)\n",
        "        y = np.asarray(y).reshape(-1,1)\n",
        "        \n",
        "        Theta = np.zeros((X.shape[1], 1)) #sane starting Theta\n",
        "\n",
        "        alpha=1e-2\n",
        "        for _ in range(1000):\n",
        "            grad_Theta = self.grad(Theta,X,y)\n",
        "            Theta = Theta - alpha*grad_Theta\n",
        "            \n",
        "        self.ThetaOpt = Theta\n",
        "    \n",
        "    def predict(self, X):\n",
        "        return self.add_ones(X) @ self.ThetaOpt"
      ]
    },
    {
      "cell_type": "code",
      "execution_count": 169,
      "id": "33039845",
      "metadata": {
        "id": "33039845",
        "outputId": "98f1435e-949c-44a0-8beb-723d9c3e2938"
      },
      "outputs": [
        {
          "name": "stdout",
          "output_type": "stream",
          "text": [
            "[[1.0880229 ]\n",
            " [2.22698227]]\n"
          ]
        }
      ],
      "source": [
        "model = LinearRegression()\n",
        "model.fit(X,y)\n",
        "print(model.ThetaOpt)"
      ]
    },
    {
      "cell_type": "code",
      "execution_count": 170,
      "id": "ea6cd353",
      "metadata": {
        "id": "ea6cd353"
      },
      "outputs": [],
      "source": [
        "y_pred = model.predict(X)"
      ]
    },
    {
      "cell_type": "code",
      "execution_count": 171,
      "id": "06379c41",
      "metadata": {
        "id": "06379c41"
      },
      "outputs": [],
      "source": [
        "def mse(y_true, y_pred):\n",
        "    return ((y_pred - y_true)**2).mean()"
      ]
    },
    {
      "cell_type": "code",
      "execution_count": 172,
      "id": "b014bc4d",
      "metadata": {
        "id": "b014bc4d",
        "outputId": "f0b07e5a-2f1c-4f9a-e9a5-9c63c868bd26"
      },
      "outputs": [
        {
          "data": {
            "text/plain": [
              "0.22563757914960603"
            ]
          },
          "execution_count": 172,
          "metadata": {},
          "output_type": "execute_result"
        }
      ],
      "source": [
        "mse(y, y_pred)"
      ]
    },
    {
      "cell_type": "code",
      "execution_count": 173,
      "id": "c5a546fc",
      "metadata": {
        "id": "c5a546fc"
      },
      "outputs": [],
      "source": [
        "def plot_LR(a,b):\n",
        "    # plot the length-widt relation\n",
        "    sns.scatterplot(x=reg_feature, y=reg_target, data=iris_df)\n",
        "    sns.set(rc={'figure.figsize':(8,8)})\n",
        "\n",
        "    # plot the proposed relationship\n",
        "    length_bounds = np.array(plt.xlim())\n",
        "    width_predictions = a * length_bounds + b\n",
        "\n",
        "    plt.plot(length_bounds, width_predictions, color='r')\n",
        "    _ = plt.text(0.8, 1.2, f\"$y = x \\cdot {float(a):0.2} + {float(b):0.2}$\")"
      ]
    },
    {
      "cell_type": "code",
      "execution_count": 174,
      "id": "0e79d1e1",
      "metadata": {
        "id": "0e79d1e1",
        "outputId": "fe992e8f-a3bf-4558-9fc4-65e4aeeb7cda"
      },
      "outputs": [
        {
          "data": {
            "image/png": "[encoded data removed]",
            "text/plain": [
              "<Figure size 576x576 with 1 Axes>"
            ]
          },
          "metadata": {},
          "output_type": "display_data"
        }
      ],
      "source": [
        "plot_LR(model.ThetaOpt[1], model.ThetaOpt[0])"
      ]
    },
    {
      "cell_type": "markdown",
      "id": "0e4d18eb",
      "metadata": {
        "id": "0e4d18eb"
      },
      "source": [
        "## Stochastic gradient descent"
      ]
    },
    {
      "cell_type": "markdown",
      "id": "3eae019a",
      "metadata": {
        "id": "3eae019a"
      },
      "source": [
        "The cost function for linear regression (assume $X$ is a vector of shape `(n,1)`) is $J_{X,y}(\\Theta) = \\frac{1}{n}\\sum_{i=1}^n \\left( y^{i} - \\Theta_0 - \\Theta_1 \\cdot x^{i}\\right)^2$. The gradient of the linear regression is equal to $\\frac{2}{n} X^T \\cdot (X \\cdot \\Theta - y)$. Let's break it down:\n",
        "\n",
        "$$\n",
        "\\begin{align}\n",
        "\\frac{\\partial J_{X,y}(\\Theta)}{\\partial \\Theta_0} &= - \\sum_{i=1}^n \\frac{2}{n}\\left( y^i - \\Theta_0 - \\Theta_1 \\cdot x^i\\right) \\\\\n",
        "\\frac{\\partial J_{X,y}(\\Theta)}{\\partial \\Theta_1} &= - \\sum_{i=1}^n \\frac{2}{n}\\left( y^i - \\Theta_0 - \\Theta_1 \\cdot x^i\\right) \\cdot x^i\n",
        "\\end{align}\n",
        "$$"
      ]
    },
    {
      "cell_type": "markdown",
      "id": "e93565a7",
      "metadata": {
        "id": "e93565a7"
      },
      "source": [
        "Notice one thing: if we will pick one training sample $x^{\\text{rand}}$ at random and calculate $- 2\\left( y^{\\text{rand}} - \\Theta_0 - \\Theta_1 \\cdot x^{\\text{rand}}\\right) \\cdot x^{\\text{rand}}$, then it's expected value will be equal to \n",
        "$$\n",
        "\\begin{align}\n",
        "\\mathbb{E}\\left[ - 2\\left( y^{\\mbox{rand}} - \\Theta_0 - \\Theta_1 \\cdot x^{\\mbox{rand}}\\right) \\cdot x^{\\mbox{rand}} \\right] = - \\sum_{i=1}^n \\frac{2}{n}\\left( y^i - \\Theta_0 - \\Theta_1 \\cdot x^i\\right) \\cdot x^i.\n",
        "\\end{align}\n",
        "$$\n",
        "\n",
        "Point being that one sample already may give a reasonable estimation of the gradient calculated on the whole set."
      ]
    },
    {
      "cell_type": "markdown",
      "id": "96033803",
      "metadata": {
        "id": "96033803"
      },
      "source": [
        "At the same time $- 2\\left( y^{\\text{rand}} - \\Theta_0 - \\Theta_1 \\cdot x^{\\text{rand}}\\right) \\cdot x^{\\text{rand}}$ just happens to be the gradient over $\\Theta_1$ for the loss function calculated not on the entire $X$ (which is $\\frac{\\partial J_{X,y}(\\Theta)}{\\partial \\Theta_1}$, but on $[x^{\\text{rand}}]$ being $$\\frac{\\partial J_{x^{\\text{rand}},y^{\\text{rand}}}(\\Theta)}{\\partial \\Theta_1}$$."
      ]
    },
    {
      "cell_type": "markdown",
      "id": "e90131dd",
      "metadata": {
        "id": "e90131dd"
      },
      "source": [
        "This is to show that the calculations of the gradient do not have to look at the entire set. Let's look at the linear regression example one more time. **Remark** the below is the extreme case when we calculate the gradient only on one sample. In practice it may be better to calculate the gradient on a small subset of $X$, which will give an even better estimate of the whole-set gradient."
      ]
    },
    {
      "cell_type": "code",
      "execution_count": 175,
      "id": "18ce3225",
      "metadata": {
        "id": "18ce3225"
      },
      "outputs": [],
      "source": [
        "\n",
        "class StochasticGradientDescentLinearRegression:\n",
        "        \n",
        "    def __init__(self):\n",
        "        pass\n",
        "    \n",
        "    def add_ones(self, X):\n",
        "        return np.hstack((np.ones((X.shape[0],1)), X))\n",
        "    \n",
        "    def grad(self, Theta, X, y):\n",
        "        rand = np.random.randint(X.shape[0])\n",
        "        x_rand = X[rand].reshape(1,X.shape[1])\n",
        "        y_rand = y[rand]\n",
        "        \n",
        "        E = x_rand @ Theta - y_rand\n",
        "        return (2.) * x_rand.T @ E\n",
        "    \n",
        "    def fit(self, X, y):\n",
        "        X = self.add_ones(X)\n",
        "        y = np.asarray(y).reshape(-1,1)\n",
        "        \n",
        "        Theta = np.zeros((X.shape[1], 1)) #sane starting Theta\n",
        "\n",
        "        alpha=1e-2\n",
        "        for _ in range(1000):\n",
        "            grad_Theta = self.grad(Theta,X,y)\n",
        "            Theta = Theta - alpha*grad_Theta            \n",
        "            \n",
        "        self.ThetaOpt = Theta\n",
        "    \n",
        "    def predict(self, X):\n",
        "        return self.add_ones(X) @ self.ThetaOpt"
      ]
    },
    {
      "cell_type": "code",
      "execution_count": 176,
      "id": "348794c7",
      "metadata": {
        "id": "348794c7",
        "outputId": "58464967-992a-4c7f-eded-0850712fc007"
      },
      "outputs": [
        {
          "name": "stdout",
          "output_type": "stream",
          "text": [
            "[[1.1189041 ]\n",
            " [2.15768842]]\n"
          ]
        }
      ],
      "source": [
        "model = StochasticGradientDescentLinearRegression()\n",
        "model.fit(X,y)\n",
        "print(model.ThetaOpt)"
      ]
    },
    {
      "cell_type": "code",
      "execution_count": 177,
      "id": "b1e399d4",
      "metadata": {
        "id": "b1e399d4",
        "outputId": "e10c7114-b5e1-43ae-efc0-2d021210795b"
      },
      "outputs": [
        {
          "data": {
            "text/plain": [
              "0.23127706761287992"
            ]
          },
          "execution_count": 177,
          "metadata": {},
          "output_type": "execute_result"
        }
      ],
      "source": [
        "y_pred = model.predict(X)\n",
        "mse(y, y_pred)"
      ]
    },
    {
      "cell_type": "code",
      "execution_count": 178,
      "id": "6d0b58b3",
      "metadata": {
        "id": "6d0b58b3",
        "outputId": "c3bc97b0-f0b6-4509-fd99-8a1200c6c8b2"
      },
      "outputs": [
        {
          "data": {
            "image/png": "[encoded data removed]",
            "text/plain": [
              "<Figure size 576x576 with 1 Axes>"
            ]
          },
          "metadata": {},
          "output_type": "display_data"
        }
      ],
      "source": [
        "plot_LR(model.ThetaOpt[1],model.ThetaOpt[0])"
      ]
    },
    {
      "cell_type": "markdown",
      "id": "3998d5f5",
      "metadata": {
        "id": "3998d5f5"
      },
      "source": [
        "## Using an automated optimizer"
      ]
    },
    {
      "cell_type": "markdown",
      "id": "3cc2668e",
      "metadata": {
        "id": "3cc2668e"
      },
      "source": [
        "Writing by hand the optimization loops of gradient descent can be quite problematic sometimes (and sometimes boring). That's why sometimes we can use an automated optimizer which requires us just to give the methods for calculating the loss and a gradient. Let's have a look:"
      ]
    },
    {
      "cell_type": "code",
      "execution_count": 179,
      "id": "24c71128",
      "metadata": {
        "id": "24c71128"
      },
      "outputs": [],
      "source": [
        "import scipy.optimize as sopt\n",
        "class BFGSLinearRegression:\n",
        "        \n",
        "    def __init__(self):\n",
        "        pass\n",
        "    \n",
        "    def add_ones(self, X):\n",
        "        return np.hstack((np.ones((X.shape[0],1)), X))\n",
        "    \n",
        "    def grad(self, Theta, X, y):\n",
        "        Theta = Theta.reshape(-1,1) #### that's something new, cause bfgs uses different shape\n",
        "\n",
        "        n = X.shape[0]\n",
        "        E = X @ Theta - y\n",
        "        return (2./n) * X.T @ E\n",
        "    \n",
        "    def loss(self, Theta, X, y):\n",
        "        Theta = Theta.reshape(-1,1) #### that's something new, cause bfgs uses different shape\n",
        "        \n",
        "        n = X.shape[0]\n",
        "        E = X @ Theta - y\n",
        "        return (1./n) * E.T @ E\n",
        "        \n",
        "    def mse_loss_grad(self, Theta, X, y):\n",
        "        return self.loss(Theta, X, y), self.grad(Theta, X, y)\n",
        "    \n",
        "    def fit(self, X, y):\n",
        "        X = self.add_ones(X)\n",
        "        y = np.asarray(y).reshape(-1,1)\n",
        "        \n",
        "        Theta0 = np.zeros((X.shape[1], 1)) \n",
        "\n",
        "        self.ThetaOpt = sopt.fmin_l_bfgs_b( ### and that's something new\n",
        "            lambda Theta: self.mse_loss_grad(Theta, X, y), np.array(Theta0))[0]\n",
        "    \n",
        "    def predict(self, X):\n",
        "        return self.add_ones(X) @ self.ThetaOpt"
      ]
    },
    {
      "cell_type": "code",
      "execution_count": 180,
      "id": "ae5a1b61",
      "metadata": {
        "id": "ae5a1b61",
        "outputId": "ea5307b9-9d20-423c-d538-8ebe7c119c5d"
      },
      "outputs": [
        {
          "name": "stdout",
          "output_type": "stream",
          "text": [
            "[1.0835583  2.22994077]\n"
          ]
        }
      ],
      "source": [
        "\n",
        "model = BFGSLinearRegression()\n",
        "model.fit(X,y)\n",
        "print(model.ThetaOpt)"
      ]
    },
    {
      "cell_type": "code",
      "execution_count": 181,
      "id": "75dba7c0",
      "metadata": {
        "id": "75dba7c0",
        "outputId": "1de2c1ea-834c-4581-ee31-1d9185245ef9"
      },
      "outputs": [
        {
          "data": {
            "image/png": "[encoded data removed]",
            "text/plain": [
              "<Figure size 576x576 with 1 Axes>"
            ]
          },
          "metadata": {},
          "output_type": "display_data"
        }
      ],
      "source": [
        "plot_LR(model.ThetaOpt[1],model.ThetaOpt[0])"
      ]
    },
    {
      "cell_type": "markdown",
      "id": "f2386dcc",
      "metadata": {
        "id": "f2386dcc"
      },
      "source": [
        "## Automatic gradient"
      ]
    },
    {
      "cell_type": "markdown",
      "id": "0bb15ae7",
      "metadata": {
        "id": "0bb15ae7"
      },
      "source": [
        "Writing your own gradient optimization is already quite problematic. Writing your own gradient calculations is even more problematic once your models are even slightly more complicated than linear or logistic regression. That's why it's incredibly convenient to use automatic differentiation. PyTorch, Keras and Tensorflow are the most popular tools for this (although they offer way more than what we are about to see).\n",
        "When writing simple things like we do, PyTorch is the simplest. So let's check it out."
      ]
    },
    {
      "cell_type": "code",
      "execution_count": 182,
      "id": "f9e7963c",
      "metadata": {
        "id": "f9e7963c",
        "outputId": "bbb70e9f-e887-4eb5-813b-d2ecf071302c"
      },
      "outputs": [
        {
          "name": "stdout",
          "output_type": "stream",
          "text": [
            "Requirement already satisfied: torch in /home/itachi/.local/lib/python3.8/site-packages (1.13.0)\n",
            "Requirement already satisfied: nvidia-cuda-runtime-cu11==11.7.99 in /home/itachi/.local/lib/python3.8/site-packages (from torch) (11.7.99)\n",
            "Requirement already satisfied: nvidia-cudnn-cu11==8.5.0.96 in /home/itachi/.local/lib/python3.8/site-packages (from torch) (8.5.0.96)\n",
            "Requirement already satisfied: nvidia-cuda-nvrtc-cu11==11.7.99 in /home/itachi/.local/lib/python3.8/site-packages (from torch) (11.7.99)\n",
            "Requirement already satisfied: typing-extensions in /home/itachi/.local/lib/python3.8/site-packages (from torch) (4.4.0)\n",
            "Requirement already satisfied: nvidia-cublas-cu11==11.10.3.66 in /home/itachi/.local/lib/python3.8/site-packages (from torch) (11.10.3.66)\n",
            "Requirement already satisfied: setuptools in /usr/lib/python3/dist-packages (from nvidia-cuda-runtime-cu11==11.7.99->torch) (45.2.0)\n",
            "Requirement already satisfied: wheel in /usr/lib/python3/dist-packages (from nvidia-cuda-runtime-cu11==11.7.99->torch) (0.34.2)\n"
          ]
        }
      ],
      "source": [
        "!pip install torch"
      ]
    },
    {
      "cell_type": "code",
      "execution_count": 183,
      "id": "1c30d1fc",
      "metadata": {
        "id": "1c30d1fc"
      },
      "outputs": [],
      "source": [
        "import torch \n",
        "\n",
        "X_tensor = torch.tensor(np.asarray(X))\n",
        "y_tensor = torch.tensor(y)"
      ]
    },
    {
      "cell_type": "code",
      "execution_count": 184,
      "id": "93c9ed42",
      "metadata": {
        "id": "93c9ed42",
        "outputId": "9397cbd6-fb8b-42c7-827c-9b15809fa12b"
      },
      "outputs": [
        {
          "data": {
            "text/plain": [
              "tensor([[0.2000],\n",
              "        [0.2000],\n",
              "        [0.2000],\n",
              "        [0.2000],\n",
              "        [0.2000],\n",
              "        [0.4000],\n",
              "        [0.3000],\n",
              "        [0.2000],\n",
              "        [0.2000],\n",
              "        [0.1000],\n",
              "        [0.2000],\n",
              "        [0.2000],\n",
              "        [0.1000],\n",
              "        [0.1000],\n",
              "        [0.2000],\n",
              "        [0.4000],\n",
              "        [0.4000],\n",
              "        [0.3000],\n",
              "        [0.3000],\n",
              "        [0.3000],\n",
              "        [0.2000],\n",
              "        [0.4000],\n",
              "        [0.2000],\n",
              "        [0.5000],\n",
              "        [0.2000],\n",
              "        [0.2000],\n",
              "        [0.4000],\n",
              "        [0.2000],\n",
              "        [0.2000],\n",
              "        [0.2000],\n",
              "        [0.2000],\n",
              "        [0.4000],\n",
              "        [0.1000],\n",
              "        [0.2000],\n",
              "        [0.2000],\n",
              "        [0.2000],\n",
              "        [0.2000],\n",
              "        [0.1000],\n",
              "        [0.2000],\n",
              "        [0.2000],\n",
              "        [0.3000],\n",
              "        [0.3000],\n",
              "        [0.2000],\n",
              "        [0.6000],\n",
              "        [0.4000],\n",
              "        [0.3000],\n",
              "        [0.2000],\n",
              "        [0.2000],\n",
              "        [0.2000],\n",
              "        [0.2000],\n",
              "        [1.4000],\n",
              "        [1.5000],\n",
              "        [1.5000],\n",
              "        [1.3000],\n",
              "        [1.5000],\n",
              "        [1.3000],\n",
              "        [1.6000],\n",
              "        [1.0000],\n",
              "        [1.3000],\n",
              "        [1.4000],\n",
              "        [1.0000],\n",
              "        [1.5000],\n",
              "        [1.0000],\n",
              "        [1.4000],\n",
              "        [1.3000],\n",
              "        [1.4000],\n",
              "        [1.5000],\n",
              "        [1.0000],\n",
              "        [1.5000],\n",
              "        [1.1000],\n",
              "        [1.8000],\n",
              "        [1.3000],\n",
              "        [1.5000],\n",
              "        [1.2000],\n",
              "        [1.3000],\n",
              "        [1.4000],\n",
              "        [1.4000],\n",
              "        [1.7000],\n",
              "        [1.5000],\n",
              "        [1.0000],\n",
              "        [1.1000],\n",
              "        [1.0000],\n",
              "        [1.2000],\n",
              "        [1.6000],\n",
              "        [1.5000],\n",
              "        [1.6000],\n",
              "        [1.5000],\n",
              "        [1.3000],\n",
              "        [1.3000],\n",
              "        [1.3000],\n",
              "        [1.2000],\n",
              "        [1.4000],\n",
              "        [1.2000],\n",
              "        [1.0000],\n",
              "        [1.3000],\n",
              "        [1.2000],\n",
              "        [1.3000],\n",
              "        [1.3000],\n",
              "        [1.1000],\n",
              "        [1.3000],\n",
              "        [2.5000],\n",
              "        [1.9000],\n",
              "        [2.1000],\n",
              "        [1.8000],\n",
              "        [2.2000],\n",
              "        [2.1000],\n",
              "        [1.7000],\n",
              "        [1.8000],\n",
              "        [1.8000],\n",
              "        [2.5000],\n",
              "        [2.0000],\n",
              "        [1.9000],\n",
              "        [2.1000],\n",
              "        [2.0000],\n",
              "        [2.4000],\n",
              "        [2.3000],\n",
              "        [1.8000],\n",
              "        [2.2000],\n",
              "        [2.3000],\n",
              "        [1.5000],\n",
              "        [2.3000],\n",
              "        [2.0000],\n",
              "        [2.0000],\n",
              "        [1.8000],\n",
              "        [2.1000],\n",
              "        [1.8000],\n",
              "        [1.8000],\n",
              "        [1.8000],\n",
              "        [2.1000],\n",
              "        [1.6000],\n",
              "        [1.9000],\n",
              "        [2.0000],\n",
              "        [2.2000],\n",
              "        [1.5000],\n",
              "        [1.4000],\n",
              "        [2.3000],\n",
              "        [2.4000],\n",
              "        [1.8000],\n",
              "        [1.8000],\n",
              "        [2.1000],\n",
              "        [2.4000],\n",
              "        [2.3000],\n",
              "        [1.9000],\n",
              "        [2.3000],\n",
              "        [2.5000],\n",
              "        [2.3000],\n",
              "        [1.9000],\n",
              "        [2.0000],\n",
              "        [2.3000],\n",
              "        [1.8000]], dtype=torch.float64)"
            ]
          },
          "execution_count": 184,
          "metadata": {},
          "output_type": "execute_result"
        }
      ],
      "source": [
        "X_tensor"
      ]
    },
    {
      "cell_type": "code",
      "execution_count": 185,
      "id": "fb26a121",
      "metadata": {
        "id": "fb26a121",
        "outputId": "88f22ed8-aad8-4da3-ba14-87a2f0b81375"
      },
      "outputs": [
        {
          "data": {
            "text/plain": [
              "tensor([[1.4000],\n",
              "        [1.4000],\n",
              "        [1.3000],\n",
              "        [1.5000],\n",
              "        [1.4000],\n",
              "        [1.7000],\n",
              "        [1.4000],\n",
              "        [1.5000],\n",
              "        [1.4000],\n",
              "        [1.5000],\n",
              "        [1.5000],\n",
              "        [1.6000],\n",
              "        [1.4000],\n",
              "        [1.1000],\n",
              "        [1.2000],\n",
              "        [1.5000],\n",
              "        [1.3000],\n",
              "        [1.4000],\n",
              "        [1.7000],\n",
              "        [1.5000],\n",
              "        [1.7000],\n",
              "        [1.5000],\n",
              "        [1.0000],\n",
              "        [1.7000],\n",
              "        [1.9000],\n",
              "        [1.6000],\n",
              "        [1.6000],\n",
              "        [1.5000],\n",
              "        [1.4000],\n",
              "        [1.6000],\n",
              "        [1.6000],\n",
              "        [1.5000],\n",
              "        [1.5000],\n",
              "        [1.4000],\n",
              "        [1.5000],\n",
              "        [1.2000],\n",
              "        [1.3000],\n",
              "        [1.4000],\n",
              "        [1.3000],\n",
              "        [1.5000],\n",
              "        [1.3000],\n",
              "        [1.3000],\n",
              "        [1.3000],\n",
              "        [1.6000],\n",
              "        [1.9000],\n",
              "        [1.4000],\n",
              "        [1.6000],\n",
              "        [1.4000],\n",
              "        [1.5000],\n",
              "        [1.4000],\n",
              "        [4.7000],\n",
              "        [4.5000],\n",
              "        [4.9000],\n",
              "        [4.0000],\n",
              "        [4.6000],\n",
              "        [4.5000],\n",
              "        [4.7000],\n",
              "        [3.3000],\n",
              "        [4.6000],\n",
              "        [3.9000],\n",
              "        [3.5000],\n",
              "        [4.2000],\n",
              "        [4.0000],\n",
              "        [4.7000],\n",
              "        [3.6000],\n",
              "        [4.4000],\n",
              "        [4.5000],\n",
              "        [4.1000],\n",
              "        [4.5000],\n",
              "        [3.9000],\n",
              "        [4.8000],\n",
              "        [4.0000],\n",
              "        [4.9000],\n",
              "        [4.7000],\n",
              "        [4.3000],\n",
              "        [4.4000],\n",
              "        [4.8000],\n",
              "        [5.0000],\n",
              "        [4.5000],\n",
              "        [3.5000],\n",
              "        [3.8000],\n",
              "        [3.7000],\n",
              "        [3.9000],\n",
              "        [5.1000],\n",
              "        [4.5000],\n",
              "        [4.5000],\n",
              "        [4.7000],\n",
              "        [4.4000],\n",
              "        [4.1000],\n",
              "        [4.0000],\n",
              "        [4.4000],\n",
              "        [4.6000],\n",
              "        [4.0000],\n",
              "        [3.3000],\n",
              "        [4.2000],\n",
              "        [4.2000],\n",
              "        [4.2000],\n",
              "        [4.3000],\n",
              "        [3.0000],\n",
              "        [4.1000],\n",
              "        [6.0000],\n",
              "        [5.1000],\n",
              "        [5.9000],\n",
              "        [5.6000],\n",
              "        [5.8000],\n",
              "        [6.6000],\n",
              "        [4.5000],\n",
              "        [6.3000],\n",
              "        [5.8000],\n",
              "        [6.1000],\n",
              "        [5.1000],\n",
              "        [5.3000],\n",
              "        [5.5000],\n",
              "        [5.0000],\n",
              "        [5.1000],\n",
              "        [5.3000],\n",
              "        [5.5000],\n",
              "        [6.7000],\n",
              "        [6.9000],\n",
              "        [5.0000],\n",
              "        [5.7000],\n",
              "        [4.9000],\n",
              "        [6.7000],\n",
              "        [4.9000],\n",
              "        [5.7000],\n",
              "        [6.0000],\n",
              "        [4.8000],\n",
              "        [4.9000],\n",
              "        [5.6000],\n",
              "        [5.8000],\n",
              "        [6.1000],\n",
              "        [6.4000],\n",
              "        [5.6000],\n",
              "        [5.1000],\n",
              "        [5.6000],\n",
              "        [6.1000],\n",
              "        [5.6000],\n",
              "        [5.5000],\n",
              "        [4.8000],\n",
              "        [5.4000],\n",
              "        [5.6000],\n",
              "        [5.1000],\n",
              "        [5.1000],\n",
              "        [5.9000],\n",
              "        [5.7000],\n",
              "        [5.2000],\n",
              "        [5.0000],\n",
              "        [5.2000],\n",
              "        [5.4000],\n",
              "        [5.1000]], dtype=torch.float64)"
            ]
          },
          "execution_count": 185,
          "metadata": {},
          "output_type": "execute_result"
        }
      ],
      "source": [
        "y_tensor"
      ]
    },
    {
      "cell_type": "code",
      "execution_count": 186,
      "id": "72a423a9",
      "metadata": {
        "id": "72a423a9",
        "outputId": "129dfa6d-d2c0-48b7-e41d-717a6465c7c8",
        "scrolled": true
      },
      "outputs": [
        {
          "data": {
            "text/plain": [
              "(torch.Size([150, 1]), torch.Size([150, 1]))"
            ]
          },
          "execution_count": 186,
          "metadata": {},
          "output_type": "execute_result"
        }
      ],
      "source": [
        "X_tensor.shape, y_tensor.shape"
      ]
    },
    {
      "cell_type": "markdown",
      "id": "037b66e4",
      "metadata": {
        "id": "037b66e4"
      },
      "source": [
        "For extreme simplicity, we don't use the $\\Theta$ variable here for the $[1^n,X]$ set, but explicitely we use $a,b$ to model the linear relation $y\\sim a\\cdot X + b$."
      ]
    },
    {
      "cell_type": "code",
      "execution_count": 187,
      "id": "a007b0ea",
      "metadata": {
        "id": "a007b0ea",
        "outputId": "5fa1cdff-6186-4b1b-a5c0-d5f43e1b51dd"
      },
      "outputs": [
        {
          "name": "stdout",
          "output_type": "stream",
          "text": [
            "tensor([-0.1314], requires_grad=True)\n",
            "tensor([0.7436], requires_grad=True)\n"
          ]
        }
      ],
      "source": [
        "a = torch.randn(1, requires_grad=True)\n",
        "b = torch.randn(1, requires_grad=True)\n",
        "print(a)\n",
        "print(b)"
      ]
    },
    {
      "cell_type": "markdown",
      "id": "74717c5c",
      "metadata": {
        "id": "74717c5c"
      },
      "source": [
        "The following cell calculates the gradient of Mean Square Error loss in a given point $(a,b)$:"
      ]
    },
    {
      "cell_type": "code",
      "execution_count": 188,
      "id": "2264d07d",
      "metadata": {
        "id": "2264d07d",
        "outputId": "ac90c1fc-1d2e-4f88-ca38-37d7fb358bfd"
      },
      "outputs": [
        {
          "name": "stdout",
          "output_type": "stream",
          "text": [
            "tensor([-10.3340]) tensor([-6.3439])\n"
          ]
        }
      ],
      "source": [
        "loss = (( X_tensor * a + b - y_tensor)**2).mean() #calculate the loss\n",
        "loss.backward() #calculate the gradient of all variables that require_grad\n",
        "with torch.no_grad(): #freeze the computational graph of derivatives\n",
        "    print(a.grad, b.grad) #print out the gradient"
      ]
    },
    {
      "cell_type": "markdown",
      "id": "df4d2c94",
      "metadata": {
        "id": "df4d2c94"
      },
      "source": [
        "And that's it. Now we just have to do it in a loop to do the gradient descent."
      ]
    },
    {
      "cell_type": "code",
      "execution_count": 189,
      "id": "0b0a0646",
      "metadata": {
        "id": "0b0a0646"
      },
      "outputs": [],
      "source": [
        "#usually this function is called `forward` in pytorch context although in ours it was always called `predict`\n",
        "def model(X): \n",
        "    return X * a + b"
      ]
    },
    {
      "cell_type": "code",
      "execution_count": 190,
      "id": "39bb7bba",
      "metadata": {
        "id": "39bb7bba"
      },
      "outputs": [],
      "source": [
        "def mse( y_pred, y_true):\n",
        "    return torch.mean( (y_pred - y_true)**2)\n",
        "\n",
        "loss_func = mse"
      ]
    },
    {
      "cell_type": "code",
      "execution_count": 191,
      "id": "3c199256",
      "metadata": {
        "id": "3c199256"
      },
      "outputs": [],
      "source": [
        "alpha = 0.05\n",
        "\n",
        "for i in range(1000):\n",
        "    loss = loss_func(model(X_tensor), y_tensor) # calculate the loss in a given Theta\n",
        "    loss.backward() #calculate the gradients in a given Theta\n",
        "\n",
        "    with torch.no_grad(): #turn off gradient calculations to update the gradients\n",
        "        a -= a.grad * alpha #do the update of gradient descent\n",
        "        b -= b.grad * alpha\n",
        "        a.grad.zero_() #zero out the gradients once used\n",
        "        b.grad.zero_()\n"
      ]
    },
    {
      "cell_type": "code",
      "execution_count": 192,
      "id": "6e27ccfc",
      "metadata": {
        "id": "6e27ccfc"
      },
      "outputs": [],
      "source": [
        "Theta = np.asarray( [b.detach().numpy(), a.detach().numpy()]) \n",
        "#a and b are still active variables in the computational graph of derivatives\n",
        "#that's why we need to .detach() before accesing their values"
      ]
    },
    {
      "cell_type": "code",
      "execution_count": 193,
      "id": "ca961008",
      "metadata": {
        "id": "ca961008",
        "outputId": "36930907-2941-4177-f1bb-e30f8feeb1f0"
      },
      "outputs": [
        {
          "data": {
            "image/png": "[encoded data removed]",
            "text/plain": [
              "<Figure size 576x576 with 1 Axes>"
            ]
          },
          "metadata": {},
          "output_type": "display_data"
        }
      ],
      "source": [
        "plot_LR(Theta[1], Theta[0])"
      ]
    },
    {
      "cell_type": "markdown",
      "id": "bbee01ae",
      "metadata": {
        "id": "bbee01ae"
      },
      "source": [
        "# MNIST"
      ]
    },
    {
      "cell_type": "markdown",
      "id": "a844d300",
      "metadata": {
        "id": "a844d300"
      },
      "source": [
        "Remember to use `SoftMax` in all of the below exercises."
      ]
    },
    {
      "cell_type": "markdown",
      "id": "48bf9dab",
      "metadata": {
        "id": "48bf9dab"
      },
      "source": [
        "## Problem 1 [2p]"
      ]
    },
    {
      "cell_type": "markdown",
      "id": "49d286cf",
      "metadata": {
        "id": "49d286cf"
      },
      "source": [
        "Implement the stochastic gradient descent for MNIST as in `StochasticGradientDescentLinearRegression`. **Remark** it may be better for training to sample not one $x^{\\mbox{rand}}$ but a small subset of the $X$ data to get better estimations of the gradient."
      ]
    },
    {
      "cell_type": "code",
      "execution_count": 254,
      "id": "4a33566c",
      "metadata": {},
      "outputs": [],
      "source": [
        "import tensorflow as tf\n",
        "\n",
        "(X_train, y_train), (X_test, y_test) = tf.keras.datasets.mnist.load_data()\n",
        "\n",
        "X_train = X_train.reshape(-1, 28*28) / 255.0\n",
        "X_test = X_test.reshape(-1, 28*28) / 255.0\n",
        "\n",
        "y_train = tf.keras.utils.to_categorical(y_train)\n",
        "y_test = tf.keras.utils.to_categorical(y_test)\n",
        "\n",
        "X_train, X_val = X_train[:50000], X_train[50000:]\n",
        "y_train, y_val = y_train[:50000], y_train[50000:]\n"
      ]
    },
    {
      "cell_type": "code",
      "execution_count": 255,
      "id": "879610d3",
      "metadata": {},
      "outputs": [],
      "source": [
        "class StochasticGradientDescentMNIST:\n",
        "    def __init__(self):\n",
        "        pass\n",
        "\n",
        "    def add_ones(self, X):\n",
        "        return np.hstack((np.ones((X.shape[0], 1)), X))\n",
        "\n",
        "    def softmax(self, x):\n",
        "        exps = np.exp(x - np.max(x))\n",
        "        return exps / np.sum(exps)\n",
        "\n",
        "    def grad(self, Theta, X, y):\n",
        "        subset_size = min(X.shape[0], 100) \n",
        "        indices = np.random.choice(X.shape[0], subset_size, replace=False)\n",
        "        X_subset = X[indices]\n",
        "        y_subset = y[indices]\n",
        "\n",
        "        y_pred = self.softmax(X_subset @ Theta)\n",
        "        return X_subset.T @ (y_pred - y_subset)\n",
        "\n",
        "    def fit(self, X, y):\n",
        "        X = self.add_ones(X)\n",
        "        y = np.asarray(y).reshape(-1, 10)\n",
        "\n",
        "        Theta = np.zeros((X.shape[1], y.shape[1]))\n",
        "\n",
        "        alpha = 1e-3\n",
        "        for _ in range(300):\n",
        "            grad_Theta = self.grad(Theta, X, y)\n",
        "            Theta = Theta - np.array(alpha)*grad_Theta\n",
        "\n",
        "        self.ThetaOpt = Theta\n",
        "\n",
        "    def predict(self, X):\n",
        "        X = self.add_ones(X)\n",
        "        y_pred = self.softmax(X @ self.ThetaOpt)\n",
        "        return np.argmax(y_pred, axis=1)\n"
      ]
    },
    {
      "cell_type": "code",
      "execution_count": 256,
      "id": "1a5c0fd9",
      "metadata": {},
      "outputs": [
        {
          "name": "stdout",
          "output_type": "stream",
          "text": [
            "Validation accuracy: 0.7309\n"
          ]
        }
      ],
      "source": [
        "\n",
        "model = StochasticGradientDescentMNIST()\n",
        "\n",
        "model.fit(X_train, y_train)\n",
        "\n",
        "y_pred = model.predict(X_val)\n",
        "accuracy = np.mean(y_pred == np.argmax(y_val, axis=1))\n",
        "print(\"Validation accuracy:\", accuracy)\n"
      ]
    },
    {
      "cell_type": "markdown",
      "id": "1fe470a2",
      "metadata": {
        "id": "1fe470a2"
      },
      "source": [
        "## Problem 2 [2p]"
      ]
    },
    {
      "cell_type": "markdown",
      "id": "c25317de",
      "metadata": {
        "id": "c25317de"
      },
      "source": [
        "Implement the stochastic gradient descent for MNIST as in `BFGSLinearRegression`. Also here calculate the gradient using a subset of the data, and not the whole $X$. Answer the question of how small the size of the subset can roughly be in order to give convergence of the training. Don't give incredibly precise answer, just an order of magnitude is enough: is it 10, 50, 100, 500, 1000?"
      ]
    },
    {
      "cell_type": "code",
      "execution_count": 257,
      "id": "ac2e92de",
      "metadata": {},
      "outputs": [],
      "source": [
        "import scipy.optimize as sopt\n",
        "\n",
        "class BFGSStochasticGradientDescentMNIST:\n",
        "    def __init__(self):\n",
        "        pass\n",
        "\n",
        "    def add_ones(self, X):\n",
        "        return np.hstack((np.ones((X.shape[0], 1)), X))\n",
        "\n",
        "    def softmax(self, x):\n",
        "        x = x - np.max(x, axis=1, keepdims=True)\n",
        "        exp_x = np.exp(x)\n",
        "        return exp_x / np.sum(exp_x, axis=1, keepdims=True)\n",
        "\n",
        "    def cross_entropy_loss(self, y_pred, y_true):\n",
        "        return -np.sum(y_true * np.log(y_pred))\n",
        "\n",
        "    def grad(self, Theta, X, y):\n",
        "        Theta = Theta.reshape(-1, y.shape[1])\n",
        "\n",
        "        subset_size = min(X.shape[0], 100)\n",
        "        indices = np.random.choice(X.shape[0], subset_size, replace=False)\n",
        "        X_subset = X[indices]\n",
        "        y_subset = y[indices]\n",
        "\n",
        "        y_pred = self.softmax(X_subset @ Theta)\n",
        "        grad = (X_subset.T @ (y_pred - y_subset)) / subset_size\n",
        "\n",
        "        return grad.flatten()\n",
        "\n",
        "    def loss(self, Theta, X, y):\n",
        "        Theta = Theta.reshape(-1, y.shape[1])\n",
        "\n",
        "        subset_size = min(X.shape[0], 200) \n",
        "        indices = np.random.choice(X.shape[0], subset_size, replace=False)\n",
        "        X_subset = X[indices]\n",
        "        y_subset = y[indices]\n",
        "\n",
        "        y_pred = self.softmax(X_subset @ Theta)\n",
        "        loss = self.cross_entropy_loss(y_pred, y_subset) / subset_size\n",
        "\n",
        "        return loss\n",
        "\n",
        "    def cross_entropy_loss_grad(self, Theta, X, y):\n",
        "        return self.loss(Theta, X, y), self.grad(Theta, X, y)\n",
        "    \n",
        "    def fit(self, X, y):\n",
        "        X = self.add_ones(X)\n",
        "        y = np.asarray(y).reshape(-1, 10)\n",
        "        Theta0 = np.zeros((X.shape[1], y.shape[1]))\n",
        "\n",
        "        self.ThetaOpt = sopt.fmin_l_bfgs_b(\n",
        "            lambda Theta: self.cross_entropy_loss_grad(Theta, X, y), Theta0)[0]\n",
        "    \n",
        "    def predict(self, X):\n",
        "        X = self.add_ones(X)\n",
        "        \n",
        "        y_pred = self.softmax(X @ self.ThetaOpt.reshape(-1, 10))\n",
        "        return np.argmax(y_pred, axis=1)\n"
      ]
    },
    {
      "cell_type": "code",
      "execution_count": 258,
      "id": "1f6c0eb2",
      "metadata": {},
      "outputs": [
        {
          "name": "stdout",
          "output_type": "stream",
          "text": [
            "Validation accuracy: 0.8154\n"
          ]
        }
      ],
      "source": [
        "model = BFGSStochasticGradientDescentMNIST()\n",
        "\n",
        "model.fit(X_train, y_train)\n",
        "\n",
        "y_pred = model.predict(X_val)\n",
        "accuracy = np.mean(y_pred == np.argmax(y_val, axis=1))\n",
        "print(\"Validation accuracy:\", accuracy)\n"
      ]
    },
    {
      "attachments": {},
      "cell_type": "markdown",
      "id": "d277b234",
      "metadata": {},
      "source": [
        "Best accuracy achieved for sample size ~200"
      ]
    },
    {
      "cell_type": "markdown",
      "id": "eb41418f",
      "metadata": {
        "id": "eb41418f"
      },
      "source": [
        "## Problem 3 [2p]"
      ]
    },
    {
      "cell_type": "markdown",
      "id": "643cbb68",
      "metadata": {
        "id": "643cbb68"
      },
      "source": [
        "Implement the stochastic gradient descent for MNIST using PyTorch."
      ]
    },
    {
      "cell_type": "code",
      "execution_count": 259,
      "id": "da7dc83d",
      "metadata": {},
      "outputs": [],
      "source": [
        "import torch\n",
        "\n",
        "\n",
        "class StochasticGradientDescentMNISTTorch:\n",
        "    def __init__(self, input_size, output_size, learning_rate=1e-3):\n",
        "        self.input_size = input_size\n",
        "        self.output_size = output_size\n",
        "        self.learning_rate = learning_rate\n",
        "\n",
        "        self.Theta = torch.zeros(output_size, input_size+1, requires_grad=True)\n",
        "\n",
        "    def loss(self, y_pred, y):\n",
        "        return torch.nn.functional.cross_entropy(y_pred, y)\n",
        "\n",
        "    def grad(self, X, y):\n",
        "\n",
        "        X = torch.cat((torch.ones(X.shape[0], 1), X), dim=1)\n",
        "        y_pred = self.Theta @ X.t()\n",
        "        loss = self.loss(y_pred.t(), y)\n",
        "        loss.backward()\n",
        "\n",
        "        with torch.no_grad():\n",
        "            self.Theta -= self.learning_rate * self.Theta.grad\n",
        "\n",
        "        self.Theta.grad.zero_()\n",
        "\n",
        "        return loss\n",
        "\n",
        "    def fit(self, X, y, num_iterations=10000):\n",
        "        for i in range(num_iterations):\n",
        "            # choose a random subset of the data\n",
        "            subset_size = min(X.shape[0], 200) \n",
        "            indices = torch.randperm(X.shape[0])[:subset_size]\n",
        "            X_subset = X[indices]\n",
        "            y_subset = y[indices]\n",
        "\n",
        "            loss = self.grad(X_subset, y_subset)\n",
        "\n",
        "    def predict(self, X):\n",
        "        X = torch.cat((torch.ones(X.shape[0], 1), X), dim=1)\n",
        "        y_pred = self.Theta @ X.t()\n",
        "        return y_pred.t().argmax(dim=1)\n"
      ]
    },
    {
      "cell_type": "code",
      "execution_count": 260,
      "id": "97adc450",
      "metadata": {},
      "outputs": [],
      "source": [
        "X_train = torch.tensor(X_train, dtype=torch.float)\n",
        "y_train = torch.tensor(y_train, dtype=torch.float)\n",
        "X_val = torch.tensor(X_val, dtype=torch.float)\n",
        "y_val = torch.tensor(y_val, dtype=torch.float)\n",
        "X_test = torch.tensor(X_test, dtype=torch.float)\n",
        "y_test = torch.tensor(y_test, dtype=torch.float)\n"
      ]
    },
    {
      "cell_type": "code",
      "execution_count": 261,
      "id": "ee0dcb06",
      "metadata": {},
      "outputs": [
        {
          "name": "stdout",
          "output_type": "stream",
          "text": [
            "Test accuracy: 0.8709\n"
          ]
        }
      ],
      "source": [
        "model = StochasticGradientDescentMNISTTorch(input_size=28*28, output_size=10, learning_rate=1e-3)\n",
        "\n",
        "# Train the model\n",
        "model.fit(X_train, y_train)\n",
        "# Evaluate the model on the validation data\n",
        "y_pred = model.predict(X_test)\n",
        "accuracy = (y_pred == y_test.argmax(dim=1)).float().mean()\n",
        "print(f\"Test accuracy: {accuracy:.4f}\")\n"
      ]
    }
  ],
  "metadata": {
    "colab": {
      "provenance": []
    },
    "kernelspec": {
      "display_name": "Python 3",
      "language": "python",
      "name": "python3"
    },
    "language_info": {
      "codemirror_mode": {
        "name": "ipython",
        "version": 3
      },
      "file_extension": ".py",
      "mimetype": "text/x-python",
      "name": "python",
      "nbconvert_exporter": "python",
      "pygments_lexer": "ipython3",
      "version": "3.8.10"
    },
    "vscode": {
      "interpreter": {
        "hash": "31f2aee4e71d21fbe5cf8b01ff0e069b9275f58929596ceb00d14d90e3e16cd6"
      }
    }
  },
  "nbformat": 4,
  "nbformat_minor": 5
}
