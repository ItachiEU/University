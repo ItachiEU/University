{
 "cells": [
  {
   "cell_type": "code",
   "execution_count": 1,
   "metadata": {},
   "outputs": [],
   "source": [
    "import sys\n",
    "import os\n",
    "import numpy as np\n",
    "import matplotlib.pyplot as plt\n",
    "from tqdm import tqdm\n",
    "import math\n",
    "import time"
   ]
  },
  {
   "cell_type": "code",
   "execution_count": 2,
   "metadata": {},
   "outputs": [],
   "source": [
    "GRAVITY = -3.711\n",
    "def next_state(\n",
    "   x: float,\n",
    "   y: float,\n",
    "   h_speed: float,\n",
    "   v_speed: float,\n",
    "   fuel: int,\n",
    "   angle: int,\n",
    "   power: int,\n",
    "   new_angle: int,\n",
    "   new_power: int\n",
    ") -> tuple:\n",
    "   assert new_power <= 1 and new_power >= -1, f\"Wrong new_power -> {new_power}\"\n",
    "   power += new_power\n",
    "   power = max(0, power)\n",
    "   power = min(4, power)\n",
    "   assert power in np.arange(0,5), f\"Wrong power -> {power}\"\n",
    "   fuel -= power\n",
    "   assert new_angle <= 15 and new_angle >= -15, f\"Wrong new_angle -> {new_angle}\"\n",
    "   angle += new_angle\n",
    "   angle = max(-90, angle)\n",
    "   angle = min(90, angle)\n",
    "   assert new_angle <= 90 and new_angle >= -90, f\"Wrong angle -> {angle}\"\n",
    "\n",
    "   radians = (angle * math.pi) / 180.0\n",
    "   a_h = -math.sin(radians) * power  # horizontal acceleration\n",
    "   a_v = math.cos(radians) * power + GRAVITY # vertical acceleration\n",
    "\n",
    "   x += h_speed + a_h / 2.0 # delta x\n",
    "   y += v_speed + a_v / 2.0 # delta y \n",
    "\n",
    "   h_speed += a_h\n",
    "   v_speed += a_v\n",
    "   return x, y, h_speed, v_speed, fuel, angle, power\n",
    "\n",
    "#print(next_state(x=2500, y=2700, h_speed=0, v_speed=0, fuel=5501, angle=0, power=0, new_angle=-15, new_power=1))\n"
   ]
  },
  {
   "cell_type": "code",
   "execution_count": 3,
   "metadata": {},
   "outputs": [
    {
     "data": {
      "text/plain": [
       "<matplotlib.collections.PathCollection at 0x7f8887504fa0>"
      ]
     },
     "execution_count": 3,
     "metadata": {},
     "output_type": "execute_result"
    },
    {
     "data": {
      "image/png": "[encoded data removed]",
      "text/plain": [
       "<Figure size 1080x360 with 1 Axes>"
      ]
     },
     "metadata": {
      "needs_background": "light"
     },
     "output_type": "display_data"
    }
   ],
   "source": [
    "def get_function_params(x1, y1, x2, y2):\n",
    "   a = (y1 - y2) / (x1 - x2)\n",
    "   b = y1 - a * x1\n",
    "   return a, b\n",
    "\n",
    "def create_map_points(input_surface):\n",
    "   result_map = {}\n",
    "   for i in range(len(input_surface)-1):\n",
    "      x,y = input_surface[i]\n",
    "      x2,y2 = input_surface[i+1]\n",
    "      a,b = get_function_params(x,y,x2,y2)\n",
    "      for x_i in range(x, x2+1):\n",
    "         result_map[x_i] = a * x_i + b\n",
    "   return result_map\n",
    "\n",
    "\n",
    "MAP1 = [(0, 100), (1000, 500), (1500, 1500), (3000, 1000),\n",
    "        (4000, 150), (5500, 150), (6999, 800)]\n",
    "\n",
    "map_points = create_map_points(MAP1)\n",
    "\n",
    "plt.figure(figsize=(15, 5))\n",
    "plt.scatter(map_points.keys(), map_points.values(), edgecolors='black', s=0.1)\n"
   ]
  },
  {
   "cell_type": "code",
   "execution_count": 4,
   "metadata": {},
   "outputs": [],
   "source": [
    "def determine_dist_reward(lx1, lx2, ly, x, y, x_start, y_start):\n",
    "    dist_x = 0\n",
    "    dist_y = 0\n",
    "    middle = (lx2 + lx1) / 2\n",
    "    dist_x = abs(middle - x) ** 2\n",
    "    \n",
    "    if ly - 1 <= y <= ly + 1:\n",
    "        dist_y = 0    \n",
    "    else:\n",
    "        dist_y = (y - ly) ** 2\n",
    "    \n",
    "    dist = np.sqrt(dist_x + dist_y)\n",
    "\n",
    "    return -dist\n",
    "    \n",
    "\n",
    "def determine_angle_reward(angle):\n",
    "    if angle == 0:\n",
    "        return 200\n",
    "    return ((90-abs(angle))/90)*100\n",
    "\n",
    "def intersection(x, y, map):\n",
    "    return y < map[int(x)]\n",
    "\n",
    "def find_landing(map_input):\n",
    "    for i in range(len(map_input) - 1):\n",
    "        if map_input[i][1] == map_input[i + 1][1] and abs(map_input[i][0] - map_input[i + 1][0]) >= 1000:\n",
    "            return map_input[i][0], map_input[i + 1][0], map_input[i + 1][1]\n"
   ]
  },
  {
   "cell_type": "code",
   "execution_count": 5,
   "metadata": {},
   "outputs": [],
   "source": [
    "def simulate_run(\n",
    "      actions,\n",
    "      x=2500,\n",
    "      y=2700,\n",
    "      map=map_points,\n",
    "      h_speed=0,\n",
    "      v_speed=0,\n",
    "      fuel=5501,\n",
    "      angle=0,\n",
    "      power=0,\n",
    "      landing_x1=4000,\n",
    "      landing_x2=5500,\n",
    "      landing_y=150\n",
    "   ):\n",
    "   x_start, y_start = x, y\n",
    "\n",
    "   crash = False\n",
    "   path = [(x, y)]\n",
    "   for new_angle, new_power in actions:\n",
    "      new_angle = int(round(new_angle))\n",
    "      new_power = int(round(new_power))\n",
    "      x_new, y_new, h_speed_new, v_speed_new, fuel_new, angle_new, power_new = next_state(x,y,h_speed, v_speed, fuel, angle, power, new_angle, new_power)\n",
    "      if fuel <= 0 or x_new < 0 or y_new < 0 or x_new >= 7000 or y_new >= 2800 or intersection(x_new, y_new, map):\n",
    "         path.append((x_new, y_new))\n",
    "         crash = True\n",
    "         break\n",
    "\n",
    "      x, y, h_speed, v_speed, fuel, angle, power = x_new, y_new, h_speed_new, v_speed_new, fuel_new, angle_new, power_new\n",
    "      path.append((x, y))\n",
    "\n",
    "   distance_reward = determine_dist_reward(landing_x1, landing_x2, landing_y, x, y, x_start, y_start)\n",
    "   angle_reward = determine_angle_reward(angle)\n",
    "   if abs(v_speed) <= 40:\n",
    "      v_speed_reward = 1000\n",
    "   else:\n",
    "      crash = True\n",
    "      v_speed_reward = 0\n",
    "   \n",
    "   if abs(h_speed) <= 20:\n",
    "      h_speed_reward = 1000\n",
    "   else:\n",
    "      crash = True\n",
    "      h_speed_reward = 0\n",
    "   \n",
    "   total_reward = distance_reward*10 + angle_reward + v_speed_reward + h_speed_reward\n",
    "   if crash:\n",
    "      total_reward -= 100000\n",
    "   return total_reward, path\n"
   ]
  },
  {
   "cell_type": "code",
   "execution_count": 7,
   "metadata": {},
   "outputs": [
    {
     "name": "stdout",
     "output_type": "stream",
     "text": [
      "Performed 2124 simulations in one second.\n"
     ]
    },
    {
     "data": {
      "image/png": "[encoded data removed]",
      "text/plain": [
       "<Figure size 1080x360 with 1 Axes>"
      ]
     },
     "metadata": {
      "needs_background": "light"
     },
     "output_type": "display_data"
    }
   ],
   "source": [
    "N = 100\n",
    "\n",
    "start_time = time.time()\n",
    "simulations = 0\n",
    "landing_x1, landing_x2, landing_y = find_landing(MAP1)\n",
    "moves = []\n",
    "while time.time() - start_time <= 1.0: \n",
    "    tmp = np.vstack((\n",
    "        np.random.randint(-15, 16, N),\n",
    "        np.random.randint(-1, 2, N)\n",
    "    )).T\n",
    "\n",
    "    x_start, y_start = 2500, 2700\n",
    "    h_speed_start, v_speed_start = 0, 0\n",
    "    fuel_start, angle_start, power_start = 5501, 0, 0\n",
    "\n",
    "    score, path = simulate_run(\n",
    "        actions=tmp,\n",
    "        x=x_start, \n",
    "        y=y_start,\n",
    "        h_speed=h_speed_start, \n",
    "        v_speed=v_speed_start,\n",
    "        fuel=fuel_start, \n",
    "        angle=angle_start, \n",
    "        power=power_start,\n",
    "        map=map_points\n",
    "    )\n",
    "    simulations += 1\n",
    "    moves = tmp\n",
    "\n",
    "print(f\"Performed {simulations} simulations in one second.\")\n",
    "\n",
    "plt.figure(figsize=(15, 5))\n",
    "xs = [x[0] for x in MAP1]\n",
    "ys = [x[1] for x in MAP1]\n",
    "plt.plot(xs, ys, c='red')\n",
    "\n",
    "for x, y in path:\n",
    "    plt.scatter(x, y, color='green', s=2)\n"
   ]
  },
  {
   "cell_type": "code",
   "execution_count": 8,
   "metadata": {},
   "outputs": [
    {
     "name": "stdout",
     "output_type": "stream",
     "text": [
      "[(-12, 0), (-5, 1), (8, 1), (-9, -1), (-5, 1), (-8, -1), (-5, 0), (-7, 1), (9, -1), (-1, 1), (4, 1), (7, -1), (-11, 1), (12, 1), (-2, -1), (6, -1), (2, -1), (5, 1), (9, -1), (9, -1), (14, -1), (8, -1), (-4, 0), (6, 0), (4, 1), (0, 1), (3, -1), (8, 1), (13, 0), (-5, -1), (-13, -1), (8, 0), (-3, 0), (-14, -1), (6, 0), (-7, 0), (5, -1), (2, 0), (2, 0), (-6, -1), (11, -1), (12, -1), (0, 1), (14, 0), (-15, -1), (-4, 0), (-14, 1), (13, 1), (-1, -1), (-3, -1), (7, 1), (-11, -1), (3, 1), (-10, -1), (8, 1), (2, -1), (-8, 1), (-7, -1), (12, 0), (-8, 0), (7, 1), (11, -1), (12, 1), (12, -1), (9, 0), (11, 1), (-14, -1), (14, 0), (4, 0), (8, 0), (6, -1), (11, -1), (-11, 0), (1, 1), (10, 1), (13, 1), (4, -1), (14, 0), (6, 1), (-12, -1), (-9, 0), (-13, 0), (-1, -1), (4, -1), (-10, 0), (3, 1), (2, 0), (9, 0), (10, 1), (13, 1), (-3, 1), (-6, 0), (-2, 1), (-7, 0), (14, 1), (-6, -1), (-11, 1), (-6, 0), (-3, 1), (-2, -1)]\n"
     ]
    }
   ],
   "source": [
    "moves = [tuple(x) for x in moves]\n",
    "print(moves) # tested on Codin Game -> looked fine :+1:"
   ]
  },
  {
   "cell_type": "code",
   "execution_count": 9,
   "metadata": {},
   "outputs": [],
   "source": [
    "class Node:\n",
    "    def __init__(self, action, parent) -> None:\n",
    "        self._current_action = action  # pair[int, int]  angle and power\n",
    "        self._children = {}  # dict[action, Node]\n",
    "        self._score = -1e18\n",
    "        self._visited = 0\n",
    "        self._parent = parent\n",
    "\n",
    "    def _backpropagate(self, score):\n",
    "        individual_score = 0\n",
    "        iters = 0\n",
    "        while self._parent is not None:\n",
    "            self._visited += 1\n",
    "            self._score = max(self._score, score)\n",
    "            iters += 1\n",
    "            individual_score += self._score\n",
    "            self = self._parent\n",
    "        return individual_score / iters\n",
    "\n",
    "    def rollout(\n",
    "        self,\n",
    "        genotype: np.ndarray,\n",
    "        x: int, y: int,\n",
    "        h_speed: int, v_speed: int,\n",
    "        fuel: int, angle: int, power: int,\n",
    "        map_points: list,\n",
    "        landing_x1=4000,\n",
    "        landing_x2=5500,\n",
    "        landing_y=150\n",
    "    ) -> float:\n",
    "        x_start, y_start = x, y\n",
    "        crash = False\n",
    "\n",
    "        # do the actions from previous nodes:\n",
    "\n",
    "        for new_angle, new_power in actions:\n",
    "            new_angle = int(round(new_angle))\n",
    "            new_power = int(round(new_power))\n",
    "            x2, y2, h_speed2, v_speed2, fuel2, angle2, power2 = next_state(\n",
    "                x=x, y=y, h_speed=h_speed, v_speed=v_speed, fuel=fuel, angle=angle, power=power,\n",
    "                new_angle=new_angle, new_power=new_power\n",
    "            )\n",
    "            if fuel <= 0 or x2 < 0 or x2 >= 7000 or y2 > 2800 or intersection(x2, y2, map_points):\n",
    "                if abs(v_speed2) >= 40 or abs(h_speed2) >= 20 or abs(h_speed) >= 20 or abs(v_speed) >= 40 or x2 < landing_x1 or x2 > landing_x2 or angle != 0 or new_angle != 0 or abs(y2 - landing_y) > 1:\n",
    "                    crash = True\n",
    "                break\n",
    "            x, y, h_speed, v_speed, fuel, angle, power = x2, y2, h_speed2, v_speed2, fuel2, angle2, power2\n",
    "\n",
    "        # rollout new genotype\n",
    "        next_node = self\n",
    "        for i, (new_angle, new_power) in enumerate(genotype):\n",
    "            new_angle = int(round(new_angle))\n",
    "            new_power = int(round(new_power))\n",
    "            # assert isinstance(new_angle, np.int64) and isinstance(new_power, np.int64), f\"{new_angle} {new_power} {type(new_angle)} {type(new_power)}\"\n",
    "            x2, y2, h_speed2, v_speed2, fuel2, angle2, power2 = next_state(\n",
    "                x=x, y=y, h_speed=h_speed, v_speed=v_speed, fuel=fuel, angle=angle, power=power,\n",
    "                new_angle=new_angle, new_power=new_power\n",
    "            )\n",
    "            if fuel <= 0 or x2 < 0 or x2 >= 7000 or y2 > 2800 or intersection(x2, y2, map_points):\n",
    "                if abs(v_speed2) >= 40 or abs(h_speed2) >= 20 or abs(h_speed) >= 20 or abs(v_speed) >= 40 or x2 < landing_x1 or x2 > landing_x2 or angle != 0 or new_angle != 0 or abs(y2 - landing_y) > 1:\n",
    "                    crash = True\n",
    "                for j in range(i, len(genotype)):\n",
    "                    genotype[j] = (0, genotype[j][1])\n",
    "                break\n",
    "            x, y, h_speed, v_speed, fuel, angle, power = x2, y2, h_speed2, v_speed2, fuel2, angle2, power2\n",
    "\n",
    "            new_angle, new_power = int(\n",
    "                round(new_angle)),  int(round(new_power))\n",
    "\n",
    "            if (new_angle, new_power) in self._children:\n",
    "                next_node = self._children[(new_angle, new_power)]\n",
    "            else:\n",
    "                self._children[(new_angle, new_power)] = Node(\n",
    "                    action=(new_angle, new_power), parent=self)\n",
    "                next_node = self._children[(new_angle, new_power)]\n",
    "\n",
    "        distance_reward = determine_dist_reward(\n",
    "            landing_x1, landing_x2, landing_y, x, y, x_start, y_start)\n",
    "        angle_reward = determine_angle_reward(angle)\n",
    "        if abs(v_speed) <= 40:\n",
    "          v_speed_reward = 10000\n",
    "        else:\n",
    "          crash = True\n",
    "          v_speed_reward = 0\n",
    "       \n",
    "        if abs(h_speed) <= 20:\n",
    "          h_speed_reward = 10000\n",
    "        else:\n",
    "          crash = True\n",
    "          h_speed_reward = 0\n",
    "\n",
    "        score = distance_reward * 5 + angle_reward + v_speed_reward * 4 + h_speed_reward * 2\n",
    "        if crash:\n",
    "            score -= 100000\n",
    "\n",
    "        return next_node._backpropagate(score=score)\n"
   ]
  },
  {
   "cell_type": "code",
   "execution_count": 10,
   "metadata": {},
   "outputs": [],
   "source": [
    "actions = []\n",
    "class RHEA:\n",
    "    def __init__(self, N, chromosome_len=20, n_mutations=5):\n",
    "        self._N: int = N\n",
    "        self._d: int = chromosome_len\n",
    "        self.n_mutations: int = n_mutations\n",
    "        self._best_individual = None\n",
    "        self._best_cost = -1e18\n",
    "        self._scores = np.ones(N)\n",
    "        self.node = Node(action=None, parent=None)\n",
    "        self.cost_history = []  # List[Tuple[min, mean, max]]\n",
    "        self.best_individuals_history = []\n",
    "        self.population_angles = np.random.randint(\n",
    "            low=-15,\n",
    "            high=16,\n",
    "            size=(self._N, self._d)\n",
    "        )\n",
    "        # 1 - increase thrust | 0 - nothing | -1 - decrease thrust\n",
    "        self.population_thrust = np.random.randint(\n",
    "            low=1,\n",
    "            high=2,\n",
    "            size=(self._N, self._d)\n",
    "        )\n",
    "        self.population = np.stack(\n",
    "            (self.population_angles, self.population_thrust), axis=2)\n",
    "\n",
    "    def _parents_selection(self) -> np.ndarray:\n",
    "        \"\"\" Roulette method \"\"\"\n",
    "        fitness_values = self._scores.copy()\n",
    "        fitness_values = fitness_values - fitness_values.min()\n",
    "        if fitness_values.sum() > 0:\n",
    "            fitness_values = fitness_values / fitness_values.sum()\n",
    "        else:\n",
    "            fitness_values = np.ones(\n",
    "                len(self.population)) / len(self.population)\n",
    "\n",
    "        ids = np.random.choice(\n",
    "            np.arange(self._N),\n",
    "            size=self._N,\n",
    "            replace=True,\n",
    "            p=fitness_values\n",
    "        )\n",
    "        return ids\n",
    "\n",
    "    def _replacement_and_crossover(self, ids) -> None:\n",
    "        self.population = self.population[ids]\n",
    "\n",
    "        parents_ids = np.arange(self._N)\n",
    "        np.random.shuffle(parents_ids)\n",
    "\n",
    "        p1 = self.population[parents_ids[self._N // 2]]\n",
    "        p2 = self.population[self._N // 2:]\n",
    "\n",
    "        r = np.random.rand(self._N // 2)[:, np.newaxis, np.newaxis]\n",
    "        children1 = r * p1 + (1 - r) * p2\n",
    "        children2 = (1 - r) * p1 + r * p2\n",
    "\n",
    "        self.population = np.vstack((children1, children2))\n",
    "        self.population[:, :, 1] = np.round(\n",
    "            self.population[:, :, 1]).astype(np.int)\n",
    "\n",
    "    def _mutation(self) -> None:\n",
    "        random_indices = np.random.randint(\n",
    "            0, self._d, size=(self.n_mutations, self._N))\n",
    "\n",
    "        self.population[:, :, 0][np.arange(\n",
    "            self._N), random_indices] = np.random.uniform(-15, 15, size=self._N)\n",
    "        self.population[:, :, 1][np.arange(\n",
    "            self._N), random_indices] = np.random.randint(-1, 2, size=self._N)\n",
    "\n",
    "    def run(self, x: int, y: int,\n",
    "                  h_speed: int, v_speed: int,\n",
    "                  fuel: int, angle: int, power: int,\n",
    "                  map_points: list,\n",
    "                  l: int, r: int, h: int):\n",
    "        start_time = time.time()\n",
    "        self._best_cost = -1000000000\n",
    "        while time.time() - start_time < 1: # here we can put the time constraint\n",
    "            self.population_rollout(x, y, h_speed, v_speed, fuel, angle, power, map_points, l, r, h) #evaluate current population\n",
    "\n",
    "            best_cost_index = self._scores.argmax()\n",
    "            best_current_individual = self.population[best_cost_index]\n",
    "            if self._scores[best_cost_index] > self._best_cost:\n",
    "                self._best_cost = self._scores[best_cost_index]\n",
    "                self._best_individual = best_current_individual\n",
    "\n",
    "            parents_ids = self._parents_selection()\n",
    "            self._replacement_and_crossover(ids=parents_ids)\n",
    "            self._mutation()\n",
    "            self.population[self._scores.argmin(\n",
    "            )] = best_current_individual\n",
    "\n",
    "        self.best_individuals_history.append(self._best_individual)\n",
    "        action = self._best_individual[0]\n",
    "        actions.append(action)\n",
    "\n",
    "        if tuple(action) in self.node._children:\n",
    "                self.node = self.node._children[tuple(action)]\n",
    "        else:\n",
    "            self.node._children[tuple(action)] = Node(\n",
    "                action=tuple(action), parent=self.node)\n",
    "            self.node = self.node._children[tuple(action)]\n",
    "\n",
    "\n",
    "        self._best_individual = self._best_individual[1:] # rolling best individual\n",
    "        self._best_individual = np.stack((np.append(self._best_individual[:, 0],np.random.randint(low=-15, high=16)), np.append(self._best_individual[:, 1], np.random.randint(low=-1, high=2))), axis=1)\n",
    "        # rolling population\n",
    "        # self.population = np.delete(self.population, 0, 1)\n",
    "        # self._best_cost = -1e18\n",
    "        temp = []\n",
    "        for arr in self.population:\n",
    "            t = list(arr)[1:]\n",
    "            t.append([np.random.randint(low=-15, high=16),\n",
    "                      np.random.randint(low=-1, high=2)])\n",
    "            temp.append(t)\n",
    "        self.population = np.array(temp)\n",
    "    \n",
    "    def population_rollout(\n",
    "        self,\n",
    "        x: int, y: int,\n",
    "        h_speed: int, v_speed: int,\n",
    "        fuel: int, angle: int, power: int,\n",
    "        map_points: list,\n",
    "        l: int, r: int, h: int\n",
    "    ):\n",
    "        scores = []\n",
    "        for individual in self.population:\n",
    "            individual_score = self.node.rollout(\n",
    "                genotype=individual,\n",
    "                x=x, y=y,\n",
    "                h_speed=h_speed, v_speed=v_speed,\n",
    "                fuel=fuel, angle=angle, power=power,\n",
    "                map_points=map_points,\n",
    "                landing_x1=l, landing_x2=r, landing_y=h\n",
    "            )\n",
    "            scores.append(individual_score)\n",
    "        self._scores = np.array(scores)\n"
   ]
  },
  {
   "cell_type": "code",
   "execution_count": 11,
   "metadata": {},
   "outputs": [
    {
     "name": "stderr",
     "output_type": "stream",
     "text": [
      "100%|██████████| 150/150 [02:39<00:00,  1.06s/it]\n"
     ]
    }
   ],
   "source": [
    "CHROMOSOME_LEN = 60\n",
    "actions = []\n",
    "model = RHEA(N=100, chromosome_len=CHROMOSOME_LEN, n_mutations=2)\n",
    "for _ in tqdm(range(150), position=0):\n",
    "    model.run(x=x_start, y=y_start,\n",
    "                    h_speed=h_speed_start, v_speed=v_speed_start,\n",
    "                    fuel=fuel_start, angle=angle_start, power=power_start,\n",
    "                    map_points=map_points,\n",
    "                    l=4000, r=5500, h=150)\n"
   ]
  },
  {
   "cell_type": "code",
   "execution_count": 12,
   "metadata": {},
   "outputs": [
    {
     "name": "stdout",
     "output_type": "stream",
     "text": [
      "(4785.612343003178, 130.85804734633962)\n",
      "[(1, 1), (-0.37947559287073673, -1.0), (-6.874702871674245, 0.0), (1.5129822385974228, 0.0), (-2.4409531395662247, 1.0), (-8.197353276267721, 1.0), (-0.14803787143219616, 1.0), (-8.170858778084098, 0.0), (4.067012577083228, 1.0), (-3.644527588962408, 0.0), (-3.0147386684249557, 0.0), (1.3062648341774992, 0.0), (-2.321507442596417, 0.0), (-5.218215669608949, 0.0), (-0.34065898637907926, 0.0), (3.677005809062971, -1.0), (5.787685163675146, 1.0), (1.0258328676365647, 1.0), (9.492232691473045, -1.0), (2.868897045468971, 1.0), (-0.17012030231651262, 0.0), (-1.9419546431956565, 1.0), (-14.706614225278912, 0.0), (-1.407454297846395, 1.0), (-2.6252170547161637, 0.0), (-4.783886402507253, 0.0), (2.457794572067073, 1.0), (0.7527647994993708, 0.0), (5.100684424716893, 0.0), (8.546164986560095, 0.0), (-5.416282673039374, 0.0), (4.943651875836819, 1.0), (-9.577087971642868, 1.0), (-0.20142814231977152, 1.0), (-2.1812040516954903, -1.0), (4.659780601661178, 1.0), (-0.26215735611380325, 1.0), (1.8574515770332989, 0.0), (9.534078767313106, 0.0), (4.186247884262745, 1.0), (5.794560699345956, -1.0), (8.933096285413786, 0.0), (-10.003878839977963, 0.0), (0.2647638557653097, 0.0), (-0.6470011113443053, 0.0), (4.882290144039574, 0.0), (-2.803651303298672, 1.0), (3.8686318601692107, 0.0), (0.8520810986184593, 1.0), (-0.7190566399269294, 1.0), (2.871219757786432, 0.0), (-0.7883583129719494, 0.0), (-7.021928060150223, 0.0), (3.1653674764217152, -1.0), (4.239169788947119, 0.0), (0.32722552107544306, 1.0), (3.5635241906318744, 0.0), (9.755323974616338, 0.0), (-6.467149188602479, -1.0), (-0.872540887130077, 0.0), (5.318097192669693, 0.0), (-5.979018836524073, 1.0), (9.735357830207807, 0.0), (0.8973961896640263, 0.0), (-2.7083808519923767, 0.0), (5.42909260643735, 0.0), (-1.7035167133706295, 0.0), (7.12153745097434, 1.0), (-6.866819205695499, 0.0), (9.677076993018623, 0.0), (-1.4518650770803412, 0.0), (3.794724391914178, 0.0), (-1.0331184853265447, 0.0), (13.51447620251735, 0.0), (-5.846580747077012, 0.0), (-9.039179751468758, 0.0), (0.5123384828805545, 0.0), (9.091942677584598, 0.0), (-4.42132206438057, 0.0), (5.283551729681655, 1.0), (-2.6139793561144735, 1.0), (-4.273547593311365, 0.0), (1.748387121190072, 0.0), (-3.446277229724642, 1.0), (-2.209769337783984, 1.0), (-1.9548986603096412, 0.0), (2.67888843692874, 1.0), (-5.811872252989897, 1.0), (-9.008561242179125, 1.0), (-6.331118227315012, 0.0), (1.9612161814717406, 1.0), (-5.360047398487989, 1.0), (0.7875201722392442, 0.0), (1.3487224563149995, 0.0), (-11.50153070390017, 1.0), (0.0, -1.0), (0.0, -1.0), (0.0, 1.0), (0.0, -1.0), (0.0, 0.0), (0.0, 1.0), (0.0, 0.0), (0.0, 0.0), (0.0, -1.0), (0.0, -1.0), (0.0, 0.0), (0.0, -1.0), (0.0, -1.0), (0.0, 1.0), (0.0, -1.0), (0.0, -1.0), (0.0, 1.0), (0.0, 0.0), (0.0, 0.0), (0.0, 1.0), (0.0, 1.0), (0.0, 0.0), (0.0, -1.0), (0.0, 0.0), (0.0, 0.0), (0.0, -1.0), (0.0, -1.0), (0.0, 0.0), (0.0, 0.0), (0.0, 0.0), (0.0, -1.0), (0.0, -1.0), (0.0, 0.0), (0.0, 1.0), (0.0, -1.0), (0.0, 0.0), (0.0, -1.0), (0.0, 0.0), (0.0, 1.0), (0.0, 0.0), (0.0, 0.0), (0.0, -1.0), (0.0, -1.0), (0.0, 0.0), (0.0, -1.0), (0.0, 1.0), (0.0, -1.0), (0.0, 1.0), (0.0, -1.0), (0.0, -1.0), (0.0, 0.0), (0.0, 1.0), (0.0, 0.0), (0.0, 0.0), (0.0, -1.0)]\n"
     ]
    },
    {
     "data": {
      "image/png": "[encoded data removed]",
      "text/plain": [
       "<Figure size 1080x360 with 1 Axes>"
      ]
     },
     "metadata": {
      "needs_background": "light"
     },
     "output_type": "display_data"
    }
   ],
   "source": [
    "score, cords = simulate_run(\n",
    "    actions=actions,\n",
    "    x=x_start, y=y_start,\n",
    "    h_speed=h_speed_start, v_speed=v_speed_start,\n",
    "    fuel=fuel_start, angle=angle_start, power=power_start,\n",
    "    map=map_points,\n",
    ")\n",
    "\n",
    "plt.figure(figsize=(15, 5))\n",
    "plt.plot(xs, ys, c='red')\n",
    "\n",
    "for x, y in cords:\n",
    "    plt.scatter(x, y, edgecolors='black', color='green')\n",
    "\n",
    "print(cords[-1])\n",
    "print([tuple(x) for x in actions])\n"
   ]
  },
  {
   "cell_type": "code",
   "execution_count": 44,
   "metadata": {},
   "outputs": [
    {
     "data": {
      "image/png": "[encoded data removed]",
      "text/plain": [
       "<Figure size 1080x360 with 1 Axes>"
      ]
     },
     "metadata": {
      "needs_background": "light"
     },
     "output_type": "display_data"
    }
   ],
   "source": [
    "from IPython.display import clear_output\n",
    "\n",
    "def plot_population(population: np.ndarray):\n",
    "    plt.figure(figsize=(15, 5))\n",
    "    xs = [x[0] for x in MAP1]\n",
    "    ys = [x[1] for x in MAP1]\n",
    "    plt.plot(xs, ys, c='red')\n",
    "    score, path = simulate_run(\n",
    "        actions=population,\n",
    "        x=x_start, y=y_start,\n",
    "        h_speed=h_speed_start, v_speed=v_speed_start,\n",
    "        fuel=fuel_start, angle=angle_start, power=power_start,\n",
    "        map=map_points,\n",
    "        landing_x1=landing_x1, landing_x2=landing_x2, landing_y=landing_y\n",
    "    )\n",
    "    for x, y in path:\n",
    "        plt.scatter(x, y, edgecolors='black', color='green', alpha=0.6)\n",
    "    clear_output(wait=True)\n",
    "    plt.show()\n",
    "\n",
    "\n",
    "for i, population in enumerate(model.best_individuals_history):\n",
    "    print(f'{i + 1} / {len(model.best_individuals_history)}')\n",
    "    population = list(actions[:i]) + list(population)\n",
    "    plot_population(population=population)\n"
   ]
  },
  {
   "cell_type": "code",
   "execution_count": null,
   "metadata": {},
   "outputs": [],
   "source": [
    "MAP2 = [(0, 100), (1000, 500), (1500, 100), (3000, 100), (3500, 500),\n",
    "        (3700, 200), (5000, 1500), (5800, 300), (6000, 1000), (6999, 2000)]\n",
    "map_points2 = create_map_points(MAP2)\n",
    "landing_x1, landing_x2, landing_y = find_landing(MAP2)\n",
    "x_start, y_start, h_speed_start, v_speed_start, fuel_start, angle_start, power_start = 6500, 2800, -100, 0, 600, 90, 0\n"
   ]
  },
  {
   "cell_type": "code",
   "execution_count": null,
   "metadata": {},
   "outputs": [
    {
     "name": "stderr",
     "output_type": "stream",
     "text": [
      "100%|██████████| 150/150 [12:35<00:00,  5.04s/it]\n"
     ]
    }
   ],
   "source": [
    "CHROMOSOME_LEN = 70\n",
    "actions = []\n",
    "model2 = RHEA(N=500, chromosome_len=CHROMOSOME_LEN, n_mutations=2)\n",
    "for _ in tqdm(range(150), position=0):\n",
    "    model.run(x=x_start, y=y_start,\n",
    "              h_speed=h_speed_start, v_speed=v_speed_start,\n",
    "              fuel=fuel_start, angle=angle_start, power=power_start,\n",
    "              map_points=map_points2,\n",
    "              l=landing_x1, r=landing_x2, h=landing_y)\n"
   ]
  },
  {
   "cell_type": "code",
   "execution_count": null,
   "metadata": {},
   "outputs": [
    {
     "name": "stdout",
     "output_type": "stream",
     "text": [
      "(2145.270236537674, -4.475659084462976)\n",
      "[(1.8092617721042439, 0.0), (6.109168333012535, 0.0), (-5.35731582342164, 0.0), (2.284130496399658, -1.0), (7.402764791056472, -1.0), (0.16435226273316417, -1.0), (0.6742229770230708, 1.0), (9.08458117763531, 0.0), (-11.658304525573989, 0.0), (4.7971590482986315, -1.0), (6.878929974135653, 0.0), (1.5100243099202797, 1.0), (3.8774115368111075, -1.0), (-2.3256033662360083, 0.0), (-6.32540879285097, 0.0), (-7.647835920194394, 1.0), (3.8829382057644217, 0.0), (2.024263638729696, 0.0), (0.2309679943232305, -1.0), (-3.7140188802196183, 0.0), (7.53951791051816, 1.0), (-11.474626174412071, 1.0), (1.5790970831548545, -1.0), (4.759839063043589, -1.0), (-11.650048488053901, 0.0), (-6.620374080482114, 1.0), (-3.630580405626502, 1.0), (-11.736506358261861, -1.0), (-8.315136460869347, 0.0), (-2.5544911946779014, 0.0), (-7.770218485005472, 1.0), (8.146597224878795, -1.0), (-7.41132983631467, 0.0), (-3.5918090946980525, 0.0), (4.790520087810876, 1.0), (-13.91005304798785, 1.0), (5.064503767232296, 0.0), (-5.441969698051839, -1.0), (-13.897804425726832, -1.0), (0.0, 0.0), (0.0, 1.0), (0.0, 1.0), (0.0, 0.0), (0.0, 0.0), (0.0, 0.0), (0.0, 0.0), (0.0, 1.0), (0.0, 0.0), (0.0, 0.0), (0.0, -1.0), (0.0, 1.0), (0.0, 0.0), (0.0, -1.0), (0.0, -1.0), (0.0, 0.0), (0.0, 1.0), (0.0, 1.0), (0.0, 0.0), (0.0, 0.0), (0.0, 0.0), (0.0, 0.0), (0.0, 0.0), (0.0, 0.0), (0.0, 0.0), (0.0, -1.0), (0.0, 0.0), (0.0, 0.0), (0.0, 0.0), (0.0, 0.0), (0.0, -1.0), (0.0, 0.0), (0.0, 0.0), (0.0, 0.0), (0.0, 0.0), (0.0, 0.0), (0.0, 1.0), (0.0, 0.0), (0.0, 0.0), (0.0, -1.0), (0.0, 1.0), (0.0, 0.0), (0.0, 0.0), (0.0, 0.0), (0.0, -1.0), (0.0, 0.0), (0.0, 0.0), (0.0, 0.0), (0.0, 0.0), (0.0, 1.0), (0.0, 0.0), (0.0, 0.0), (0.0, -1.0), (0.0, 0.0), (0.0, 0.0), (0.0, 1.0), (0.0, -1.0), (0.0, 0.0), (0.0, 0.0), (0.0, 0.0), (0.0, 0.0), (0.0, 0.0), (0.0, 1.0), (0.0, -1.0), (0.0, 0.0), (0.0, 0.0), (0.0, 0.0), (0.0, 1.0), (0.0, 1.0), (0.0, -1.0), (0.0, 1.0), (0.0, -1.0), (0.0, 1.0), (0.0, -1.0), (0.0, -1.0), (0.0, 1.0), (0.0, 1.0), (0.0, -1.0), (0.0, 1.0), (0.0, -1.0), (0.0, 0.0), (0.0, 0.0), (0.0, 1.0), (0.0, -1.0), (0.0, 1.0), (0.0, 0.0), (0.0, 1.0), (0.0, -1.0), (0.0, -1.0), (0.0, -1.0), (0.0, -1.0), (0.0, 1.0), (0.0, 0.0), (0.0, 0.0), (0.0, 1.0), (0.0, -1.0), (0.0, 0.0), (0.0, 1.0), (0.0, 1.0), (0.0, 0.0), (0.0, 0.0), (0.0, 1.0), (0.0, 0.0), (0.0, 1.0), (0.0, 1.0), (0.0, 1.0), (0.0, 1.0), (0.0, 1.0), (0.0, -1.0), (0.0, -1.0), (0.0, 1.0)]\n"
     ]
    },
    {
     "data": {
      "image/png": "[encoded data removed]",
      "text/plain": [
       "<Figure size 1080x360 with 1 Axes>"
      ]
     },
     "metadata": {
      "needs_background": "light"
     },
     "output_type": "display_data"
    }
   ],
   "source": [
    "score, cords = simulate_run(\n",
    "    actions=actions,\n",
    "    x=x_start, y=y_start,\n",
    "    h_speed=h_speed_start, v_speed=v_speed_start,\n",
    "    fuel=fuel_start, angle=angle_start, power=power_start,\n",
    "    map=map_points2,\n",
    ")\n",
    "xs = [x[0] for x in MAP2]\n",
    "ys = [x[1] for x in MAP2]\n",
    "plt.figure(figsize=(15, 5))\n",
    "plt.plot(xs, ys, c='red')\n",
    "\n",
    "for x, y in cords:\n",
    "    plt.scatter(x, y, edgecolors='black', color='green')\n",
    "\n",
    "print(cords[-1])\n",
    "print([tuple(x) for x in actions])\n"
   ]
  },
  {
   "cell_type": "code",
   "execution_count": null,
   "metadata": {},
   "outputs": [
    {
     "name": "stderr",
     "output_type": "stream",
     "text": [
      "100%|██████████| 150/150 [12:35<00:00,  5.04s/it]\n"
     ]
    }
   ],
   "source": [
    "landing_x1, landing_x2, landing_y = find_landing(MAP1)\n",
    "x_start, y_start, h_speed_start, v_speed_start, fuel_start, angle_start, power_start = 6500, 2800, -90, 0, 750, 90, 0\n",
    "\n",
    "CHROMOSOME_LEN = 70\n",
    "actions = []\n",
    "model2 = RHEA(N=300, chromosome_len=CHROMOSOME_LEN, n_mutations=2)\n",
    "for _ in tqdm(range(150), position=0):\n",
    "    model.run(x=x_start, y=y_start,\n",
    "              h_speed=h_speed_start, v_speed=v_speed_start,\n",
    "              fuel=fuel_start, angle=angle_start, power=power_start,\n",
    "              map_points=map_points,\n",
    "              l=landing_x1, r=landing_x2, h=landing_y)\n"
   ]
  },
  {
   "cell_type": "code",
   "execution_count": null,
   "metadata": {},
   "outputs": [
    {
     "name": "stdout",
     "output_type": "stream",
     "text": [
      "(3345.3971029587155, 536.4498374861417)\n",
      "[(9.851324051496768, 0.0), (-7.52066928379546, 0.0), (-0.2459284782615354, 0.0), (-1.5055786717370128, 0.0), (0.6619056683219287, 0.0), (0.3955193101900707, 0.0), (5.805686046341586, 0.0), (-3.2823916137139486, 0.0), (0.7577220995005188, 0.0), (-0.850315484577552, 0.0), (-3.662936150255378, -1.0), (3.3009407768457577, 0.0), (-6.37641295136663, 0.0), (-5.721417461033618, 0.0), (-4.893176152675096, -1.0), (4.18322369967187, 0.0), (-8.478326807703677, -1.0), (2.169638095648249, 0.0), (-7.912448259371629, 0.0), (-0.8511781128203393, 0.0), (-2.32465021815434, 0.0), (-5.890830791994344, -1.0), (-2.388458925954668, 0.0), (-4.237668627686201, 0.0), (-14.998056478961798, 1.0), (1.9442100836466545, -1.0), (3.4865569014815088, 0.0), (-5.075793473537748, 0.0), (-6.484532310948774, -1.0), (-3.544759648188667, 0.0), (-8.982680194678574, 0.0), (1.6407102804894858, 0.0), (-6.092760654481449, 0.0), (-3.1282494280234854, -1.0), (0.0, 0.0), (0.0, 0.0), (0.0, 0.0), (0.0, 0.0), (0.0, 0.0), (0.0, -1.0), (0.0, 0.0), (0.0, 0.0), (0.0, 1.0), (0.0, 0.0), (0.0, 0.0), (0.0, 0.0), (0.0, 1.0), (0.0, 0.0), (0.0, 1.0), (0.0, 0.0), (0.0, 0.0), (0.0, 0.0), (0.0, -1.0), (0.0, 0.0), (0.0, 0.0), (0.0, 1.0), (0.0, 0.0), (0.0, 1.0), (0.0, 0.0), (0.0, 1.0), (0.0, -1.0), (0.0, -1.0), (0.0, 0.0), (0.0, 0.0), (0.0, 0.0), (0.0, 1.0), (0.0, 0.0), (0.0, 1.0), (0.0, 0.0), (0.0, -1.0), (0.0, 1.0), (0.0, 0.0), (0.0, 1.0), (0.0, 0.0), (0.0, 0.0), (0.0, 1.0), (0.0, 1.0), (0.0, 0.0), (0.0, 0.0), (0.0, 0.0), (0.0, 1.0), (0.0, 1.0), (0.0, 0.0), (0.0, 0.0), (0.0, -1.0), (0.0, 0.0), (0.0, 0.0), (0.0, 1.0), (0.0, 1.0), (0.0, 0.0), (0.0, -1.0), (0.0, 0.0), (0.0, 1.0), (0.0, -1.0), (0.0, 0.0), (0.0, 0.0), (0.0, 0.0), (0.0, 1.0), (0.0, -1.0), (0.0, -1.0), (0.0, -1.0), (0.0, 0.0), (0.0, 1.0), (0.0, -1.0), (0.0, -1.0), (0.0, -1.0), (0.0, -1.0), (0.0, 1.0), (0.0, 1.0), (0.0, -1.0), (0.0, -1.0), (0.0, 0.0), (0.0, 0.0), (0.0, -1.0), (0.0, 0.0), (0.0, -1.0), (0.0, 1.0), (0.0, -1.0), (0.0, 1.0), (0.0, -1.0), (0.0, 0.0), (0.0, -1.0), (0.0, 0.0), (0.0, 1.0), (0.0, 0.0), (0.0, 0.0), (0.0, 0.0), (0.0, 0.0), (0.0, 0.0), (0.0, -1.0), (0.0, 1.0), (0.0, 1.0), (0.0, -1.0), (0.0, 0.0), (0.0, -1.0), (0.0, 1.0), (0.0, -1.0), (0.0, 0.0), (0.0, -1.0), (0.0, 1.0), (0.0, 0.0), (0.0, 0.0), (0.0, -1.0), (0.0, 1.0), (0.0, 0.0), (0.0, 1.0), (0.0, 0.0), (0.0, 1.0), (0.0, 1.0), (0.0, 0.0)]\n"
     ]
    },
    {
     "data": {
      "image/png": "[encoded data removed]",
      "text/plain": [
       "<Figure size 1080x360 with 1 Axes>"
      ]
     },
     "metadata": {
      "needs_background": "light"
     },
     "output_type": "display_data"
    }
   ],
   "source": [
    "score, cords = simulate_run(\n",
    "    actions=actions,\n",
    "    x=x_start, y=y_start,\n",
    "    h_speed=h_speed_start, v_speed=v_speed_start,\n",
    "    fuel=fuel_start, angle=angle_start, power=power_start,\n",
    "    map=map_points,\n",
    ")\n",
    "xs = [x[0] for x in MAP1]\n",
    "ys = [x[1] for x in MAP1]\n",
    "plt.figure(figsize=(15, 5))\n",
    "plt.plot(xs, ys, c='red')\n",
    "\n",
    "for x, y in cords:\n",
    "    plt.scatter(x, y, edgecolors='black', color='green')\n",
    "\n",
    "print(cords[-1])\n",
    "print([tuple(x) for x in actions])\n"
   ]
  }
 ],
 "metadata": {
  "interpreter": {
   "hash": "31f2aee4e71d21fbe5cf8b01ff0e069b9275f58929596ceb00d14d90e3e16cd6"
  },
  "kernelspec": {
   "display_name": "Python 3.8.10 64-bit",
   "name": "python3"
  },
  "language_info": {
   "codemirror_mode": {
    "name": "ipython",
    "version": 3
   },
   "file_extension": ".py",
   "mimetype": "text/x-python",
   "name": "python",
   "nbconvert_exporter": "python",
   "pygments_lexer": "ipython3",
   "version": "3.8.10"
  },
  "orig_nbformat": 4
 },
 "nbformat": 4,
 "nbformat_minor": 2
}
