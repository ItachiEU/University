{
 "cells": [
  {
   "cell_type": "markdown",
   "metadata": {},
   "source": [
    "# Popularne instancje QAP wraz z dokładnym minimum funkcji celu Nug12 12 578 (OPT) (12,7,9,3,4,8,11,1,5,6,10,2) Nug14 14 1014 (OPT) (9,8,13,2,1,11,7,14,3,4,12,5,6,10) Nug15 15 1150 (OPT) (1,2,13,8,9,4,3,14,7,11,10,15,6,5,12) Nug16a 16 1610 (OPT) (9,14,2,15,16,3,10,12,8,11,6,5,7,1,4,13) Nug16b 16 1240 (OPT) (16,12,13,8,4,2,9,11,15,10,7,3,14,6,1,5) Nug17 17 1732 (OPT) (16,15,2,14,9,11,8,12,10,3,4,1,7,6,13,17,5) Nug18 18 1930 (OPT) (10,3,14,2,18,6,7,12,15,4,5,1,11,8,17,13,9,16) Nug20 20 2570 (OPT) (18,14,10,3,9,4,2,12,11,16,19,15,20,8,13,17,5,7,1,6) Nug21 21 2438 (OPT) (4,21,3,9,13,2,5,14,18,11,16,10,6,15,20,19,8,7,1,12,17) Nug22 22 3596 (OPT) (2,21,9,10,7,3,1,19,8,20,17,5,13,6,12,16,11,22,18,14,15) Nug24 24 3488 (OPT) (17,8,11,23,4,20,15,19,22,18,3,14,1,10,7,9,16,21,24,12,6,13,5,2) Nug25 25 3744 (OPT) (5,11,20,15,22,2,25,8,9,1,18,16,3,6,19,24,21,14,7,10,17,12,4,23,13) * Nug27 27 5234 (OPT) (23,18,3,1,27,17,5,12,7,15,4,26,8,19,20,2,24,21,14,10,9,13,22,25,6,16,11) * Nug28 28 5166 (OPT) (18,21,9,1,28,20,11,3,13,12,10,19,14,22,15,2,25,16,4,23,7,17,24,26,5,27,8,6) * Nug30 30 6124 (OPT) (5 12 6 13 2 21 26 24 10 9 29 28 17 1 8 7 19 25 23 22 11 16 30 4 15 18 27 3 14 20)"
   ]
  },
  {
   "cell_type": "code",
   "execution_count": 1,
   "metadata": {},
   "outputs": [],
   "source": [
    "import numpy as np\n",
    "import matplotlib.pyplot as plt\n",
    "import time\n",
    "import urllib.request\n",
    "\n",
    "%matplotlib inline"
   ]
  },
  {
   "cell_type": "code",
   "execution_count": 47,
   "metadata": {},
   "outputs": [],
   "source": [
    "QAP_INSTANCE_FILE_NAME = 'nug12.dat'"
   ]
  },
  {
   "cell_type": "markdown",
   "metadata": {},
   "source": [
    "# Reading input data"
   ]
  },
  {
   "cell_type": "code",
   "execution_count": 48,
   "metadata": {},
   "outputs": [
    {
     "name": "stdout",
     "output_type": "stream",
     "text": [
      "Problem size: 12\n",
      "Flow matrix:\n",
      " [[0. 1. 2. 3. 1. 2. 3. 4. 2. 3. 4. 5.]\n",
      " [1. 0. 1. 2. 2. 1. 2. 3. 3. 2. 3. 4.]\n",
      " [2. 1. 0. 1. 3. 2. 1. 2. 4. 3. 2. 3.]\n",
      " [3. 2. 1. 0. 4. 3. 2. 1. 5. 4. 3. 2.]\n",
      " [1. 2. 3. 4. 0. 1. 2. 3. 1. 2. 3. 4.]\n",
      " [2. 1. 2. 3. 1. 0. 1. 2. 2. 1. 2. 3.]\n",
      " [3. 2. 1. 2. 2. 1. 0. 1. 3. 2. 1. 2.]\n",
      " [4. 3. 2. 1. 3. 2. 1. 0. 4. 3. 2. 1.]\n",
      " [2. 3. 4. 5. 1. 2. 3. 4. 0. 1. 2. 3.]\n",
      " [3. 2. 3. 4. 2. 1. 2. 3. 1. 0. 1. 2.]\n",
      " [4. 3. 2. 3. 3. 2. 1. 2. 2. 1. 0. 1.]\n",
      " [5. 4. 3. 2. 4. 3. 2. 1. 3. 2. 1. 0.]]\n",
      "Distance matrix:\n",
      " [[ 0.  5.  2.  4.  1.  0.  0.  6.  2.  1.  1.  1.]\n",
      " [ 5.  0.  3.  0.  2.  2.  2.  0.  4.  5.  0.  0.]\n",
      " [ 2.  3.  0.  0.  0.  0.  0.  5.  5.  2.  2.  2.]\n",
      " [ 4.  0.  0.  0.  5.  2.  2. 10.  0.  0.  5.  5.]\n",
      " [ 1.  2.  0.  5.  0. 10.  0.  0.  0.  5.  1.  1.]\n",
      " [ 0.  2.  0.  2. 10.  0.  5.  1.  1.  5.  4.  0.]\n",
      " [ 0.  2.  0.  2.  0.  5.  0. 10.  5.  2.  3.  3.]\n",
      " [ 6.  0.  5. 10.  0.  1. 10.  0.  0.  0.  5.  0.]\n",
      " [ 2.  4.  5.  0.  0.  1.  5.  0.  0.  0. 10. 10.]\n",
      " [ 1.  5.  2.  0.  5.  5.  2.  0.  0.  0.  5.  0.]\n",
      " [ 1.  0.  2.  5.  1.  4.  3.  5. 10.  5.  0.  2.]\n",
      " [ 1.  0.  2.  5.  1.  0.  3.  0. 10.  0.  2.  0.]]\n"
     ]
    }
   ],
   "source": [
    "with open(f'QAPdata/{QAP_INSTANCE_FILE_NAME}') as qap_instance_file:\n",
    "   line = qap_instance_file.readline()\n",
    "   n = int(line[:-1].split()[0])\n",
    "   print('Problem size: %d' % n)\n",
    "\n",
    "   A = np.empty((n, n))\n",
    "   qap_instance_file.readline()\n",
    "   for i in range(n):\n",
    "       line = qap_instance_file.readline()\n",
    "       A[i, :] = list(map(int, line[:-1].split()))\n",
    "   print('Flow matrix:\\n', A)\n",
    "\n",
    "   B = np.empty((n, n))\n",
    "   qap_instance_file.readline()\n",
    "   for i in range(n):\n",
    "       line = qap_instance_file.readline()\n",
    "       B[i, :] = list(map(int, line[:-1].split()))\n",
    "   print('Distance matrix:\\n', B)\n"
   ]
  },
  {
   "cell_type": "markdown",
   "metadata": {},
   "source": [
    "# Objective function"
   ]
  },
  {
   "cell_type": "code",
   "execution_count": 49,
   "metadata": {},
   "outputs": [],
   "source": [
    "def qap_objective_function(p):\n",
    "    s = 0.0\n",
    "    for i in range(n):\n",
    "        s += (A[i, :] * B[p[i], p]).sum()\n",
    "    return s"
   ]
  },
  {
   "cell_type": "code",
   "execution_count": 50,
   "metadata": {},
   "outputs": [
    {
     "name": "stdout",
     "output_type": "stream",
     "text": [
      "578.0 [11, 6, 8, 2, 3, 7, 10, 0, 4, 5, 9, 1]\n"
     ]
    }
   ],
   "source": [
    "p = [11, 6, 8, 2, 3, 7, 10, 0, 4, 5, 9, 1]\n",
    "print(qap_objective_function(p), p)\n"
   ]
  },
  {
   "cell_type": "markdown",
   "metadata": {},
   "source": [
    "# Random Sampling"
   ]
  },
  {
   "cell_type": "code",
   "execution_count": 51,
   "metadata": {},
   "outputs": [
    {
     "name": "stdout",
     "output_type": "stream",
     "text": [
      "63.95090174674988\n",
      "600.0 [ 2  0  1  9  8  7  6  5 11 10  3  4]\n"
     ]
    }
   ],
   "source": [
    "t0 = time.time()\n",
    "\n",
    "T = 1000000\n",
    "\n",
    "permutations = np.empty((T, n), dtype=np.int64)\n",
    "costs = np.zeros(T)\n",
    "for i in range(T):\n",
    "    permutations[i, :] = np.random.permutation(n)\n",
    "    costs[i] = qap_objective_function(permutations[i, :])\n",
    "\n",
    "print(time.time() - t0)\n",
    "\n",
    "p = permutations[costs.argmin(), :]\n",
    "print(qap_objective_function(p), p)\n"
   ]
  },
  {
   "cell_type": "code",
   "execution_count": 52,
   "metadata": {},
   "outputs": [
    {
     "data": {
      "image/png": "[encoded data removed]",
      "text/plain": [
       "<Figure size 432x288 with 1 Axes>"
      ]
     },
     "metadata": {
      "needs_background": "light"
     },
     "output_type": "display_data"
    },
    {
     "name": "stdout",
     "output_type": "stream",
     "text": [
      "812.04238 49.75125634529845\n"
     ]
    }
   ],
   "source": [
    "plt.figure()\n",
    "plt.hist(costs, bins=100)\n",
    "plt.show()\n",
    "\n",
    "print(costs.mean(), costs.std())\n"
   ]
  },
  {
   "cell_type": "markdown",
   "metadata": {},
   "source": [
    "# Simulated Annealing"
   ]
  },
  {
   "cell_type": "code",
   "execution_count": 2,
   "metadata": {},
   "outputs": [],
   "source": [
    "def random_neighbor(p, radius):\n",
    "    q = p.copy()\n",
    "    for r in range(radius):\n",
    "        i, j = np.random.choice(p.size, 2, replace=False)\n",
    "        q[i], q[j] = q[j], q[i]\n",
    "    return q\n"
   ]
  },
  {
   "cell_type": "code",
   "execution_count": 74,
   "metadata": {},
   "outputs": [],
   "source": [
    "class SA:\n",
    "    def get_objective_function(self, instance_name):\n",
    "        with open(f'QAPdata/{instance_name}') as qap_instance_file:\n",
    "           line = qap_instance_file.readline()\n",
    "           n = int(line[:-1].split()[0])\n",
    "           self.n = n\n",
    "           A = np.empty((n, n))\n",
    "           qap_instance_file.readline()\n",
    "           for i in range(n):\n",
    "               line = qap_instance_file.readline()\n",
    "               A[i, :] = list(map(int, line[:-1].split()))\n",
    "           B = np.empty((n, n))\n",
    "           qap_instance_file.readline()\n",
    "           for i in range(n):\n",
    "               line = qap_instance_file.readline()\n",
    "               B[i, :] = list(map(int, line[:-1].split()))\n",
    "        def qap_objective_function(p):\n",
    "            s = 0.0\n",
    "            for i in range(n):\n",
    "                s += (A[i, :] * B[p[i], p]).sum()\n",
    "            return s\n",
    "        return qap_objective_function\n",
    "           \n",
    "    def __init__(self, qap_instance=\"nug12.dat\", T=500000, radius=1, alpha=1.0):\n",
    "        self.T = T\n",
    "        self.radius = radius\n",
    "        self.alpha = alpha\n",
    "        self.qap_instance = qap_instance\n",
    "        self.objective_function = self.get_objective_function(qap_instance)\n",
    "        self.costs = np.zeros(self.T)\n",
    "\n",
    "    def run(self):\n",
    "        t0 = time.time()\n",
    "\n",
    "        p = np.random.permutation(self.n)\n",
    "        p_cost = self.objective_function(p)\n",
    "        self.costs = np.zeros(self.T)\n",
    "        for t in range(self.T):\n",
    "            q = random_neighbor(p, self.radius)\n",
    "            q_cost = self.objective_function(q)\n",
    "            if(q_cost < p_cost):\n",
    "                p, p_cost = q, q_cost\n",
    "            elif(np.random.rand() < np.exp(- self.alpha * (q_cost - p_cost) * t/self.T)):\n",
    "                p, p_cost = q, q_cost\n",
    "            self.costs[t] = p_cost\n",
    "\n",
    "        print(time.time() - t0, self.costs.min())\n",
    "    \n",
    "    def plot(self):\n",
    "        plt.figure()\n",
    "        plt.plot(self.costs)\n",
    "        plt.show()\n",
    "\n",
    "    def hist(self):\n",
    "        plt.figure()\n",
    "        plt.hist(self.costs, bins=100)\n",
    "        plt.show()\n"
   ]
  },
  {
   "cell_type": "code",
   "execution_count": 69,
   "metadata": {},
   "outputs": [
    {
     "name": "stdout",
     "output_type": "stream",
     "text": [
      "40.77605223655701 578.0\n"
     ]
    },
    {
     "data": {
      "image/png": "[encoded data removed]",
      "text/plain": [
       "<Figure size 432x288 with 1 Axes>"
      ]
     },
     "metadata": {
      "needs_background": "light"
     },
     "output_type": "display_data"
    }
   ],
   "source": [
    "t1 = SA(\"nug12.dat\")\n",
    "t1.run()\n",
    "t1.plot()\n"
   ]
  },
  {
   "cell_type": "code",
   "execution_count": 75,
   "metadata": {},
   "outputs": [
    {
     "name": "stdout",
     "output_type": "stream",
     "text": [
      "47.8749566078186 1036.0\n"
     ]
    },
    {
     "data": {
      "image/png": "[encoded data removed]",
      "text/plain": [
       "<Figure size 432x288 with 1 Axes>"
      ]
     },
     "metadata": {
      "needs_background": "light"
     },
     "output_type": "display_data"
    },
    {
     "data": {
      "image/png": "[encoded data removed]",
      "text/plain": [
       "<Figure size 432x288 with 1 Axes>"
      ]
     },
     "metadata": {
      "needs_background": "light"
     },
     "output_type": "display_data"
    }
   ],
   "source": [
    "t14 = SA(\"nug14.dat\")\n",
    "t14.run() \n",
    "t14.plot()\n",
    "t14.hist()"
   ]
  },
  {
   "cell_type": "code",
   "execution_count": 80,
   "metadata": {},
   "outputs": [
    {
     "name": "stdout",
     "output_type": "stream",
     "text": [
      "9.221273183822632 1038.0\n",
      "9.248680830001831 1046.0\n",
      "9.353529930114746 1068.0\n",
      "9.003610610961914 1040.0\n",
      "9.485279560089111 1046.0\n",
      "9.42493748664856 1056.0\n",
      "9.37440013885498 1068.0\n",
      "9.15229058265686 1068.0\n",
      "9.5401611328125 1068.0\n",
      "9.297677516937256 1074.0\n",
      "9.372292518615723 1050.0\n",
      "9.360657453536987 1080.0\n",
      "9.293379545211792 1070.0\n",
      "9.240007877349854 1060.0\n",
      "9.342756032943726 1054.0\n",
      "9.214213609695435 1052.0\n",
      "9.310941696166992 1064.0\n",
      "9.370575904846191 1084.0\n",
      "9.462389707565308 1036.0\n",
      "10.931941509246826 1092.0\n",
      "10.949210166931152 1054.0\n",
      "11.04177451133728 1072.0\n",
      "10.851111888885498 1064.0\n",
      "10.891939878463745 1088.0\n",
      "10.946131229400635 1046.0\n",
      "10.955950498580933 1068.0\n",
      "10.867321968078613 1046.0\n",
      "10.951809406280518 1074.0\n",
      "11.109476327896118 1032.0\n",
      "11.025690793991089 1054.0\n",
      "11.033686399459839 1066.0\n",
      "11.096608877182007 1068.0\n",
      "11.09247875213623 1072.0\n",
      "11.124107360839844 1074.0\n",
      "11.081633806228638 1060.0\n",
      "11.145690202713013 1052.0\n",
      "11.07358169555664 1038.0\n",
      "10.996754169464111 1060.0\n",
      "12.616718769073486 1070.0\n",
      "12.7084379196167 1040.0\n",
      "13.012763738632202 1046.0\n",
      "12.696272850036621 1068.0\n",
      "12.900590181350708 1064.0\n",
      "12.660797595977783 1060.0\n",
      "12.701589345932007 1046.0\n",
      "12.903008222579956 1036.0\n",
      "12.67810845375061 1078.0\n",
      "12.667044639587402 1046.0\n",
      "12.879441261291504 1032.0\n",
      "12.69685435295105 1062.0\n",
      "12.792095422744751 1056.0\n",
      "12.657782316207886 1062.0\n",
      "12.545531988143921 1060.0\n",
      "12.795302867889404 1062.0\n",
      "12.590027332305908 1044.0\n",
      "12.62817907333374 1056.0\n",
      "12.541141033172607 1034.0\n",
      "14.02385401725769 1064.0\n",
      "14.072744607925415 1084.0\n",
      "14.30858063697815 1056.0\n",
      "14.289607286453247 1058.0\n",
      "14.028030157089233 1070.0\n",
      "14.308116436004639 1068.0\n",
      "14.010622262954712 1052.0\n",
      "14.20306134223938 1086.0\n",
      "14.04500699043274 1072.0\n",
      "14.184884071350098 1046.0\n",
      "14.285617589950562 1082.0\n",
      "14.065473556518555 1064.0\n",
      "14.094309329986572 1052.0\n",
      "14.162078619003296 1044.0\n",
      "14.072533130645752 1084.0\n",
      "14.017137289047241 1038.0\n",
      "14.12598180770874 1056.0\n",
      "14.291455268859863 1032.0\n",
      "14.210489273071289 1068.0\n",
      "15.804731845855713 1070.0\n",
      "15.608631134033203 1078.0\n",
      "15.635632038116455 1098.0\n",
      "16.171886205673218 1050.0\n",
      "16.126731634140015 1038.0\n",
      "15.722811937332153 1058.0\n",
      "16.07970118522644 1058.0\n",
      "16.06631636619568 1046.0\n",
      "16.05364751815796 1068.0\n",
      "15.83547067642212 1056.0\n",
      "15.933166027069092 1062.0\n",
      "15.860708475112915 1056.0\n",
      "15.740530252456665 1052.0\n",
      "15.778147459030151 1056.0\n",
      "15.731462955474854 1052.0\n",
      "15.856833934783936 1056.0\n",
      "15.763152599334717 1088.0\n",
      "15.932969093322754 1054.0\n",
      "17.47421669960022 1052.0\n",
      "18.076228857040405 1100.0\n",
      "18.162142038345337 1102.0\n",
      "23.79882836341858 1086.0\n",
      "23.330368757247925 1062.0\n",
      "33.25149154663086 1082.0\n",
      "28.56568193435669 1088.0\n",
      "24.943267107009888 1064.0\n",
      "24.906949520111084 1064.0\n",
      "25.176594972610474 1076.0\n",
      "24.580098867416382 1086.0\n",
      "24.68686556816101 1064.0\n",
      "24.67185688018799 1108.0\n",
      "24.70648217201233 1060.0\n",
      "24.925699472427368 1062.0\n",
      "25.035057067871094 1042.0\n",
      "25.670902490615845 1072.0\n",
      "25.913158178329468 1074.0\n",
      "25.969812154769897 1060.0\n",
      "25.5097815990448 1066.0\n",
      "26.824760675430298 1096.0\n",
      "26.67127561569214 1104.0\n",
      "26.08374857902527 1066.0\n",
      "25.40665555000305 1090.0\n",
      "26.624049425125122 1072.0\n",
      "26.22975492477417 1084.0\n",
      "26.302844762802124 1044.0\n",
      "26.5079345703125 1112.0\n",
      "26.797823190689087 1078.0\n",
      "26.69355845451355 1102.0\n",
      "25.7028706073761 1086.0\n",
      "23.688442707061768 1092.0\n",
      "34.037221908569336 1106.0\n",
      "29.76917552947998 1058.0\n",
      "33.73086977005005 1082.0\n",
      "31.62252950668335 1056.0\n",
      "30.14056634902954 1072.0\n",
      "20.952964305877686 1088.0\n",
      "20.692968368530273 1066.0\n",
      "26.34151291847229 1076.0\n",
      "24.943586349487305 1092.0\n",
      "24.601366758346558 1064.0\n",
      "23.890899181365967 1050.0\n",
      "21.705662965774536 1082.0\n",
      "23.609899282455444 1084.0\n",
      "24.196903228759766 1096.0\n",
      "25.81536102294922 1108.0\n",
      "29.313921451568604 1070.0\n",
      "20.85287308692932 1064.0\n",
      "21.527709245681763 1080.0\n",
      "22.16635227203369 1086.0\n",
      "24.49768877029419 1102.0\n",
      "23.00960373878479 1082.0\n",
      "22.417322635650635 1076.0\n",
      "20.401564598083496 1076.0\n",
      "20.09975528717041 1072.0\n",
      "20.781312465667725 1060.0\n",
      "23.185885429382324 1066.0\n",
      "25.660001754760742 1118.0\n",
      "22.04773259162903 1106.0\n",
      "28.349684476852417 1092.0\n",
      "24.016672134399414 1108.0\n",
      "22.830810070037842 1098.0\n",
      "28.409446716308594 1052.0\n",
      "25.22161340713501 1108.0\n",
      "22.504748821258545 1076.0\n",
      "21.25180172920227 1108.0\n",
      "21.471460342407227 1100.0\n",
      "21.052496194839478 1096.0\n",
      "20.87384605407715 1118.0\n",
      "21.159570693969727 1088.0\n",
      "21.54663348197937 1108.0\n",
      "22.81518030166626 1058.0\n",
      "24.3701651096344 1096.0\n",
      "22.53522491455078 1080.0\n",
      "21.32777166366577 1070.0\n",
      "21.623319149017334 1102.0\n",
      "33.3843777179718 1106.0\n",
      "35.421396017074585 1084.0\n",
      "28.372966289520264 1070.0\n",
      "32.69417476654053 1110.0\n",
      "38.571192026138306 1052.0\n",
      "31.50348687171936 1106.0\n",
      "25.072004079818726 1086.0\n",
      "26.274728059768677 1106.0\n",
      "23.499257802963257 1100.0\n",
      "23.5585515499115 1078.0\n",
      "23.40583634376526 1126.0\n",
      "23.538426876068115 1104.0\n",
      "23.361128568649292 1088.0\n",
      "23.41542959213257 1114.0\n",
      "23.330071687698364 1116.0\n",
      "23.4461190700531 1092.0\n",
      "23.215044736862183 1068.0\n",
      "23.549571752548218 1094.0\n",
      "23.535600185394287 1054.0\n",
      "[(2, 1.0, 1032.0), (3, 1.1, 1032.0), (4, 1.8000000000000003, 1032.0), (3, 1.9000000000000001, 1034.0), (1, 1.9000000000000001, 1036.0), (3, 0.8, 1036.0), (1, 0.1, 1038.0), (2, 1.8000000000000003, 1038.0), (4, 1.6, 1038.0), (5, 0.5, 1038.0)]\n"
     ]
    }
   ],
   "source": [
    "best_parameters = []\n",
    "for r in range(1, 11):\n",
    "   for alpha in np.arange(0.1, 2.0, 0.1):\n",
    "      t = SA(\"nug14.dat\", T=100000, radius=r, alpha=alpha)\n",
    "      t.run()\n",
    "      best_parameters.append((r, alpha, t.costs.min()))\n",
    " \n",
    "best_parameters.sort(key= lambda x: x[2])\n",
    "print(best_parameters[:10])"
   ]
  },
  {
   "cell_type": "code",
   "execution_count": 85,
   "metadata": {},
   "outputs": [
    {
     "name": "stdout",
     "output_type": "stream",
     "text": [
      "22.30128765106201 1076.0\n",
      "26.747854232788086 1062.0\n",
      "31.0719895362854 1036.0\n",
      "20.08287000656128 1058.0\n",
      "27.511446237564087 1076.0\n",
      "19.961242198944092 1050.0\n"
     ]
    },
    {
     "data": {
      "image/png": "[encoded data removed]",
      "text/plain": [
       "<Figure size 432x288 with 1 Axes>"
      ]
     },
     "metadata": {
      "needs_background": "light"
     },
     "output_type": "display_data"
    },
    {
     "data": {
      "image/png": "[encoded data removed]",
      "text/plain": [
       "<Figure size 432x288 with 1 Axes>"
      ]
     },
     "metadata": {
      "needs_background": "light"
     },
     "output_type": "display_data"
    },
    {
     "data": {
      "image/png": "[encoded data removed]",
      "text/plain": [
       "<Figure size 432x288 with 1 Axes>"
      ]
     },
     "metadata": {
      "needs_background": "light"
     },
     "output_type": "display_data"
    },
    {
     "data": {
      "image/png": "[encoded data removed]",
      "text/plain": [
       "<Figure size 432x288 with 1 Axes>"
      ]
     },
     "metadata": {
      "needs_background": "light"
     },
     "output_type": "display_data"
    },
    {
     "data": {
      "image/png": "[encoded data removed]",
      "text/plain": [
       "<Figure size 432x288 with 1 Axes>"
      ]
     },
     "metadata": {
      "needs_background": "light"
     },
     "output_type": "display_data"
    },
    {
     "data": {
      "image/png": "[encoded data removed]",
      "text/plain": [
       "<Figure size 432x288 with 1 Axes>"
      ]
     },
     "metadata": {
      "needs_background": "light"
     },
     "output_type": "display_data"
    }
   ],
   "source": [
    "test1 = SA(\"nug14.dat\", T=200000, radius=2,alpha=1.0)\n",
    "test2 = SA(\"nug14.dat\", T=200000, radius=3, alpha=1.1)\n",
    "test3 = SA(\"nug14.dat\", T=200000, radius=4, alpha=1.8)\n",
    "test4 = SA(\"nug14.dat\", T=200000, radius=1, alpha=1.9)\n",
    "test5 = SA(\"nug14.dat\", T=200000, radius=3, alpha=0.8)\n",
    "test6 = SA(\"nug14.dat\", T=200000, radius=1, alpha=0.1)\n",
    "test1.run()\n",
    "test2.run()\n",
    "test3.run()\n",
    "test4.run()\n",
    "test5.run()\n",
    "test6.run()\n",
    "\n",
    "test1.plot()\n",
    "test2.plot()\n",
    "test3.plot()\n",
    "test4.plot()\n",
    "test5.plot()\n",
    "test6.plot()\n"
   ]
  },
  {
   "cell_type": "code",
   "execution_count": 3,
   "metadata": {},
   "outputs": [],
   "source": [
    "from scipy.stats import kendalltau\n",
    "\n",
    "class SA2:\n",
    "    def get_objective_function(self, instance_name):\n",
    "        with open(f'QAPdata/{instance_name}') as qap_instance_file:\n",
    "           line = qap_instance_file.readline()\n",
    "           n = int(line[:-1].split()[0])\n",
    "           self.n = n\n",
    "           A = np.empty((n, n))\n",
    "           qap_instance_file.readline()\n",
    "           for i in range(n):\n",
    "               line = qap_instance_file.readline()\n",
    "               A[i, :] = list(map(int, line[:-1].split()))\n",
    "           B = np.empty((n, n))\n",
    "           qap_instance_file.readline()\n",
    "           for i in range(n):\n",
    "               line = qap_instance_file.readline()\n",
    "               B[i, :] = list(map(int, line[:-1].split()))\n",
    "\n",
    "        def qap_objective_function(p):\n",
    "            s = 0.0\n",
    "            for i in range(n):\n",
    "                s += (A[i, :] * B[p[i], p]).sum()\n",
    "            return s\n",
    "        return qap_objective_function\n",
    "\n",
    "    def __init__(self, qap_instance=\"nug12.dat\", T=500000, radius=1, alpha=1.0):\n",
    "        self.T = T\n",
    "        self.radius = radius\n",
    "        self.alpha = alpha\n",
    "        self.qap_instance = qap_instance\n",
    "        self.objective_function = self.get_objective_function(qap_instance)\n",
    "        self.costs = np.zeros(self.T)\n",
    "        self.successes = np.zeros(self.T)\n",
    "        self.defeats = np.zeros(self.T)\n",
    "        self.permutation_diff = np.zeros(self.T)\n",
    "        self.score_diff = np.zeros(self.T)\n",
    "\n",
    "    def run(self):\n",
    "        t0 = time.time()\n",
    "\n",
    "        p = np.random.permutation(self.n)\n",
    "        p_cost = self.objective_function(p)\n",
    "        self.costs = np.zeros(self.T)\n",
    "        for t in range(self.T):\n",
    "            q = random_neighbor(p, self.radius)\n",
    "            q_cost = self.objective_function(q)\n",
    "            if(q_cost < p_cost):\n",
    "                self.successes[t] += 1\n",
    "                self.permutation_diff[t] = kendalltau(p, q)[0]\n",
    "                self.score_diff[t] = p_cost - q_cost\n",
    "                p, p_cost = q, q_cost\n",
    "            elif(np.random.rand() < np.exp(- self.alpha * (q_cost - p_cost) * t/self.T)):\n",
    "                self.defeats[t] += 1\n",
    "                p, p_cost = q, q_cost\n",
    "            self.costs[t] = p_cost\n",
    "\n",
    "        print(time.time() - t0, self.costs.min())\n",
    "\n",
    "    def plot(self):\n",
    "        plt.figure()\n",
    "        plt.plot(self.costs)\n",
    "        plt.show()\n",
    "\n",
    "    def hist(self):\n",
    "        plt.figure()\n",
    "        plt.hist(self.costs, bins=100)\n",
    "        plt.show()\n",
    "\n",
    "    def plot_successes(self):\n",
    "      x = np.array(self.successes).reshape(-1, 50)\n",
    "      x = x.sum(axis=1)\n",
    "      plt.figure()\n",
    "      plt.plot(x)\n",
    "      plt.show()\n",
    "   \n",
    "    def plot_defeats(self):\n",
    "      x = np.array(self.defeats).reshape(-1, 50)\n",
    "      x = x.sum(axis=1)\n",
    "      plt.figure()\n",
    "      plt.plot(x)\n",
    "      plt.show()\n",
    "\n",
    "    def plot_permutation_diff(self):\n",
    "        perm = self.permutation_diff[self.permutation_diff != 0]\n",
    "        perm = perm[::30]\n",
    "        cost = self.score_diff[self.score_diff != 0]\n",
    "        cost = cost[::30]\n",
    "        plt.figure()\n",
    "        plt.scatter(np.arange(perm.size), perm, s=1)\n",
    "        plt.show()\n",
    "        plt.figure()\n",
    "        plt.scatter(np.arange(cost.size), cost, s=1)\n",
    "        plt.show()\n"
   ]
  },
  {
   "cell_type": "code",
   "execution_count": 147,
   "metadata": {},
   "outputs": [
    {
     "name": "stdout",
     "output_type": "stream",
     "text": [
      "31.27829360961914 1048.0\n"
     ]
    },
    {
     "data": {
      "image/png": "[encoded data removed]",
      "text/plain": [
       "<Figure size 432x288 with 1 Axes>"
      ]
     },
     "metadata": {
      "needs_background": "light"
     },
     "output_type": "display_data"
    },
    {
     "data": {
      "image/png": "[encoded data removed]",
      "text/plain": [
       "<Figure size 432x288 with 1 Axes>"
      ]
     },
     "metadata": {
      "needs_background": "light"
     },
     "output_type": "display_data"
    }
   ],
   "source": [
    "test3 = SA2(\"nug14.dat\", T=200000, radius=4, alpha=1.8)\n",
    "test3.run()\n",
    "test3.plot_successes()\n",
    "test3.plot_defeats()"
   ]
  },
  {
   "cell_type": "code",
   "execution_count": 140,
   "metadata": {},
   "outputs": [
    {
     "name": "stdout",
     "output_type": "stream",
     "text": [
      "18.071717500686646 578.0\n"
     ]
    },
    {
     "data": {
      "image/png": "[encoded data removed]",
      "text/plain": [
       "<Figure size 432x288 with 1 Axes>"
      ]
     },
     "metadata": {
      "needs_background": "light"
     },
     "output_type": "display_data"
    },
    {
     "data": {
      "image/png": "[encoded data removed]",
      "text/plain": [
       "<Figure size 432x288 with 1 Axes>"
      ]
     },
     "metadata": {
      "needs_background": "light"
     },
     "output_type": "display_data"
    }
   ],
   "source": [
    "test3 = SA2(\"nug12.dat\", T=200000, radius=1, alpha=1.0)\n",
    "test3.run()\n",
    "test3.plot_successes()\n",
    "test3.plot_defeats()\n"
   ]
  },
  {
   "cell_type": "code",
   "execution_count": 141,
   "metadata": {},
   "outputs": [
    {
     "data": {
      "image/png": "[encoded data removed]",
      "text/plain": [
       "<Figure size 432x288 with 1 Axes>"
      ]
     },
     "metadata": {
      "needs_background": "light"
     },
     "output_type": "display_data"
    },
    {
     "data": {
      "image/png": "[encoded data removed]",
      "text/plain": [
       "<Figure size 432x288 with 1 Axes>"
      ]
     },
     "metadata": {
      "needs_background": "light"
     },
     "output_type": "display_data"
    },
    {
     "name": "stdout",
     "output_type": "stream",
     "text": [
      "[0.66666667 0.90909091 0.84848485 ... 0.78787879 0.78787879 0.78787879]\n"
     ]
    }
   ],
   "source": [
    "test3.plot_permutation_diff()\n",
    "print(test3.permutation_diff[test3.permutation_diff != 0])"
   ]
  },
  {
   "cell_type": "code",
   "execution_count": 145,
   "metadata": {},
   "outputs": [],
   "source": [
    "def check_further(lvl, p, r, function):\n",
    "    if lvl == 0:\n",
    "        return function(p)\n",
    "    p = random_neighbor(p, r)\n",
    "\n",
    "    return min(check_further(lvl-1, p, r, function), function(p))\n",
    "\n",
    "\n",
    "class SA3:\n",
    "    def get_objective_function(self, instance_name):\n",
    "        with open(f'QAPdata/{instance_name}') as qap_instance_file:\n",
    "           line = qap_instance_file.readline()\n",
    "           n = int(line[:-1].split()[0])\n",
    "           self.n = n\n",
    "           A = np.empty((n, n))\n",
    "           qap_instance_file.readline()\n",
    "           for i in range(n):\n",
    "               line = qap_instance_file.readline()\n",
    "               A[i, :] = list(map(int, line[:-1].split()))\n",
    "           B = np.empty((n, n))\n",
    "           qap_instance_file.readline()\n",
    "           for i in range(n):\n",
    "               line = qap_instance_file.readline()\n",
    "               B[i, :] = list(map(int, line[:-1].split()))\n",
    "\n",
    "        def qap_objective_function(p):\n",
    "            s = 0.0\n",
    "            for i in range(n):\n",
    "                s += (A[i, :] * B[p[i], p]).sum()\n",
    "            return s\n",
    "        return qap_objective_function\n",
    "\n",
    "    def __init__(self, qap_instance=\"nug12.dat\", T=500000, radius=1, alpha=1.0):\n",
    "        self.T = T\n",
    "        self.radius = radius\n",
    "        self.alpha = alpha\n",
    "        self.qap_instance = qap_instance\n",
    "        self.objective_function = self.get_objective_function(qap_instance)\n",
    "        self.costs = np.zeros(self.T)\n",
    "        self.successes = np.zeros(self.T)\n",
    "        self.defeats = np.zeros(self.T)\n",
    "        self.permutation_diff = np.zeros(self.T)\n",
    "        self.score_diff = np.zeros(self.T)\n",
    "\n",
    "    def run(self):\n",
    "        t0 = time.time()\n",
    "\n",
    "        p = np.random.permutation(self.n)\n",
    "        p_cost = self.objective_function(p)\n",
    "        self.costs = np.zeros(self.T)\n",
    "        for t in range(self.T):\n",
    "            q = random_neighbor(p, self.radius)\n",
    "            q_cost = self.objective_function(q)\n",
    "            if(q_cost < p_cost):\n",
    "                self.successes[t] += 1\n",
    "                self.permutation_diff[t] = kendalltau(p, q)[0]\n",
    "                self.score_diff[t] = p_cost - q_cost\n",
    "                p, p_cost = q, q_cost\n",
    "            elif(np.random.rand() < np.exp(- self.alpha * (q_cost - p_cost) * t/self.T) or (check_further(3, p.copy(), self.radius, self.objective_function) < p_cost)):\n",
    "                self.defeats[t] += 1\n",
    "                p, p_cost = q, q_cost\n",
    "            self.costs[t] = p_cost\n",
    "\n",
    "        print(time.time() - t0, self.costs.min())\n",
    "\n",
    "    def plot(self):\n",
    "        plt.figure()\n",
    "        plt.plot(self.costs)\n",
    "        plt.show()\n"
   ]
  },
  {
   "cell_type": "code",
   "execution_count": 146,
   "metadata": {},
   "outputs": [
    {
     "name": "stdout",
     "output_type": "stream",
     "text": [
      "119.37916254997253 1042.0\n"
     ]
    }
   ],
   "source": [
    "test3 = SA3(\"nug14.dat\", T=200000, radius=4, alpha=1.8)\n",
    "test3.run()\n"
   ]
  },
  {
   "cell_type": "code",
   "execution_count": 5,
   "metadata": {},
   "outputs": [],
   "source": [
    "class SA4:\n",
    "    def get_objective_function(self, instance_name):\n",
    "        with open(f'QAPdata/{instance_name}') as qap_instance_file:\n",
    "           line = qap_instance_file.readline()\n",
    "           n = int(line[:-1].split()[0])\n",
    "           self.n = n\n",
    "           A = np.empty((n, n))\n",
    "           qap_instance_file.readline()\n",
    "           for i in range(n):\n",
    "               line = qap_instance_file.readline()\n",
    "               A[i, :] = list(map(int, line[:-1].split()))\n",
    "           B = np.empty((n, n))\n",
    "           qap_instance_file.readline()\n",
    "           for i in range(n):\n",
    "               line = qap_instance_file.readline()\n",
    "               B[i, :] = list(map(int, line[:-1].split()))\n",
    "\n",
    "        def qap_objective_function(p):\n",
    "            s = 0.0\n",
    "            for i in range(n):\n",
    "                s += (A[i, :] * B[p[i], p]).sum()\n",
    "            return s\n",
    "        return qap_objective_function\n",
    "\n",
    "    def __init__(self, qap_instance=\"nug12.dat\", T=500000, radius=1, alpha=1.0):\n",
    "        self.T = T\n",
    "        self.radius = radius\n",
    "        self.alpha = alpha\n",
    "        self.qap_instance = qap_instance\n",
    "        self.objective_function = self.get_objective_function(qap_instance)\n",
    "        self.costs = np.zeros(self.T)\n",
    "        self.successes = np.zeros(self.T)\n",
    "        self.defeats = np.zeros(self.T)\n",
    "        self.permutation_diff = np.zeros(self.T)\n",
    "        self.score_diff = np.zeros(self.T)\n",
    "\n",
    "    def run(self):\n",
    "        t0 = time.time()\n",
    "\n",
    "        p = np.random.permutation(self.n)\n",
    "        p_cost = self.objective_function(p)\n",
    "        self.costs = np.zeros(self.T)\n",
    "        for t in range(self.T):\n",
    "            q = random_neighbor(p, self.radius)\n",
    "            q_cost = self.objective_function(q)\n",
    "            if(q_cost < p_cost):\n",
    "                self.successes[t] += 1\n",
    "                self.permutation_diff[t] = kendalltau(p, q)[0]\n",
    "                self.score_diff[t] = p_cost - q_cost\n",
    "                p, p_cost = q, q_cost\n",
    "            elif(np.random.rand() < np.exp(- self.alpha * np.sqrt(q_cost - p_cost) * t/self.T)):\n",
    "                self.defeats[t] += 1\n",
    "                p, p_cost = q, q_cost\n",
    "            self.costs[t] = p_cost\n",
    "\n",
    "        print(time.time() - t0, self.costs.min())\n",
    "\n",
    "    def plot(self):\n",
    "        plt.figure()\n",
    "        plt.plot(self.costs)\n",
    "        plt.show()\n"
   ]
  },
  {
   "cell_type": "code",
   "execution_count": 10,
   "metadata": {},
   "outputs": [
    {
     "name": "stdout",
     "output_type": "stream",
     "text": [
      "34.33372187614441 1020.0\n"
     ]
    }
   ],
   "source": [
    "test4= SA4(\"nug14.dat\", T=200000, radius=4, alpha=1.8)\n",
    "test4.run()\n"
   ]
  },
  {
   "cell_type": "code",
   "execution_count": 12,
   "metadata": {},
   "outputs": [
    {
     "name": "stdout",
     "output_type": "stream",
     "text": [
      "31.41078233718872 1160.0\n"
     ]
    }
   ],
   "source": [
    "test15 = SA4(\"nug15.dat\", T=200000, radius=4, alpha=1.8)\n",
    "test15.run()"
   ]
  },
  {
   "cell_type": "code",
   "execution_count": 13,
   "metadata": {},
   "outputs": [
    {
     "name": "stdout",
     "output_type": "stream",
     "text": [
      "33.2484827041626 1742.0\n"
     ]
    }
   ],
   "source": [
    "test17 = SA4(\"nug17.dat\", T=200000, radius=4, alpha=1.8)\n",
    "test17.run()\n"
   ]
  },
  {
   "cell_type": "code",
   "execution_count": 6,
   "metadata": {},
   "outputs": [
    {
     "name": "stdout",
     "output_type": "stream",
     "text": [
      "33.197612047195435 1036.0\n",
      "36.84722447395325 1046.0\n",
      "34.895103454589844 1042.0\n",
      "31.53566551208496 1014.0\n",
      "30.617138385772705 1014.0\n",
      "31.102439880371094 1030.0\n",
      "30.640234231948853 1024.0\n",
      "30.736182928085327 1032.0\n",
      "31.184929847717285 1054.0\n",
      "30.575271606445312 1052.0\n",
      "30.652831077575684 1024.0\n",
      "31.02590274810791 1036.0\n",
      "30.88119649887085 1036.0\n",
      "31.42181921005249 1046.0\n",
      "31.086158990859985 1024.0\n",
      "30.811798095703125 1034.0\n",
      "30.811579942703247 1034.0\n",
      "30.811418294906616 1054.0\n",
      "30.81322693824768 1038.0\n",
      "31.93828272819519 1024.0\n",
      "33.943334341049194 1034.0\n",
      "33.389031410217285 1038.0\n",
      "41.78539299964905 1048.0\n",
      "34.03301215171814 1030.0\n",
      "32.13918495178223 1022.0\n",
      "30.995576858520508 1018.0\n",
      "31.52324342727661 1024.0\n",
      "32.969780921936035 1026.0\n",
      "32.89744997024536 1028.0\n",
      "31.362209796905518 1020.0\n",
      "31.234071016311646 1028.0\n",
      "31.094934701919556 1048.0\n",
      "30.68323016166687 1046.0\n",
      "31.07621955871582 1042.0\n",
      "31.031389713287354 1054.0\n",
      "30.63687539100647 1020.0\n",
      "40.18795442581177 1020.0\n",
      "37.839876890182495 1032.0\n",
      "34.41788387298584 1038.0\n",
      "30.93365740776062 1022.0\n",
      "31.000782012939453 1030.0\n",
      "30.66020393371582 1046.0\n",
      "30.920567989349365 1024.0\n",
      "31.69593858718872 1048.0\n",
      "30.790621995925903 1026.0\n",
      "31.024160623550415 1016.0\n",
      "30.55745816230774 1016.0\n",
      "30.851179361343384 1042.0\n",
      "30.576265335083008 1056.0\n",
      "30.208195209503174 1036.0\n",
      "30.626513719558716 1016.0\n",
      "30.63331627845764 1026.0\n",
      "33.119325160980225 1034.0\n",
      "32.02067017555237 1024.0\n",
      "31.916983604431152 1034.0\n",
      "32.11460304260254 1016.0\n",
      "31.957685232162476 1034.0\n",
      "31.630852460861206 1038.0\n",
      "32.24716329574585 1042.0\n",
      "32.57217502593994 1030.0\n",
      "32.10641646385193 1030.0\n",
      "32.406933069229126 1046.0\n",
      "32.53032875061035 1032.0\n",
      "32.13208866119385 1040.0\n",
      "32.2537944316864 1030.0\n",
      "32.401249408721924 1020.0\n",
      "32.526394844055176 1030.0\n",
      "32.27380990982056 1034.0\n",
      "32.63003087043762 1032.0\n",
      "32.6507363319397 1056.0\n",
      "32.49566650390625 1048.0\n",
      "32.694689989089966 1028.0\n",
      "32.46046447753906 1038.0\n",
      "32.519681215286255 1026.0\n",
      "32.7885844707489 1020.0\n",
      "33.789650678634644 1026.0\n",
      "30.58369255065918 1032.0\n",
      "30.85633420944214 1038.0\n",
      "31.201755046844482 1020.0\n",
      "30.838415145874023 1022.0\n",
      "30.872455596923828 1016.0\n",
      "30.25664710998535 1044.0\n",
      "30.715230226516724 1024.0\n",
      "31.281142711639404 1046.0\n",
      "31.00459122657776 1016.0\n",
      "31.155956983566284 1020.0\n",
      "31.171663999557495 1040.0\n",
      "30.880303859710693 1032.0\n",
      "30.584324836730957 1038.0\n",
      "30.34352445602417 1034.0\n",
      "30.44926619529724 1046.0\n",
      "30.513032913208008 1026.0\n",
      "30.67436957359314 1052.0\n",
      "30.675655126571655 1028.0\n",
      "30.690951347351074 1036.0\n",
      "30.5310959815979 1018.0\n",
      "30.575700759887695 1046.0\n",
      "31.488136291503906 1028.0\n",
      "31.28915786743164 1042.0\n",
      "31.098872661590576 1014.0\n",
      "32.0163791179657 1030.0\n",
      "31.667419910430908 1038.0\n",
      "31.06108832359314 1042.0\n",
      "30.901734113693237 1050.0\n",
      "31.282108783721924 1022.0\n",
      "30.912038564682007 1018.0\n",
      "30.88567352294922 1026.0\n",
      "30.75342893600464 1018.0\n",
      "30.95310091972351 1024.0\n",
      "31.2268488407135 1028.0\n",
      "30.777886629104614 1024.0\n",
      "31.116198301315308 1026.0\n",
      "30.723354816436768 1046.0\n",
      "30.322756052017212 1028.0\n",
      "30.544509649276733 1030.0\n",
      "30.633151054382324 1022.0\n",
      "30.63181710243225 1036.0\n",
      "30.57326626777649 1022.0\n",
      "30.646235704421997 1024.0\n",
      "30.592674732208252 1034.0\n",
      "30.43696117401123 1026.0\n",
      "30.689552783966064 1052.0\n",
      "30.655665397644043 1038.0\n",
      "30.514421701431274 1016.0\n",
      "30.672362565994263 1046.0\n",
      "30.566256761550903 1028.0\n",
      "30.61076283454895 1022.0\n",
      "30.50933599472046 1026.0\n",
      "30.525998830795288 1020.0\n",
      "30.484548091888428 1042.0\n",
      "30.98341965675354 1028.0\n",
      "30.738999366760254 1040.0\n",
      "30.829725980758667 1034.0\n",
      "30.909462690353394 1040.0\n",
      "30.849029541015625 1028.0\n",
      "30.61236047744751 1058.0\n",
      "30.697694063186646 1030.0\n",
      "30.63623332977295 1024.0\n",
      "30.760189056396484 1038.0\n",
      "30.59203267097473 1052.0\n",
      "30.8346049785614 1026.0\n",
      "30.7320876121521 1028.0\n",
      "30.90822696685791 1014.0\n",
      "30.83655571937561 1024.0\n",
      "30.993598222732544 1032.0\n",
      "30.63434100151062 1036.0\n",
      "30.96523880958557 1032.0\n",
      "30.686355590820312 1048.0\n",
      "30.58543109893799 1038.0\n",
      "30.692526817321777 1036.0\n",
      "30.3280987739563 1048.0\n",
      "30.269237756729126 1048.0\n",
      "30.877155780792236 1042.0\n",
      "30.894290924072266 1030.0\n",
      "30.6922025680542 1036.0\n",
      "30.426958799362183 1016.0\n",
      "30.40067744255066 1022.0\n",
      "30.67747712135315 1046.0\n",
      "31.03205680847168 1052.0\n",
      "31.359675884246826 1028.0\n",
      "30.9411199092865 1050.0\n",
      "31.074665784835815 1036.0\n",
      "31.085586071014404 1038.0\n",
      "31.127113580703735 1054.0\n",
      "30.954968214035034 1030.0\n",
      "30.99060845375061 1020.0\n",
      "30.781882286071777 1054.0\n",
      "30.817816734313965 1016.0\n",
      "30.636401176452637 1018.0\n",
      "30.959078550338745 1026.0\n",
      "30.65519094467163 1020.0\n",
      "30.971233129501343 1026.0\n",
      "30.556644201278687 1026.0\n",
      "30.887667894363403 1026.0\n",
      "30.56913471221924 1040.0\n",
      "30.58727216720581 1022.0\n",
      "30.49933123588562 1028.0\n",
      "30.61061453819275 1028.0\n",
      "30.59980797767639 1046.0\n",
      "30.476255178451538 1026.0\n",
      "31.05340886116028 1026.0\n",
      "30.57661008834839 1028.0\n",
      "30.854155778884888 1026.0\n",
      "30.559711933135986 1018.0\n",
      "30.54180121421814 1034.0\n",
      "30.86820411682129 1028.0\n",
      "30.402878522872925 1034.0\n",
      "30.854353666305542 1020.0\n",
      "30.842182636260986 1024.0\n",
      "30.737223386764526 1038.0\n",
      "30.502037286758423 1038.0\n",
      "31.020247220993042 1026.0\n",
      "30.664716243743896 1046.0\n",
      "31.009567737579346 1026.0\n",
      "30.577282428741455 1032.0\n",
      "31.138052463531494 1018.0\n",
      "30.679462671279907 1040.0\n",
      "30.398449420928955 1016.0\n",
      "30.596954107284546 1040.0\n",
      "30.705333709716797 1034.0\n",
      "{1036.0: 10, 1046.0: 13, 1042.0: 8, 1014.0: 4, 1030.0: 12, 1024.0: 14, 1032.0: 9, 1054.0: 5, 1052.0: 5, 1034.0: 13, 1038.0: 14, 1048.0: 7, 1022.0: 9, 1018.0: 7, 1026.0: 20, 1028.0: 16, 1020.0: 11, 1016.0: 10, 1056.0: 2, 1040.0: 7, 1044.0: 1, 1050.0: 2, 1058.0: 1}\n"
     ]
    }
   ],
   "source": [
    "data_for_histogram = []\n",
    "dict_for_histogram = {}\n",
    "\n",
    "for i in range(200):\n",
    "   test = SA4(\"nug14.dat\", T=200000, radius=4, alpha=1.8)\n",
    "   test.run()\n",
    "   data_for_histogram.append(test.costs.min())\n",
    "   dict_for_histogram[test.costs.min()] = dict_for_histogram.get(test.costs.min(), 0) + 1\n",
    "\n",
    "print(dict_for_histogram)"
   ]
  },
  {
   "cell_type": "code",
   "execution_count": 32,
   "metadata": {},
   "outputs": [
    {
     "data": {
      "image/png": "[encoded data removed]",
      "text/plain": [
       "<Figure size 432x288 with 1 Axes>"
      ]
     },
     "metadata": {
      "needs_background": "light"
     },
     "output_type": "display_data"
    }
   ],
   "source": [
    "data_for_histogram = np.array(data_for_histogram)\n",
    "smallest = data_for_histogram.min()\n",
    "biggest = data_for_histogram.max()\n",
    "x = np.arange(smallest, biggest + 1)\n",
    "data = [dict_for_histogram.get(i, 0) for i in x]\n",
    "\n",
    "plt.bar(x, data, 1)\n",
    "plt.xticks(x[x % 6 == 0])\n",
    "plt.xlim(x.min()-1, x.max()+1)\n",
    "plt.show()"
   ]
  }
 ],
 "metadata": {
  "interpreter": {
   "hash": "31f2aee4e71d21fbe5cf8b01ff0e069b9275f58929596ceb00d14d90e3e16cd6"
  },
  "kernelspec": {
   "display_name": "Python 3.8.10 64-bit",
   "name": "python3"
  },
  "language_info": {
   "codemirror_mode": {
    "name": "ipython",
    "version": 3
   },
   "file_extension": ".py",
   "mimetype": "text/x-python",
   "name": "python",
   "nbconvert_exporter": "python",
   "pygments_lexer": "ipython3",
   "version": "3.8.10"
  },
  "orig_nbformat": 4
 },
 "nbformat": 4,
 "nbformat_minor": 2
}
