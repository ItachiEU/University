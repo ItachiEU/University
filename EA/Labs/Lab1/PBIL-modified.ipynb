{
 "cells": [
  {
   "cell_type": "code",
   "execution_count": 3,
   "metadata": {},
   "outputs": [],
   "source": [
    "import numpy as np\n",
    "import matplotlib.pyplot as plt\n",
    "import time\n",
    "import seaborn as sns\n",
    "import urllib.request\n",
    "from tqdm import tqdm\n",
    "import pandas as pd\n",
    "import multiprocessing\n",
    "import scipy.stats as sstats\n",
    "\n",
    "%matplotlib inline\n"
   ]
  },
  {
   "cell_type": "code",
   "execution_count": 4,
   "metadata": {},
   "outputs": [],
   "source": [
    "class PBIL:\n",
    "    def __init__(self, cost_function, d, N, T1, T2, T3, iterations=1000):\n",
    "        self.cost_function = cost_function\n",
    "        self.d = d    # chromosome's length\n",
    "        self.N = N    # population size\n",
    "        self.T1 = T1  # learning coeficient\n",
    "        self.T2 = T2  # mutation probability\n",
    "        self.T3 = T3  # mutation distortion probability\n",
    "        self.iterations = iterations\n",
    "        self.scores = []\n",
    "        self.ps = []  # probability vectors through iterations\n",
    "\n",
    "        # initial probability vector\n",
    "        self.p = np.ones(self.d) / 2\n",
    "        self.Population = np.random.rand(self.N, self.d) < self.p  # population\n",
    "        # population evaluation\n",
    "        self.cost = self.cost_function(self.Population)\n",
    "\n",
    "    def run(self):\n",
    "        for i in tqdm(range(self.iterations), desc='PBIL', position=0):\n",
    "            best = self.Population[np.argmax(self.cost)]\n",
    "            self.p = self.p * (1 - self.T1) + best * self.T1\n",
    "\n",
    "            self.p = np.array([self.p[i] * (1 - self.T3) + (np.random.rand() < 0.5) * self.T3\n",
    "                               if np.random.rand() < self.T2\n",
    "                               else self.p[i]\n",
    "                               for i in range(self.d)])\n",
    "\n",
    "            self.Population = np.random.rand(self.N, self.d) < self.p\n",
    "            self.cost = self.cost_function(self.Population)\n",
    "\n",
    "            self.ps.append(self.p)\n",
    "            self.scores.append(\n",
    "                [self.cost.max(), self.cost.mean(), self.cost.min()])\n",
    "\n",
    "    def plot_res(self, title=''):\n",
    "        fig, ax = plt.subplots(1, 2, figsize=(15, 5))\n",
    "        fig.suptitle(title)\n",
    "\n",
    "        ax[0].plot(np.arange(self.iterations), np.array(self.scores)\n",
    "                   [:, 0], color='green', label='Best')\n",
    "        ax[0].plot(np.arange(self.iterations), np.array(self.scores)\n",
    "                   [:, 1], color='red', label='Average')\n",
    "        ax[0].plot(np.arange(self.iterations), np.array(\n",
    "            self.scores)[:, 2], color='blue', label='Worst')\n",
    "        ax[0].legend(loc='lower right')\n",
    "        ax[0].set_title('Cost function')\n",
    "\n",
    "        ax[1].plot(np.arange(self.iterations), np.array(self.ps))\n",
    "        ax[1].set_title('Probabilities')\n",
    "\n",
    "        plt.show()\n"
   ]
  },
  {
   "cell_type": "code",
   "execution_count": 5,
   "metadata": {},
   "outputs": [],
   "source": [
    "image = np.loadtxt('lista01/ImageRawReduced.txt')\n",
    "true_image = np.loadtxt('lista01/ImageExpertReduced.txt')\n",
    "classification_rules = np.loadtxt('lista01/ClassificationRules.txt')\n"
   ]
  },
  {
   "cell_type": "code",
   "execution_count": null,
   "metadata": {},
   "outputs": [],
   "source": [
    "image = image.T\n",
    "\n",
    "def cost_function(Population, classification_rules=classification_rules, true_image=true_image):\n",
    "   evaluations = []\n",
    "   for osobnik in Population:\n",
    "      selected_rules = classification_rules[osobnik == 1]\n",
    "      selected_classes = sstats.mode(selected_rules, axis=0)[\n",
    "          0]  # (mode array, count array)\n",
    "      evaluations.append(\n",
    "          (selected_classes == true_image).sum() / true_image.size)\n",
    "   return np.array(evaluations)\n"
   ]
  }
 ],
 "metadata": {
  "interpreter": {
   "hash": "31f2aee4e71d21fbe5cf8b01ff0e069b9275f58929596ceb00d14d90e3e16cd6"
  },
  "kernelspec": {
   "display_name": "Python 3.8.10 64-bit",
   "name": "python3"
  },
  "language_info": {
   "codemirror_mode": {
    "name": "ipython",
    "version": 3
   },
   "file_extension": ".py",
   "mimetype": "text/x-python",
   "name": "python",
   "nbconvert_exporter": "python",
   "pygments_lexer": "ipython3",
   "version": "3.8.10"
  },
  "orig_nbformat": 4
 },
 "nbformat": 4,
 "nbformat_minor": 2
}
